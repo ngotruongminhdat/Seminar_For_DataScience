{
 "cells": [
  {
   "cell_type": "code",
   "execution_count": 98,
   "metadata": {},
   "outputs": [
    {
     "name": "stdout",
     "output_type": "stream",
     "text": [
      "[211.0, 1.0, 6423.0, 11978.0, 46296.0, 76260.0, 39998.0, 4887.0, 153808.0, 120849.0, 11618.0, 120432.0, 8771.0, 18327.0, 77388.0, 17149.0, 1694.0, 107898.0, 18907.0, 1837.0, 156958.0, 1178.0, 221608.0, 26890.0, 77814.0, 7731.0, 284816.0, 165433.0, 202940.0, 39419.0, 8218.0, 17902.0, 55150.0, 16350.0, 37079.0, 932.0, 19333.0, 10638.0, 152989.0, 108961.0, 253806.0, 70836.0, 36414.0, 108980.0, 18849.0, 3887.0, 84406.0, 499.0, 155315.0, 1476.0, 146385.0, 290696.0, 125685.0, 2321.0, 258768.0, 1763.0, 366.0, 29103.0, 4446.0, 199449.0, 1956.0, 47071.0, 3982.0, 10177.0, 76452.0, 36906.0, 107750.0, 88735.0, 883.0, 133020.0, 14948.0, 20624.0, 278152.0, 86287.0, 271411.0, 84036.0, 274685.0, 4629.0, 78140.0, 6014.0, 166233.0, 251828.0, 13797.0, 119940.0, 158503.0, 238467.0, 184145.0, 120560.0, 47913.0, 120091.0, 49991.0, 154865.0, 91532.0, 7798.0, 143225.0, 81954.0, 4546.0, 53082.0, 146720.0, 63838.0, 919.0, 207890.0, 133803.0, 1384.0, 3170.0, 9815.0, 228608.0, 107229.0, 176967.0, 7673.0, 39216.0, 39288.0, 193621.0, 113527.0, 70423.0, 19898.0, 84324.0, 337164.0, 92591.0, 3132.0, 132939.0, 215908.0, 82138.0, 6639.0, 232650.0, 284969.0, 189861.0, 52718.0, 58336.0, 156526.0, 112529.0, 943.0, 336494.0, 518.0, 22918.0, 4106.0, 41211.0, 11745.0, 9886.0, 3354.0, 275780.0, 46708.0, 76968.0, 86514.0, 103426.0, 76045.0, 7642.0, 80972.0, 167598.0, 14545.0, 55101.0, 71758.0, 60082.0, 10326.0, 151204.0, 173565.0, 133024.0, 52441.0, 1620.0, 230723.0, 136751.0, 48148.0, 325433.0, 177228.0, 34248.0, 332804.0, 712.0, 17844.0, 205619.0, 110609.0, 17549.0, 188468.0, 2694.0, 19971.0, 15125.0, 111539.0, 279312.0, 325863.0, 79995.0, 4927.0, 133591.0, 73732.0, 10239.0, 145399.0, 110726.0, 181732.0, 62812.0, 270852.0, 187497.0, 4475.0, 814.0, 2804.0, 192769.0, 157404.0, 6343.0, 55655.0, 13239.0, 128870.0, 288606.0, 64540.0, 174179.0, 10592.0, 146521.0, 119155.0, 311092.0, 2091.0, 153397.0, 62737.0, 18544.0, 42811.0, 229237.0, 64283.0, 117954.0, 91096.0, 306688.0, 153332.0, 13733.0, 5744.0, 305758.0, 46528.0, 1323.0, 172797.0, 239242.0, 11357.0, 1658.0, 941.0, 12371.0, 288594.0, 312140.0, 286038.0, 137101.0, 107509.0, 149372.0, 135747.0, 2108.0, 291389.0, 264916.0, 132847.0, 10718.0, 265562.0, 119213.0, 122209.0, 330210.0, 146123.0, 105467.0, 246019.0, 51889.0, 306590.0, 110801.0, 45594.0, 6190.0, 42186.0, 312139.0, 296234.0, 269222.0, 22953.0, 1725.0, 131776.0, 76924.0, 99305.0, 11929.0, 22836.0, 117279.0, 1390.0, 35200.0, 187939.0, 101499.0, 219837.0, 228668.0, 307397.0, 113629.0, 343257.0, 84534.0, 312124.0, 34358.0, 330512.0, 284411.0, 294374.0, 302190.0, 135910.0, 341576.0, 5657.0, 161043.0, 329467.0, 207680.0, 346238.0, 343772.0, 305072.0, 155555.0, 193186.0, 205581.0, 308640.0, 282349.0, 324199.0, 274858.0, 309004.0, 328881.0, 323563.0, 101897.0, 311856.0, 153686.0, 291796.0, 307343.0, 202889.0, 321143.0, 179506.0, 342304.0, 324897.0, 286530.0, 50583.0, 9536.0, 3695.0, 50729.0, 57008.0, 122831.0, 28902.0, 243957.0, 162981.0, 495.0, 9603.0, 141308.0, 43420.0, 6261.0, 188105.0, 84640.0, 200882.0, 102618.0, 35729.0, 291538.0, 189296.0, 81468.0, 309279.0, 10127.0, 149788.0, 208162.0, 1952.0, 48477.0, 326537.0, 5278.0, 115544.0, 1351.0, 80988.0, 278165.0, 224561.0, 163014.0, 163214.0, 166484.0, 1214.0, 180033.0, 109826.0, 56288.0, 285227.0, 197621.0, 179403.0, 75970.0, 164385.0, 140551.0, 1082.0, 307289.0, 186373.0, 70434.0, 224882.0, 179019.0, 173503.0, 119189.0, 74695.0, 279118.0, 286856.0, 232761.0, 292618.0, 56581.0, 178797.0, 9640.0, 832.0, 240679.0, 787.0, 42810.0, 91952.0, 334131.0, 176063.0, 344633.0, 112808.0, 295388.0, 286763.0, 46252.0, 92830.0, 109878.0, 7188.0, 118229.0, 1046.0, 306442.0, 13614.0, 136140.0, 195824.0, 5701.0, 335814.0, 146618.0, 279868.0, 1290.0, 284661.0, 153178.0, 87499.0, 338726.0, 216196.0, 219088.0, 91615.0, 73480.0, 183385.0, 117988.0, 8119.0, 153452.0, 272757.0, 44411.0, 214770.0, 309853.0, 2762.0, 79465.0, 23033.0, 282224.0, 328393.0, 239233.0, 81972.0, 4067.0, 183644.0, 287762.0, 238306.0, 156014.0, 94348.0, 77693.0, 162984.0, 317308.0, 338518.0, 274246.0, 971.0, 286850.0, 89629.0, 4447.0, 326540.0, 185449.0, 7128.0, 282239.0, 195180.0, 112924.0, 185004.0, 294815.0, 301133.0, 191770.0, 79885.0, 345684.0, 99491.0, 253359.0, 65568.0, 19632.0, 304722.0, 11212.0, 173683.0, 126917.0, 126568.0, 284190.0, 6690.0, 325625.0, 9905.0, 180204.0, 136640.0, 18975.0, 154752.0, 311088.0, 195224.0, 92257.0, 20282.0, 328607.0, 314794.0, 185792.0, 101065.0, 282356.0, 26407.0, 33989.0, 292608.0, 254366.0, 116065.0, 172761.0, 8429.0, 207571.0, 150132.0, 333019.0, 187330.0, 93666.0, 1313.0, 8596.0, 250258.0, 317122.0, 93340.0, 171761.0, 38780.0, 95623.0, 308782.0, 298854.0, 36436.0, 178428.0, 302330.0, 301750.0, 287518.0, 218643.0, 301461.0, 84917.0, 231255.0, 264354.0, 15985.0, 295944.0, 284613.0, 261849.0, 272318.0, 290339.0, 283117.0, 223229.0, 255350.0, 268179.0, 2626.0, 301054.0, 91940.0, 295075.0, 125262.0, 74985.0, 260286.0]\n"
     ]
    },
    {
     "name": "stderr",
     "output_type": "stream",
     "text": [
      "  0%|          | 0/524 [00:00<?, ?it/s]"
     ]
    },
    {
     "name": "stdout",
     "output_type": "stream",
     "text": [
      "Failed to crawl data for ID 211.0: Status code 404\n"
     ]
    },
    {
     "name": "stderr",
     "output_type": "stream",
     "text": [
      "  0%|          | 1/524 [00:01<11:06,  1.27s/it]"
     ]
    },
    {
     "name": "stdout",
     "output_type": "stream",
     "text": [
      "Failed to crawl data for ID 1.0: Status code 404\n"
     ]
    },
    {
     "name": "stderr",
     "output_type": "stream",
     "text": [
      "  0%|          | 2/524 [00:02<10:38,  1.22s/it]"
     ]
    },
    {
     "name": "stdout",
     "output_type": "stream",
     "text": [
      "Failed to crawl data for ID 6423.0: Status code 404\n"
     ]
    },
    {
     "name": "stderr",
     "output_type": "stream",
     "text": [
      "  0%|          | 2/524 [00:04<20:15,  2.33s/it]\n"
     ]
    },
    {
     "ename": "KeyboardInterrupt",
     "evalue": "",
     "output_type": "error",
     "traceback": [
      "\u001b[1;31m---------------------------------------------------------------------------\u001b[0m",
      "\u001b[1;31mKeyboardInterrupt\u001b[0m                         Traceback (most recent call last)",
      "\u001b[1;32md:\\Final Project\\Tiki-Data-Crawler\\Crawler_shop.ipynb Cell 1\u001b[0m line \u001b[0;36m<cell line: 87>\u001b[1;34m()\u001b[0m\n\u001b[0;32m    <a href='vscode-notebook-cell:/d%3A/Final%20Project/Tiki-Data-Crawler/Crawler_shop.ipynb#W0sZmlsZQ%3D%3D?line=99'>100</a>\u001b[0m         \u001b[39mprint\u001b[39m(\u001b[39m'\u001b[39m\u001b[39mError when processing ID \u001b[39m\u001b[39m{}\u001b[39;00m\u001b[39m: \u001b[39m\u001b[39m{}\u001b[39;00m\u001b[39m'\u001b[39m\u001b[39m.\u001b[39mformat(pid, \u001b[39mstr\u001b[39m(e)))\n\u001b[0;32m    <a href='vscode-notebook-cell:/d%3A/Final%20Project/Tiki-Data-Crawler/Crawler_shop.ipynb#W0sZmlsZQ%3D%3D?line=100'>101</a>\u001b[0m         Err\u001b[39m.\u001b[39mappend(pid)\n\u001b[1;32m--> <a href='vscode-notebook-cell:/d%3A/Final%20Project/Tiki-Data-Crawler/Crawler_shop.ipynb#W0sZmlsZQ%3D%3D?line=101'>102</a>\u001b[0m     time\u001b[39m.\u001b[39;49msleep(random\u001b[39m.\u001b[39;49mrandrange(\u001b[39m1\u001b[39;49m, \u001b[39m3\u001b[39;49m))\n\u001b[0;32m    <a href='vscode-notebook-cell:/d%3A/Final%20Project/Tiki-Data-Crawler/Crawler_shop.ipynb#W0sZmlsZQ%3D%3D?line=103'>104</a>\u001b[0m df_shop_inf \u001b[39m=\u001b[39m pd\u001b[39m.\u001b[39mDataFrame(result)\n\u001b[0;32m    <a href='vscode-notebook-cell:/d%3A/Final%20Project/Tiki-Data-Crawler/Crawler_shop.ipynb#W0sZmlsZQ%3D%3D?line=104'>105</a>\u001b[0m df_shop_inf\u001b[39m.\u001b[39mto_csv(\u001b[39m'\u001b[39m\u001b[39mtiki_shop_inf.csv\u001b[39m\u001b[39m'\u001b[39m, index\u001b[39m=\u001b[39m\u001b[39mFalse\u001b[39;00m)\n",
      "\u001b[1;31mKeyboardInterrupt\u001b[0m: "
     ]
    }
   ],
   "source": [
    "import pandas as pd\n",
    "import requests\n",
    "import time\n",
    "import random\n",
    "from tqdm import tqdm\n",
    "cookies = {\n",
    "    'TIKI_GUEST_TOKEN': '8jWSuIDBb2NGVzr6hsUZXpkP1FRin7lY',\n",
    "    'TOKENS': '{%22access_token%22:%228jWSuIDBb2NGVzr6hsUZXpkP1FRin7lY%22%2C%22expires_in%22:157680000%2C%22expires_at%22:1763654224277%2C%22guest_token%22:%228jWSuIDBb2NGVzr6hsUZXpkP1FRin7lY%22}',\n",
    "    'amp_99d374': 'eSc-_0HT1um7cb57E7dwA0...1enloc6a2.1enlpc1q6.b.i.t',\n",
    "    'amp_99d374_tiki.vn': 'eSc-_0HT1um7cb57E7dwA0...1enloc6a2.1enlp8817.3.1.1',\n",
    "    '_gcl_au': '1.1.559117409.1605974236',\n",
    "    '_ants_utm_v2': '',\n",
    "    '_pk_id.638735871.2fc5': 'b92ae025fbbdb31f.1605974236.1.1605975278.1605974236.',\n",
    "    '_pk_ses.638735871.2fc5': '*',\n",
    "    '_trackity': '70e316b0-96f2-dbe1-a2ed-43ff60419991',\n",
    "    '_ga_NKX31X43RV': 'GS1.1.1605974235.1.1.1605975326.0',\n",
    "    '_ga': 'GA1.1.657946765.1605974236',\n",
    "    'ai_client_id': '11935756853.1605974227',\n",
    "    'an_session': 'zizkzrzjzlzizqzlzqzjzdzizizqzgzmzkzmzlzrzmzgzdzizlzjzmzqzkznzhzhzkzdzizhzdzizlzjzmzqzkznzhzhzkzdzizlzjzmzqzkznzhzhzkzdzjzdzhzqzdzizd2f27zdzjzdzlzmzmznzq',\n",
    "    'au_aid': '11935756853',\n",
    "    'dgs': '1605975268%3A3%3A0',\n",
    "    'au_gt': '1605974227146',\n",
    "    '_ants_services': '%5B%22cuid%22%5D',\n",
    "    '__admUTMtime': '1605974236',\n",
    "    '__iid': '749',\n",
    "    '__su': '0',\n",
    "    '_bs': 'bb9a32f6-ab13-ce80-92d6-57fd3fd6e4c8',\n",
    "    '_gid': 'GA1.2.867846791.1605974237',\n",
    "    '_fbp': 'fb.1.1605974237134.1297408816',\n",
    "    '_hjid': 'f152cf33-7323-4410-b9ae-79f6622ebc48',\n",
    "    '_hjFirstSeen': '1',\n",
    "    '_hjIncludedInPageviewSample': '1',\n",
    "    '_hjAbsoluteSessionInProgress': '0',\n",
    "    '_hjIncludedInSessionSample': '1',\n",
    "    'tiki_client_id': '657946765.1605974236',\n",
    "    '__gads': 'ID=ae56424189ecccbe-227eb8e1d6c400a8:T=1605974229:RT=1605974229:S=ALNI_MZFWYf2BAjzCSiRNLC3bKI-W_7YHA',\n",
    "    'proxy_s_sv': '1605976041662',\n",
    "    'TKSESSID': '8bcd49b02e1e16aa1cdb795c54d7b460',\n",
    "    'TIKI_RECOMMENDATION': '21dd50e7f7c194df673ea3b717459249',\n",
    "    'cto_bundle': 'V9Dkml9NVXNkQmJ6aEVLcXNqbHdjcVZoQ0l5RXpOMlRybjdDT0JrUnNxVXc2bHd0N2J3Y2FCdmZVQXdYY1QlMkJYUmxXSHZ2UEFwd3IzRHhzRWJYMlQlMkJsQjhjQlA1JTJCcExyRzlUQk5CYUdMdjl2STNQanVsa3cycHd3SHElMkJabnI3dzNhREpZcFVyandyM1d1QWpJbWYxT1UyWDdHZyUzRCUzRA',\n",
    "    'TIKI_RECENTLYVIEWED': '58259141',\n",
    "    '_ants_event_his': '%7B%22action%22%3A%22view%22%2C%22time%22%3A1605974691247%7D',\n",
    "    '_gat': '1',\n",
    "}\n",
    "\n",
    "headers = {\n",
    "    'User-Agent': 'Mozilla/5.0 (Windows NT 10.0; Win64; x64) AppleWebKit/537.36 (KHTML, like Gecko) Chrome/117.0.0.0 Safari/537.36',\n",
    "    'Accept': 'application/json, text/plain, */*',\n",
    "    'Accept-Language': 'en-US,en;q=0.9,vi;q=0.8',\n",
    "    'Referer': 'https://tiki.vn/search?q=s%E1%BB%AFa%20r%E1%BB%ADa%20m%E1%BA%B7t&',\n",
    "    'X-Guest-Token': 'D9N8hbeWV7ZLQRq3aTJzt6njFvAmsEwu',\n",
    "    'Connection': 'keep-alive',\n",
    "    'TE': 'Trailers',\n",
    "}\n",
    "\n",
    "params = {\n",
    "    'seller_id': '1',\n",
    "    'mpid': '631524',\n",
    "    'spid': '631525',\n",
    "    'trackity_id': 'd7d4e235-3594-ec65-5dc2-02aa8b0de953',\n",
    "    'platform': 'destop',\n",
    "    'version':  '3',\n",
    "}\n",
    "\n",
    "def comment_parser(json_data, pid):\n",
    "    d = dict()\n",
    "    d['pid'] = pid\n",
    "    #d['stars'] = json_data.get('stars')\n",
    "    #print(d['stars'].get('1').get('count'))\n",
    "    if json_data.get('data'):\n",
    "        d['avg_rating_point'] = json_data.get('data').get('seller').get('avg_rating_point')\n",
    "        d['days_since_joined'] = json_data.get('data').get('seller').get('days_since_joined')\n",
    "        d['is_official'] = json_data.get('data').get('seller').get('is_official')\n",
    "        d['name'] = json_data.get('data').get('seller').get('name')\n",
    "        d['review_count'] = json_data.get('data').get('seller').get('review_count')\n",
    "        d['store_id'] = json_data.get('data').get('seller').get('store_id')\n",
    "        d['store_level'] = json_data.get('data').get('seller').get('store_level')\n",
    "        d['total_follower'] = json_data.get('data').get('seller').get('total_follower')\n",
    "        d['store_level'] = json_data.get('data').get('seller').get('store_level')\n",
    "    return d\n",
    "\n",
    "df_id = pd.read_csv('product_id_ncds.csv')\n",
    "p_ids = list_id\n",
    "print(p_ids)\n",
    "result = []\n",
    "Err = []\n",
    "for pid in tqdm(p_ids, total=len(p_ids)):\n",
    "    params['seller_id'] = pid\n",
    "    try:\n",
    "        response = requests.get('https://api.tiki.vn/product-detail/v2/widgets/seller?', headers=headers, params=params, cookies=cookies)\n",
    "        \n",
    "        if response.status_code == 200:\n",
    "            print('Crawl data {} success !!!'.format(pid))\n",
    "            result.append(comment_parser(response.json(), pid))\n",
    "        else:\n",
    "            print('Failed to crawl data for ID {}: Status code {}'.format(pid, response.status_code))\n",
    "            \n",
    "    except Exception as e:\n",
    "        # In ra lỗi cụ thể mà chúng ta gặp phải\n",
    "        print('Error when processing ID {}: {}'.format(pid, str(e)))\n",
    "        Err.append(pid)\n",
    "    time.sleep(random.randrange(1, 3))\n",
    "\n",
    "df_shop_inf = pd.DataFrame(result)\n",
    "df_shop_inf.to_csv('tiki_shop_inf.csv', index=False)"
   ]
  },
  {
   "cell_type": "code",
   "execution_count": null,
   "metadata": {},
   "outputs": [],
   "source": [
    "import pandas as pd\n",
    "import requests\n",
    "import time\n",
    "import random\n",
    "from tqdm import tqdm\n",
    "\n",
    "cookies = {\n",
    "    'TIKI_GUEST_TOKEN': '8jWSuIDBb2NGVzr6hsUZXpkP1FRin7lY',\n",
    "    'TOKENS': '{%22access_token%22:%228jWSuIDBb2NGVzr6hsUZXpkP1FRin7lY%22%2C%22expires_in%22:157680000%2C%22expires_at%22:1763654224277%2C%22guest_token%22:%228jWSuIDBb2NGVzr6hsUZXpkP1FRin7lY%22}',\n",
    "    'amp_99d374': 'eSc-_0HT1um7cb57E7dwA0...1enloc6a2.1enlohtdv.3.2.5',\n",
    "    'amp_99d374_tiki.vn': 'eSc-_0HT1um7cb57E7dwA0...1enloc6a2.1enlocds8.0.1.1',\n",
    "    '_gcl_au': '1.1.559117409.1605974236',\n",
    "    '_ants_utm_v2': '',\n",
    "    '_pk_id.638735871.2fc5': 'b92ae025fbbdb31f.1605974236.1.1605974420.1605974236.',\n",
    "    '_pk_ses.638735871.2fc5': '*',\n",
    "    '_trackity': '70e316b0-96f2-dbe1-a2ed-43ff60419991',\n",
    "    '_ga_NKX31X43RV': 'GS1.1.1605974235.1.1.1605974434.0',\n",
    "    '_ga': 'GA1.1.657946765.1605974236',\n",
    "    'ai_client_id': '11935756853.1605974227',\n",
    "    'an_session': 'zizkzrzjzlzizqzlzqzjzdzizizqzgzmzkzmzlzrzmzgzdzizlzjzmzqzkznzhzhzkzdzhzdzizlzjzmzqzkznzhzhzkzdzizlzjzmzqzkznzhzhzkzdzjzdzhzqzdzizd2f27zdzjzdzlzmzmznzq',\n",
    "    'au_aid': '11935756853',\n",
    "    'dgs': '1605974411%3A3%3A0',\n",
    "    'au_gt': '1605974227146',\n",
    "    '_ants_services': '%5B%22cuid%22%5D',\n",
    "    '__admUTMtime': '1605974236',\n",
    "    '__iid': '749',\n",
    "    '__su': '0',\n",
    "    '_bs': 'bb9a32f6-ab13-ce80-92d6-57fd3fd6e4c8',\n",
    "    '_gid': 'GA1.2.867846791.1605974237',\n",
    "    '_fbp': 'fb.1.1605974237134.1297408816',\n",
    "    '_hjid': 'f152cf33-7323-4410-b9ae-79f6622ebc48',\n",
    "    '_hjFirstSeen': '1',\n",
    "    '_hjIncludedInPageviewSample': '1',\n",
    "    '_hjAbsoluteSessionInProgress': '0',\n",
    "    '_hjIncludedInSessionSample': '1',\n",
    "    'tiki_client_id': '657946765.1605974236',\n",
    "    '__gads': 'ID=ae56424189ecccbe-227eb8e1d6c400a8:T=1605974229:RT=1605974229:S=ALNI_MZFWYf2BAjzCSiRNLC3bKI-W_7YHA',\n",
    "    'proxy_s_sv': '1605976041662',\n",
    "    'TKSESSID': '8bcd49b02e1e16aa1cdb795c54d7b460',\n",
    "    'TIKI_RECOMMENDATION': '21dd50e7f7c194df673ea3b717459249',\n",
    "    '_gat': '1',\n",
    "    'cto_bundle': 'i6f48l9NVXNkQmJ6aEVLcXNqbHdjcVZoQ0k2clladUF2N2xjZzJ1cjR6WG43UTVaRmglMkZXWUdtRnJTNHZRbmQ4SDAlMkZwRFhqQnppRHFxJTJCSEozZXBqRFM4ZHVxUjQ2TmklMkJIcnhJd3luZXpJSnBpcE1nJTNE',\n",
    "    'TIKI_RECENTLYVIEWED': '58259141',\n",
    "}\n",
    "\n",
    "headers = {\n",
    "    'User-Agent': 'Mozilla/5.0 (Windows NT 10.0; Win64; x64) AppleWebKit/537.36 (KHTML, like Gecko) Chrome/117.0.0.0 Safari/537.36',\n",
    "    'Accept': 'application/json, text/plain, */*',\n",
    "    'Accept-Language': 'en-US,en;q=0.9,vi;q=0.8',\n",
    "    'Referer': 'https://tiki.vn/sua-rua-mat-simple-giup-kiem-dau-ngua-mun-cho-da-mun-nhay-cam-khong-chua-xa-phong-150ml-chinh-hang-doc-quyen-p117170051.html?itm_campaign=SRC_YPD_TKA_PLA_UNK_ALL_UNK_UNK_UNK_UNK_X.173132_Y.1755459_Z.3365632_CN.Skin_Product_FW_Simple&itm_medium=CPC&itm_source=tiki-ads&spid=117170052',\n",
    "    'X-Guest-Token': 'D9N8hbeWV7ZLQRq3aTJzt6njFvAmsEwu',\n",
    "    # 'Connection': 'keep-alive',\n",
    "    # 'TE': 'Trailers',\n",
    "}\n",
    "\n",
    "params = {\n",
    "\n",
    "    'platform': 'web',\n",
    "    'spid': '187266106',\n",
    "    'version': '3',\n",
    "    #('include', 'tag,images,gallery,promotions,badges,stock_item,variants,product_links,discount_tag,ranks,breadcrumbs,top_features,cta_desktop'),\n",
    "}\n",
    "\n",
    "def parser_product(json_data):\n",
    "    d = {}\n",
    "    # Chắc chắn rằng json_data không phải là None\n",
    "    if not json_data:\n",
    "        return d\n",
    "    \n",
    "    keys = [\n",
    "        'id'\n",
    "    ]\n",
    "    for key in keys:\n",
    "        d[key] = json_data.get(key)\n",
    "    \n",
    "    if json_data.get('current_seller'):\n",
    "        d['store_id'] = json_data['current_seller'].get('id')\n",
    "    return d\n",
    "\n",
    "df_id = pd.read_csv('product_id_ncds.csv')\n",
    "p_ids = df_id.id.to_list()\n",
    "print(p_ids)\n",
    "result = []\n",
    "Err = []\n",
    "for pid in tqdm(p_ids, total=len(p_ids)):\n",
    "    try:\n",
    "        response = requests.get('https://tiki.vn/api/v2/products/{}'.format(pid), headers=headers, params=params) #, cookies=cookies)\n",
    "        \n",
    "        if response.status_code == 200:\n",
    "            print('Crawl data {} success !!!'.format(pid))\n",
    "            result.append(parser_product(response.json()))\n",
    "        else:\n",
    "            print('Failed to crawl data for ID {}: Status code {}'.format(pid, response.status_code))\n",
    "            \n",
    "    except Exception as e:\n",
    "        # In ra lỗi cụ thể mà chúng ta gặp phải\n",
    "        print('Error when processing ID {}: {}'.format(pid, str(e)))\n",
    "        Err.append(pid)\n",
    "    time.sleep(random.randrange(1, 3))\n",
    "\n",
    "df_product = pd.DataFrame(result)\n",
    "df_product.to_csv('temp.csv', index=False)"
   ]
  },
  {
   "cell_type": "code",
   "execution_count": 29,
   "metadata": {},
   "outputs": [],
   "source": [
    "pattern = re.compile(r'(\\d+\\s?ml|\\d+\\s?g)')\n",
    "list_ = []\n",
    "for name in df1.name:\n",
    "    matches = pattern.findall(name)\n",
    "    first_match = matches[0] if matches else None\n",
    "    list_.append(first_match)"
   ]
  },
  {
   "cell_type": "code",
   "execution_count": 30,
   "metadata": {},
   "outputs": [
    {
     "data": {
      "text/plain": [
       "['80g',\n",
       " '150ml',\n",
       " '80g',\n",
       " '150ml',\n",
       " None,\n",
       " '100g',\n",
       " '150g',\n",
       " '80g',\n",
       " '150g',\n",
       " '80g',\n",
       " '100g',\n",
       " '100g',\n",
       " '120g',\n",
       " '500ml',\n",
       " '473ml',\n",
       " '100g',\n",
       " '400ml',\n",
       " '150ml',\n",
       " '120ml',\n",
       " None,\n",
       " '200ml',\n",
       " '236ml',\n",
       " '400ml',\n",
       " '400ml',\n",
       " '120g',\n",
       " '120g',\n",
       " '400ml',\n",
       " '150ml',\n",
       " '100g',\n",
       " '500ml',\n",
       " '150ml',\n",
       " '100ml',\n",
       " '100g',\n",
       " '100ml',\n",
       " '90g',\n",
       " '120g',\n",
       " '120g',\n",
       " None,\n",
       " '100g',\n",
       " None,\n",
       " '100g',\n",
       " '125ml',\n",
       " None,\n",
       " '100 g',\n",
       " '100g',\n",
       " '100g',\n",
       " '140ml',\n",
       " '55ml',\n",
       " '100ml',\n",
       " '100 g',\n",
       " '200ml',\n",
       " '236ml',\n",
       " None,\n",
       " '125ml',\n",
       " '150ml',\n",
       " '100g',\n",
       " '355ml',\n",
       " '120g',\n",
       " '80g',\n",
       " '100g',\n",
       " '150ml',\n",
       " '150ml',\n",
       " '100g',\n",
       " '100ml',\n",
       " '177 ml',\n",
       " '150ml',\n",
       " '250ml',\n",
       " '120g',\n",
       " '250ml',\n",
       " '50g',\n",
       " '100g',\n",
       " '500ml',\n",
       " '120ml',\n",
       " None,\n",
       " '125ml',\n",
       " '120g',\n",
       " '269ml',\n",
       " '237ml',\n",
       " '400ml',\n",
       " '200ml',\n",
       " '100g',\n",
       " None,\n",
       " '120ml',\n",
       " '150ml',\n",
       " '100g',\n",
       " '150ml',\n",
       " '100 g',\n",
       " '500ml',\n",
       " '50ml',\n",
       " '150 ml',\n",
       " '150g',\n",
       " '125ml',\n",
       " None,\n",
       " '150g',\n",
       " '170g',\n",
       " '120g',\n",
       " '120g',\n",
       " '150ml',\n",
       " '125ml',\n",
       " '150ml',\n",
       " '100g',\n",
       " '100ml',\n",
       " '100ml',\n",
       " '236ml',\n",
       " '100ml',\n",
       " '200ml',\n",
       " '100ml',\n",
       " '473ml',\n",
       " '150ml',\n",
       " '150ml',\n",
       " '100g',\n",
       " '170g',\n",
       " '130ml',\n",
       " '236ml',\n",
       " None,\n",
       " '150ml',\n",
       " '100ml',\n",
       " '100ml',\n",
       " '30ml',\n",
       " '50ml',\n",
       " '120ml',\n",
       " '100g',\n",
       " '100ml',\n",
       " '170g',\n",
       " '40ml',\n",
       " None,\n",
       " '180ml',\n",
       " None,\n",
       " None,\n",
       " '55ml',\n",
       " '100g',\n",
       " '160ml',\n",
       " '130g',\n",
       " '150ml',\n",
       " '88ml',\n",
       " '100g',\n",
       " '100ml',\n",
       " '180ml',\n",
       " None,\n",
       " '237ml',\n",
       " '30ml',\n",
       " '50ml',\n",
       " '120ml',\n",
       " '180ml',\n",
       " '130g',\n",
       " '355ml',\n",
       " None,\n",
       " None,\n",
       " None,\n",
       " '100ml',\n",
       " '40ml',\n",
       " '130g',\n",
       " '150ml',\n",
       " None,\n",
       " '100g',\n",
       " '100g',\n",
       " '170g',\n",
       " '100ml',\n",
       " None,\n",
       " '250ml',\n",
       " None,\n",
       " '30ml',\n",
       " '60g',\n",
       " None,\n",
       " None,\n",
       " '88ml',\n",
       " '150ml',\n",
       " '50g',\n",
       " '50ml',\n",
       " '50ml',\n",
       " None,\n",
       " '120g',\n",
       " '100ml',\n",
       " '200ml',\n",
       " '120ml',\n",
       " '100g',\n",
       " None,\n",
       " '150ml',\n",
       " '100g',\n",
       " '100ml',\n",
       " '110ml',\n",
       " '200ml',\n",
       " None,\n",
       " '120ml',\n",
       " None,\n",
       " '50ml',\n",
       " '20ml',\n",
       " None,\n",
       " '50ml',\n",
       " '125ml',\n",
       " '100g',\n",
       " None,\n",
       " '80g',\n",
       " '100g',\n",
       " '120g',\n",
       " '100g',\n",
       " '100g',\n",
       " '150ml',\n",
       " '40ml',\n",
       " '120ml',\n",
       " '100g',\n",
       " '180ml',\n",
       " '150ml',\n",
       " '185g',\n",
       " '125ml',\n",
       " '1000ml',\n",
       " '200ml',\n",
       " '150ml',\n",
       " '100ml',\n",
       " '100ml',\n",
       " None,\n",
       " '500ml',\n",
       " '130ml',\n",
       " '120ml',\n",
       " '1000ml',\n",
       " None,\n",
       " None,\n",
       " '1000ml',\n",
       " '150ml',\n",
       " '150ml',\n",
       " '236ml',\n",
       " '150ml',\n",
       " '130g',\n",
       " '125ml',\n",
       " None,\n",
       " '200ml',\n",
       " None,\n",
       " '125ml',\n",
       " None,\n",
       " '100 ml',\n",
       " None,\n",
       " '130ml',\n",
       " None,\n",
       " '200ml',\n",
       " '118ml',\n",
       " '100g',\n",
       " '55ml',\n",
       " '150ml',\n",
       " '80g',\n",
       " '300ml',\n",
       " '180ml',\n",
       " '100g',\n",
       " '100g',\n",
       " '180ml',\n",
       " '60ml',\n",
       " '100g',\n",
       " '180ml',\n",
       " '120g',\n",
       " '180ml',\n",
       " '100g',\n",
       " '55ml',\n",
       " '100ml',\n",
       " None,\n",
       " '150ml',\n",
       " '150g',\n",
       " None,\n",
       " '100ml',\n",
       " '100ml',\n",
       " '100ml',\n",
       " '135ml',\n",
       " '150ml',\n",
       " '100g',\n",
       " None,\n",
       " '100g',\n",
       " None,\n",
       " '135ml',\n",
       " '150g',\n",
       " '80g',\n",
       " '30ml',\n",
       " '150ml',\n",
       " '50g',\n",
       " '150g',\n",
       " '180ml',\n",
       " '120ml',\n",
       " None,\n",
       " '100g',\n",
       " '125ml',\n",
       " '150ml',\n",
       " None,\n",
       " '400ml',\n",
       " '160ml',\n",
       " None,\n",
       " '75ml',\n",
       " '120g',\n",
       " None,\n",
       " '200ml',\n",
       " '130ml',\n",
       " '75ml',\n",
       " '200ml',\n",
       " None,\n",
       " None,\n",
       " '200ml',\n",
       " None,\n",
       " '50g',\n",
       " '30ml',\n",
       " '150ml',\n",
       " '150g',\n",
       " '170g',\n",
       " None,\n",
       " '400ml',\n",
       " '150ml',\n",
       " None,\n",
       " '40ml',\n",
       " '180ml',\n",
       " '120g',\n",
       " '50ml',\n",
       " '300ml',\n",
       " '135ml',\n",
       " '130ml',\n",
       " '236ml',\n",
       " '120ml',\n",
       " None,\n",
       " None,\n",
       " None,\n",
       " '100g',\n",
       " '60g',\n",
       " '100g',\n",
       " '170g',\n",
       " '473ml',\n",
       " '50g',\n",
       " '100ml',\n",
       " None,\n",
       " '130ml',\n",
       " '100g',\n",
       " '160ml',\n",
       " None,\n",
       " None,\n",
       " '100g',\n",
       " '150ml',\n",
       " None,\n",
       " '120ml',\n",
       " '100g',\n",
       " '100 ml',\n",
       " '100g',\n",
       " '120ml',\n",
       " None,\n",
       " '130ml',\n",
       " '125ml',\n",
       " '30g',\n",
       " '50ml',\n",
       " '150ml',\n",
       " '135ml',\n",
       " '200ml',\n",
       " '100g',\n",
       " '300ml',\n",
       " '100g',\n",
       " '10 g',\n",
       " None,\n",
       " '150ml',\n",
       " '150ml',\n",
       " None,\n",
       " '90g',\n",
       " '100 g',\n",
       " None,\n",
       " '170g',\n",
       " '120ml',\n",
       " '50g',\n",
       " '175ml',\n",
       " '170g',\n",
       " None,\n",
       " '120g',\n",
       " None,\n",
       " '150ml',\n",
       " None,\n",
       " '100ml',\n",
       " None,\n",
       " '200g',\n",
       " '236ml',\n",
       " None,\n",
       " '130g',\n",
       " '100ml',\n",
       " '150ml',\n",
       " None,\n",
       " '130g',\n",
       " '500ml',\n",
       " '237ml',\n",
       " '100ml',\n",
       " '100g',\n",
       " '170g',\n",
       " '150ml',\n",
       " '100ml',\n",
       " '200g',\n",
       " None,\n",
       " '180ml',\n",
       " '130ml',\n",
       " '300ml',\n",
       " '150ml',\n",
       " None,\n",
       " None,\n",
       " '120ml',\n",
       " '50g',\n",
       " '120ml',\n",
       " None,\n",
       " None,\n",
       " '150ml',\n",
       " '150ml',\n",
       " '310ml',\n",
       " '100ml',\n",
       " '473ml',\n",
       " None,\n",
       " '250ml',\n",
       " '100g',\n",
       " '100ml',\n",
       " '150ml',\n",
       " '150ml',\n",
       " '300ml',\n",
       " '150ml',\n",
       " '100g',\n",
       " '150ml',\n",
       " '500ml',\n",
       " None,\n",
       " '150ml',\n",
       " None,\n",
       " '150g',\n",
       " '80g',\n",
       " '100ml',\n",
       " '180ml',\n",
       " '180ml',\n",
       " '180ml',\n",
       " '100g',\n",
       " None,\n",
       " '100ml',\n",
       " '100g',\n",
       " '140ml',\n",
       " '100 g',\n",
       " '100 ml',\n",
       " '100ml',\n",
       " '100ml',\n",
       " '150ml',\n",
       " None,\n",
       " '120g',\n",
       " '125ml',\n",
       " None,\n",
       " '100g',\n",
       " '100ml',\n",
       " '160ml',\n",
       " '100ml',\n",
       " None,\n",
       " '100g',\n",
       " '50g',\n",
       " '100ml',\n",
       " None,\n",
       " '200ml',\n",
       " '500ml',\n",
       " '50ml',\n",
       " '100g',\n",
       " '100ml',\n",
       " '100ml',\n",
       " '300ml',\n",
       " '100ml',\n",
       " '125ml',\n",
       " '60ml',\n",
       " '100ml',\n",
       " '100ml',\n",
       " None,\n",
       " None,\n",
       " '400ml',\n",
       " '200ml',\n",
       " '150ml',\n",
       " '190g',\n",
       " '80ml',\n",
       " None,\n",
       " None,\n",
       " '100ml',\n",
       " '100g',\n",
       " None,\n",
       " '100g',\n",
       " '300ml',\n",
       " '200ml',\n",
       " '100g',\n",
       " '100ml',\n",
       " None,\n",
       " None,\n",
       " '150ml',\n",
       " '100ml',\n",
       " '200ml',\n",
       " '60g',\n",
       " '150ml',\n",
       " '60g',\n",
       " '130g',\n",
       " None,\n",
       " None,\n",
       " '30g',\n",
       " None,\n",
       " '50g',\n",
       " '100ml',\n",
       " '100ml',\n",
       " '160ml',\n",
       " None,\n",
       " '100ml',\n",
       " '200ml',\n",
       " '130g',\n",
       " '200ml',\n",
       " '100g',\n",
       " '50ml',\n",
       " '100ml',\n",
       " '200ml',\n",
       " None,\n",
       " '125ml',\n",
       " '150ml',\n",
       " '100g',\n",
       " '120ml',\n",
       " '150ml',\n",
       " '400ml',\n",
       " '120ml',\n",
       " '170g',\n",
       " '50ml',\n",
       " '30ml',\n",
       " '100g',\n",
       " '100ml',\n",
       " '100g',\n",
       " '150ml',\n",
       " '100g',\n",
       " '100ml',\n",
       " '250ml',\n",
       " '20ml',\n",
       " '160g',\n",
       " '120g',\n",
       " '150ml',\n",
       " '50g',\n",
       " '88ml',\n",
       " '100g',\n",
       " '150g',\n",
       " None,\n",
       " None,\n",
       " '180ml',\n",
       " '100 g',\n",
       " '473ml',\n",
       " '100g',\n",
       " None,\n",
       " '150g',\n",
       " '100ml',\n",
       " '120g',\n",
       " '150ml',\n",
       " '200ml',\n",
       " '10 g',\n",
       " '140ml',\n",
       " '200ml',\n",
       " '100ml',\n",
       " '250ml',\n",
       " '100ml',\n",
       " '50ml',\n",
       " '100g',\n",
       " '120ml',\n",
       " '250ml',\n",
       " '200ml',\n",
       " '310ml',\n",
       " '120ml',\n",
       " '120ml',\n",
       " '150ml',\n",
       " '200g',\n",
       " '50g',\n",
       " '120g',\n",
       " '100g',\n",
       " '100ml',\n",
       " None,\n",
       " '80g',\n",
       " None,\n",
       " None,\n",
       " '100ml',\n",
       " None,\n",
       " '40g',\n",
       " '200ml',\n",
       " '200ml',\n",
       " '150ml',\n",
       " '100ml',\n",
       " '200ml',\n",
       " '145ml',\n",
       " '400ml',\n",
       " '120ml',\n",
       " '80g',\n",
       " '120ml',\n",
       " '100ml',\n",
       " '50g',\n",
       " '100g',\n",
       " '100ml',\n",
       " '50g',\n",
       " '150ml',\n",
       " None,\n",
       " '100ml',\n",
       " None,\n",
       " '150ml',\n",
       " '500ml',\n",
       " None,\n",
       " '100g',\n",
       " '125ml',\n",
       " '125ml',\n",
       " None,\n",
       " '200ml',\n",
       " '300ml',\n",
       " None,\n",
       " '125ml',\n",
       " '320ml',\n",
       " '180ml',\n",
       " '150ml',\n",
       " '50ml',\n",
       " '50ml',\n",
       " '150ml',\n",
       " None,\n",
       " '100g',\n",
       " '150g',\n",
       " '150ml',\n",
       " '50ml',\n",
       " '100ml',\n",
       " '200g',\n",
       " '150 ml',\n",
       " '400ml',\n",
       " '150ml',\n",
       " '300ml',\n",
       " None,\n",
       " '120ml',\n",
       " '100g',\n",
       " '120g',\n",
       " '200ml',\n",
       " '150g',\n",
       " None,\n",
       " '150ml',\n",
       " '150ml',\n",
       " '500ml',\n",
       " '100ml',\n",
       " None,\n",
       " '200ml',\n",
       " '200ml',\n",
       " '200ml',\n",
       " '180ml',\n",
       " '300ml',\n",
       " '180ml',\n",
       " '100g',\n",
       " '150ml',\n",
       " None,\n",
       " '60ml',\n",
       " None,\n",
       " '140ml',\n",
       " '100g',\n",
       " '100ml',\n",
       " '473ml',\n",
       " '100ml',\n",
       " '150ml',\n",
       " '100g',\n",
       " '55ml',\n",
       " None,\n",
       " None,\n",
       " '40ml',\n",
       " '60ml',\n",
       " '130g',\n",
       " '100g',\n",
       " '150ml',\n",
       " '120g',\n",
       " '100g',\n",
       " '120ml',\n",
       " '237ml',\n",
       " '150ml',\n",
       " '100ml',\n",
       " '120g',\n",
       " None,\n",
       " '120ml',\n",
       " '125ml',\n",
       " '190ml',\n",
       " '120ml',\n",
       " '200ml',\n",
       " '237ml',\n",
       " '300ml',\n",
       " '100ml',\n",
       " '150ml',\n",
       " '220g',\n",
       " '150ml',\n",
       " '150ml',\n",
       " '180ml',\n",
       " '120ml',\n",
       " None,\n",
       " '150ml',\n",
       " None,\n",
       " None,\n",
       " '100g',\n",
       " '150ml',\n",
       " '125ml',\n",
       " '120ml',\n",
       " '100g',\n",
       " '150ml',\n",
       " '150ml',\n",
       " '400ml',\n",
       " '150ml',\n",
       " '150ml',\n",
       " '237ml',\n",
       " None,\n",
       " '150ml',\n",
       " '100g',\n",
       " None,\n",
       " None,\n",
       " '400ml',\n",
       " '50ml',\n",
       " '200ml',\n",
       " '100ml',\n",
       " '50ml',\n",
       " '50ml',\n",
       " '100g',\n",
       " '100g',\n",
       " None,\n",
       " '100g',\n",
       " None,\n",
       " None,\n",
       " '100g',\n",
       " '190g',\n",
       " None,\n",
       " None,\n",
       " '200ml',\n",
       " '200ml',\n",
       " '100g',\n",
       " '200ml',\n",
       " '150ml',\n",
       " '130g',\n",
       " '190g',\n",
       " None,\n",
       " '100g',\n",
       " '150ml',\n",
       " '150ml',\n",
       " None,\n",
       " None,\n",
       " '200ml',\n",
       " '150ml',\n",
       " '500ml',\n",
       " '310ml',\n",
       " '236ml',\n",
       " '100ml',\n",
       " '120g',\n",
       " '120g',\n",
       " '100g',\n",
       " '200ml',\n",
       " '200ml',\n",
       " '170g',\n",
       " '500ml',\n",
       " '30ml',\n",
       " '100ml',\n",
       " '236ml',\n",
       " '150g',\n",
       " '100g',\n",
       " '100g',\n",
       " '100ml',\n",
       " '100g',\n",
       " None,\n",
       " '150ml',\n",
       " '150ml',\n",
       " '50g',\n",
       " None,\n",
       " None,\n",
       " None,\n",
       " '45ml',\n",
       " '40ml',\n",
       " None,\n",
       " None,\n",
       " '50g',\n",
       " '125ml',\n",
       " '150ml',\n",
       " '200ml',\n",
       " None,\n",
       " '400ml',\n",
       " '150ml',\n",
       " '140ml',\n",
       " '100g',\n",
       " '100g',\n",
       " '180ml',\n",
       " '125ml',\n",
       " None,\n",
       " '120g',\n",
       " None,\n",
       " '100ml',\n",
       " None,\n",
       " None,\n",
       " '200ml',\n",
       " '100g',\n",
       " '150ml',\n",
       " '100ml',\n",
       " '150ml',\n",
       " '120g',\n",
       " '100ml',\n",
       " '150g',\n",
       " '150g',\n",
       " None,\n",
       " None,\n",
       " None,\n",
       " '190g',\n",
       " '150ml',\n",
       " '130g',\n",
       " '300ml',\n",
       " '100ml',\n",
       " '120g',\n",
       " None,\n",
       " '20ml',\n",
       " None,\n",
       " None,\n",
       " '200ml',\n",
       " None,\n",
       " '100g',\n",
       " '150ml',\n",
       " '180ml',\n",
       " '88ml',\n",
       " '150g',\n",
       " '150ml',\n",
       " '185ml',\n",
       " '500ml',\n",
       " '250ml',\n",
       " '100g',\n",
       " '190ml',\n",
       " '150ml',\n",
       " '150ml',\n",
       " '130g',\n",
       " '170g',\n",
       " '100ml',\n",
       " '130g',\n",
       " '100g',\n",
       " '130g',\n",
       " '100g',\n",
       " '1000ml',\n",
       " '150ml',\n",
       " '200ml',\n",
       " '1000ml',\n",
       " None,\n",
       " '100g',\n",
       " '180ml',\n",
       " '100ml',\n",
       " None,\n",
       " '200ml',\n",
       " None,\n",
       " '236ml',\n",
       " '100ml',\n",
       " None,\n",
       " '75ml',\n",
       " '120ml',\n",
       " '236ml',\n",
       " '125ml',\n",
       " '400ml',\n",
       " None,\n",
       " '150ml',\n",
       " '200ml',\n",
       " '120g',\n",
       " '150g',\n",
       " '180ml',\n",
       " '150ml',\n",
       " '200ml',\n",
       " None,\n",
       " '236ml',\n",
       " '150ml',\n",
       " '120g',\n",
       " '120ml',\n",
       " None,\n",
       " '100ml',\n",
       " '150ml',\n",
       " '180ml',\n",
       " '100g',\n",
       " '473ml',\n",
       " '150ml',\n",
       " '400ml',\n",
       " '160ml',\n",
       " '120ml',\n",
       " '50g',\n",
       " None,\n",
       " '200ml',\n",
       " '200ml',\n",
       " '190g',\n",
       " '200ml',\n",
       " '150ml',\n",
       " '150ml',\n",
       " '100g',\n",
       " '130g',\n",
       " '120g',\n",
       " None,\n",
       " '180ml',\n",
       " '130g',\n",
       " '100g',\n",
       " '473ml',\n",
       " '100ml',\n",
       " None,\n",
       " None,\n",
       " None,\n",
       " '60ml',\n",
       " '200ml',\n",
       " '200ml',\n",
       " '250ml',\n",
       " '100ml',\n",
       " None,\n",
       " '150ml',\n",
       " '30g',\n",
       " '400 ml',\n",
       " '120g',\n",
       " '60ml',\n",
       " None,\n",
       " '100g',\n",
       " None,\n",
       " '100ml',\n",
       " None,\n",
       " None,\n",
       " None,\n",
       " '120g',\n",
       " None,\n",
       " '240ml',\n",
       " None,\n",
       " '120ml',\n",
       " '200g',\n",
       " '100g',\n",
       " '100g',\n",
       " '120g',\n",
       " '120ml',\n",
       " None,\n",
       " '150ml',\n",
       " '400ml',\n",
       " None,\n",
       " '80ml',\n",
       " '200ml',\n",
       " '400ml',\n",
       " '260ml',\n",
       " '100g',\n",
       " '100ml',\n",
       " '50ml',\n",
       " None,\n",
       " '150ml',\n",
       " None,\n",
       " '88ml',\n",
       " '300ml',\n",
       " '200ml',\n",
       " '400ml',\n",
       " None,\n",
       " '591ml',\n",
       " None,\n",
       " '150ml',\n",
       " '150ml',\n",
       " '150ml',\n",
       " '473ml',\n",
       " None,\n",
       " '400ml',\n",
       " '200ml',\n",
       " None,\n",
       " None,\n",
       " None,\n",
       " '130g',\n",
       " None,\n",
       " '160ml',\n",
       " '100g',\n",
       " None,\n",
       " None,\n",
       " '50g',\n",
       " '150ml',\n",
       " '100ml',\n",
       " '150g',\n",
       " '150ml',\n",
       " '120ml',\n",
       " '100ml',\n",
       " '130ml',\n",
       " '100g',\n",
       " None,\n",
       " None,\n",
       " '250ml',\n",
       " '130ml',\n",
       " '100ml',\n",
       " '50ml',\n",
       " '170g',\n",
       " '150ml',\n",
       " '200 ml',\n",
       " '150ml',\n",
       " '100ml',\n",
       " '200ml',\n",
       " '240ml',\n",
       " '100ml',\n",
       " None,\n",
       " None,\n",
       " '150ml',\n",
       " None,\n",
       " '120g',\n",
       " '591ml',\n",
       " '10ml',\n",
       " '60g',\n",
       " '150ml',\n",
       " '130ml',\n",
       " '125ml',\n",
       " '150ml',\n",
       " '100ml',\n",
       " '170g',\n",
       " '400ml',\n",
       " '130g',\n",
       " '100g',\n",
       " '130ml',\n",
       " '50g',\n",
       " None,\n",
       " '50g',\n",
       " '150ml',\n",
       " '190ml',\n",
       " None,\n",
       " '150ml',\n",
       " '50ml',\n",
       " None,\n",
       " None,\n",
       " '100ml',\n",
       " None,\n",
       " '140ml',\n",
       " '150ml',\n",
       " '120g',\n",
       " '70ml',\n",
       " '310ml',\n",
       " None,\n",
       " '250ml',\n",
       " '130g',\n",
       " ...]"
      ]
     },
     "execution_count": 30,
     "metadata": {},
     "output_type": "execute_result"
    }
   ],
   "source": [
    "list_"
   ]
  },
  {
   "cell_type": "code",
   "execution_count": 59,
   "metadata": {},
   "outputs": [
    {
     "name": "stdout",
     "output_type": "stream",
     "text": [
      "0     3 năm kể từ ngày sản xuất - Xem trên bao bì sả...\n",
      "1                             3 năm kể từ ngày sản xuất\n",
      "2                             4 năm kể từ ngày sản xuất\n",
      "3                                       3 năm kể từ NSX\n",
      "4                                                   NaN\n",
      "5                                                 3 năm\n",
      "6                             3 năm kể từ ngày sản xuất\n",
      "7     4 năm kể từ ngày sản xuất - Xem trên bao bì sả...\n",
      "8                             3 năm kể từ ngày sản xuất\n",
      "9     3 năm kể từ ngày sản xuất - Xem trên bao bì sả...\n",
      "10                            3 năm kể từ ngày sản xuất\n",
      "11                               36 Tháng kể từ ngày SX\n",
      "12                             Xem trên bao bì sản phẩm\n",
      "13                               3 năm từ ngày sản xuất\n",
      "14                               3 năm từ ngày sản xuất\n",
      "15                               36 Tháng kể từ ngày SX\n",
      "16                         30 tháng kể từ ngày sản xuất\n",
      "17                            3 năm kể từ ngày sản xuất\n",
      "18                                  3 năm kể từ ngày sx\n",
      "19                                                2 năm\n",
      "20                            3 năm kể từ ngày sản xuất\n",
      "21                            3 năm kể từ ngày sản xuất\n",
      "22                         36 tháng kể từ ngày sản xuất\n",
      "23                             3 năm kể từ ngày sử dụng\n",
      "24                                     03 năm kể từ NSX\n",
      "25                             Xem trên bao bì sản phẩm\n",
      "26                            3 năm kể từ ngày sản xuất\n",
      "27                           03 năm kể từ ngày sản xuất\n",
      "28                                   36 tháng kể từ NSX\n",
      "29                               3 năm từ ngày sản xuất\n",
      "30                            3 năm kể từ ngày sản xuất\n",
      "31                               3 năm từ ngày sản xuất\n",
      "32                                                3 năm\n",
      "33                                                2 năm\n",
      "34                            5 năm kể từ ngày sản xuất\n",
      "35                                     03 năm kể từ NSX\n",
      "36                                                  NaN\n",
      "37                            3 năm kể từ ngày sản xuất\n",
      "38                            3 năm kể từ ngày sản xuất\n",
      "39                         36 tháng kể từ ngày sản xuất\n",
      "40                            3 năm kể từ ngày sản xuất\n",
      "41                                                3 năm\n",
      "42                                                3 năm\n",
      "43                                   36 tháng kể từ NSX\n",
      "44                               36 Tháng kể từ ngày SX\n",
      "45                               36 Tháng kể từ ngày SX\n",
      "46                            3 năm kể từ ngày sản xuất\n",
      "47                            3 năm kể từ ngày sản xuất\n",
      "48                               3 năm từ ngày sản xuất\n",
      "49                         36 tháng kể từ ngày sản xuất\n",
      "Name: expiry_time, dtype: object\n"
     ]
    },
    {
     "data": {
      "text/plain": [
       "0                    36\n",
       "1                    36\n",
       "2                    48\n",
       "3                    36\n",
       "4       Xem trên bao bì\n",
       "             ...       \n",
       "2019                 36\n",
       "2020                 36\n",
       "2021                 36\n",
       "2022                 12\n",
       "2023                 12\n",
       "Name: expiry_time, Length: 2024, dtype: object"
      ]
     },
     "execution_count": 59,
     "metadata": {},
     "output_type": "execute_result"
    }
   ],
   "source": [
    "df = pd.read_csv('D:\\Final Project\\Tiki-Data-Crawler\\crawled_data_ncds.csv')\n",
    "print(df['expiry_time'].iloc[:50])\n",
    "def convert_years_to_months(text):\n",
    "    try:\n",
    "        if isinstance(text, str) and not pd.isna(text):\n",
    "            parts = text.split(' ')\n",
    "\n",
    "            if parts[0].isdigit():\n",
    "                number = int(parts[0])\n",
    "\n",
    "                if 'năm' in text:\n",
    "                    return number * 12\n",
    "                elif 'Tháng' in text:\n",
    "                    return str(number) + 'tháng'\n",
    "        return 'Xem trên bao bì'\n",
    "    except Exception as e:\n",
    "        print(f\"Error converting '{text}': {e}\")\n",
    "        return None\n",
    "\n",
    "df['expiry_time'] = df['expiry_time'].apply(convert_years_to_months)\n",
    "df['expiry_time']"
   ]
  },
  {
   "cell_type": "code",
   "execution_count": 67,
   "metadata": {},
   "outputs": [
    {
     "name": "stdout",
     "output_type": "stream",
     "text": [
      "Crawl data 198455077 success !!!\n"
     ]
    },
    {
     "name": "stderr",
     "output_type": "stream",
     "text": [
      " 94%|█████████▎| 1897/2024 [55:39<04:32,  2.15s/it]"
     ]
    },
    {
     "name": "stdout",
     "output_type": "stream",
     "text": [
      "Crawl data 200820006 success !!!\n"
     ]
    },
    {
     "name": "stderr",
     "output_type": "stream",
     "text": [
      " 94%|█████████▍| 1898/2024 [55:41<04:34,  2.18s/it]"
     ]
    },
    {
     "name": "stdout",
     "output_type": "stream",
     "text": [
      "Crawl data 272028282 success !!!\n"
     ]
    },
    {
     "name": "stderr",
     "output_type": "stream",
     "text": [
      " 94%|█████████▍| 1899/2024 [55:43<04:35,  2.20s/it]"
     ]
    },
    {
     "name": "stdout",
     "output_type": "stream",
     "text": [
      "Crawl data 191124160 success !!!\n"
     ]
    },
    {
     "name": "stderr",
     "output_type": "stream",
     "text": [
      " 94%|█████████▍| 1900/2024 [55:46<04:35,  2.22s/it]"
     ]
    },
    {
     "name": "stdout",
     "output_type": "stream",
     "text": [
      "Crawl data 254094006 success !!!\n"
     ]
    },
    {
     "name": "stderr",
     "output_type": "stream",
     "text": [
      " 94%|█████████▍| 1901/2024 [55:48<04:34,  2.23s/it]"
     ]
    },
    {
     "name": "stdout",
     "output_type": "stream",
     "text": [
      "Crawl data 229800555 success !!!\n"
     ]
    },
    {
     "name": "stderr",
     "output_type": "stream",
     "text": [
      " 94%|█████████▍| 1902/2024 [55:49<03:55,  1.93s/it]"
     ]
    },
    {
     "name": "stdout",
     "output_type": "stream",
     "text": [
      "Crawl data 188695364 success !!!\n"
     ]
    },
    {
     "name": "stderr",
     "output_type": "stream",
     "text": [
      " 94%|█████████▍| 1903/2024 [55:50<03:27,  1.72s/it]"
     ]
    },
    {
     "name": "stdout",
     "output_type": "stream",
     "text": [
      "Crawl data 196005369 success !!!\n"
     ]
    },
    {
     "name": "stderr",
     "output_type": "stream",
     "text": [
      " 94%|█████████▍| 1904/2024 [55:52<03:45,  1.88s/it]"
     ]
    },
    {
     "name": "stdout",
     "output_type": "stream",
     "text": [
      "Crawl data 197686267 success !!!\n"
     ]
    },
    {
     "name": "stderr",
     "output_type": "stream",
     "text": [
      " 94%|█████████▍| 1905/2024 [55:55<03:55,  1.98s/it]"
     ]
    },
    {
     "name": "stdout",
     "output_type": "stream",
     "text": [
      "Crawl data 195202042 success !!!\n"
     ]
    },
    {
     "name": "stderr",
     "output_type": "stream",
     "text": [
      " 94%|█████████▍| 1906/2024 [55:57<04:01,  2.04s/it]"
     ]
    },
    {
     "name": "stdout",
     "output_type": "stream",
     "text": [
      "Crawl data 197663775 success !!!\n"
     ]
    },
    {
     "name": "stderr",
     "output_type": "stream",
     "text": [
      " 94%|█████████▍| 1907/2024 [55:59<04:12,  2.15s/it]"
     ]
    },
    {
     "name": "stdout",
     "output_type": "stream",
     "text": [
      "Crawl data 251462624 success !!!\n"
     ]
    },
    {
     "name": "stderr",
     "output_type": "stream",
     "text": [
      " 94%|█████████▍| 1908/2024 [56:01<03:37,  1.87s/it]"
     ]
    },
    {
     "name": "stdout",
     "output_type": "stream",
     "text": [
      "Crawl data 272517900 success !!!\n"
     ]
    },
    {
     "name": "stderr",
     "output_type": "stream",
     "text": [
      " 94%|█████████▍| 1909/2024 [56:02<03:13,  1.68s/it]"
     ]
    },
    {
     "name": "stdout",
     "output_type": "stream",
     "text": [
      "Crawl data 159786716 success !!!\n"
     ]
    },
    {
     "name": "stderr",
     "output_type": "stream",
     "text": [
      " 94%|█████████▍| 1910/2024 [56:05<04:07,  2.17s/it]"
     ]
    },
    {
     "name": "stdout",
     "output_type": "stream",
     "text": [
      "Crawl data 124390572 success !!!\n"
     ]
    },
    {
     "name": "stderr",
     "output_type": "stream",
     "text": [
      " 94%|█████████▍| 1911/2024 [56:07<04:07,  2.19s/it]"
     ]
    },
    {
     "name": "stdout",
     "output_type": "stream",
     "text": [
      "Crawl data 96311686 success !!!\n"
     ]
    },
    {
     "name": "stderr",
     "output_type": "stream",
     "text": [
      " 94%|█████████▍| 1912/2024 [56:09<03:41,  1.98s/it]"
     ]
    },
    {
     "name": "stdout",
     "output_type": "stream",
     "text": [
      "Crawl data 111841531 success !!!\n"
     ]
    },
    {
     "name": "stderr",
     "output_type": "stream",
     "text": [
      " 95%|█████████▍| 1913/2024 [56:11<03:47,  2.05s/it]"
     ]
    },
    {
     "name": "stdout",
     "output_type": "stream",
     "text": [
      "Crawl data 272037865 success !!!\n"
     ]
    },
    {
     "name": "stderr",
     "output_type": "stream",
     "text": [
      " 95%|█████████▍| 1914/2024 [56:13<03:51,  2.11s/it]"
     ]
    },
    {
     "name": "stdout",
     "output_type": "stream",
     "text": [
      "Crawl data 109015817 success !!!\n"
     ]
    },
    {
     "name": "stderr",
     "output_type": "stream",
     "text": [
      " 95%|█████████▍| 1915/2024 [56:16<03:56,  2.17s/it]"
     ]
    },
    {
     "name": "stdout",
     "output_type": "stream",
     "text": [
      "Crawl data 196004010 success !!!\n"
     ]
    },
    {
     "name": "stderr",
     "output_type": "stream",
     "text": [
      " 95%|█████████▍| 1916/2024 [56:18<03:55,  2.18s/it]"
     ]
    },
    {
     "name": "stdout",
     "output_type": "stream",
     "text": [
      "Crawl data 173997848 success !!!\n"
     ]
    },
    {
     "name": "stderr",
     "output_type": "stream",
     "text": [
      " 95%|█████████▍| 1917/2024 [56:19<03:23,  1.90s/it]"
     ]
    },
    {
     "name": "stdout",
     "output_type": "stream",
     "text": [
      "Crawl data 197142648 success !!!\n"
     ]
    },
    {
     "name": "stderr",
     "output_type": "stream",
     "text": [
      " 95%|█████████▍| 1918/2024 [56:22<04:05,  2.32s/it]"
     ]
    },
    {
     "name": "stdout",
     "output_type": "stream",
     "text": [
      "Crawl data 172939775 success !!!\n"
     ]
    },
    {
     "name": "stderr",
     "output_type": "stream",
     "text": [
      " 95%|█████████▍| 1919/2024 [56:25<04:03,  2.32s/it]"
     ]
    },
    {
     "name": "stdout",
     "output_type": "stream",
     "text": [
      "Crawl data 198587093 success !!!\n"
     ]
    },
    {
     "name": "stderr",
     "output_type": "stream",
     "text": [
      " 95%|█████████▍| 1920/2024 [56:26<03:30,  2.02s/it]"
     ]
    },
    {
     "name": "stdout",
     "output_type": "stream",
     "text": [
      "Crawl data 249861515 success !!!\n"
     ]
    },
    {
     "name": "stderr",
     "output_type": "stream",
     "text": [
      " 95%|█████████▍| 1921/2024 [56:27<03:04,  1.79s/it]"
     ]
    },
    {
     "name": "stdout",
     "output_type": "stream",
     "text": [
      "Crawl data 174515140 success !!!\n"
     ]
    },
    {
     "name": "stderr",
     "output_type": "stream",
     "text": [
      " 95%|█████████▍| 1922/2024 [56:28<02:44,  1.61s/it]"
     ]
    },
    {
     "name": "stdout",
     "output_type": "stream",
     "text": [
      "Crawl data 200802021 success !!!\n"
     ]
    },
    {
     "name": "stderr",
     "output_type": "stream",
     "text": [
      " 95%|█████████▌| 1923/2024 [56:31<03:02,  1.81s/it]"
     ]
    },
    {
     "name": "stdout",
     "output_type": "stream",
     "text": [
      "Crawl data 56248271 success !!!\n"
     ]
    },
    {
     "name": "stderr",
     "output_type": "stream",
     "text": [
      " 95%|█████████▌| 1924/2024 [56:33<03:15,  1.95s/it]"
     ]
    },
    {
     "name": "stdout",
     "output_type": "stream",
     "text": [
      "Crawl data 174514598 success !!!\n"
     ]
    },
    {
     "name": "stderr",
     "output_type": "stream",
     "text": [
      " 95%|█████████▌| 1925/2024 [56:34<02:52,  1.74s/it]"
     ]
    },
    {
     "name": "stdout",
     "output_type": "stream",
     "text": [
      "Crawl data 51376290 success !!!\n"
     ]
    },
    {
     "name": "stderr",
     "output_type": "stream",
     "text": [
      " 95%|█████████▌| 1926/2024 [56:36<03:04,  1.88s/it]"
     ]
    },
    {
     "name": "stdout",
     "output_type": "stream",
     "text": [
      "Crawl data 135282804 success !!!\n"
     ]
    },
    {
     "name": "stderr",
     "output_type": "stream",
     "text": [
      " 95%|█████████▌| 1927/2024 [56:38<02:44,  1.69s/it]"
     ]
    },
    {
     "name": "stdout",
     "output_type": "stream",
     "text": [
      "Crawl data 193437616 success !!!\n"
     ]
    },
    {
     "name": "stderr",
     "output_type": "stream",
     "text": [
      " 95%|█████████▌| 1928/2024 [56:40<02:57,  1.85s/it]"
     ]
    },
    {
     "name": "stdout",
     "output_type": "stream",
     "text": [
      "Crawl data 186370196 success !!!\n"
     ]
    },
    {
     "name": "stderr",
     "output_type": "stream",
     "text": [
      " 95%|█████████▌| 1929/2024 [56:42<03:06,  1.96s/it]"
     ]
    },
    {
     "name": "stdout",
     "output_type": "stream",
     "text": [
      "Crawl data 177280795 success !!!\n"
     ]
    },
    {
     "name": "stderr",
     "output_type": "stream",
     "text": [
      " 95%|█████████▌| 1930/2024 [56:44<03:12,  2.05s/it]"
     ]
    },
    {
     "name": "stdout",
     "output_type": "stream",
     "text": [
      "Crawl data 164992845 success !!!\n"
     ]
    },
    {
     "name": "stderr",
     "output_type": "stream",
     "text": [
      " 95%|█████████▌| 1931/2024 [56:47<03:15,  2.11s/it]"
     ]
    },
    {
     "name": "stdout",
     "output_type": "stream",
     "text": [
      "Crawl data 252052025 success !!!\n"
     ]
    },
    {
     "name": "stderr",
     "output_type": "stream",
     "text": [
      " 95%|█████████▌| 1932/2024 [56:49<03:18,  2.15s/it]"
     ]
    },
    {
     "name": "stdout",
     "output_type": "stream",
     "text": [
      "Crawl data 14453222 success !!!\n"
     ]
    },
    {
     "name": "stderr",
     "output_type": "stream",
     "text": [
      " 96%|█████████▌| 1933/2024 [56:51<03:19,  2.19s/it]"
     ]
    },
    {
     "name": "stdout",
     "output_type": "stream",
     "text": [
      "Crawl data 196347743 success !!!\n"
     ]
    },
    {
     "name": "stderr",
     "output_type": "stream",
     "text": [
      " 96%|█████████▌| 1934/2024 [56:52<02:51,  1.91s/it]"
     ]
    },
    {
     "name": "stdout",
     "output_type": "stream",
     "text": [
      "Crawl data 188848709 success !!!\n"
     ]
    },
    {
     "name": "stderr",
     "output_type": "stream",
     "text": [
      " 96%|█████████▌| 1935/2024 [56:54<02:31,  1.70s/it]"
     ]
    },
    {
     "name": "stdout",
     "output_type": "stream",
     "text": [
      "Crawl data 172935365 success !!!\n"
     ]
    },
    {
     "name": "stderr",
     "output_type": "stream",
     "text": [
      " 96%|█████████▌| 1936/2024 [56:55<02:16,  1.55s/it]"
     ]
    },
    {
     "name": "stdout",
     "output_type": "stream",
     "text": [
      "Crawl data 14566364 success !!!\n"
     ]
    },
    {
     "name": "stderr",
     "output_type": "stream",
     "text": [
      " 96%|█████████▌| 1937/2024 [56:57<02:33,  1.76s/it]"
     ]
    },
    {
     "name": "stdout",
     "output_type": "stream",
     "text": [
      "Crawl data 212324031 success !!!\n"
     ]
    },
    {
     "name": "stderr",
     "output_type": "stream",
     "text": [
      " 96%|█████████▌| 1938/2024 [56:58<02:18,  1.61s/it]"
     ]
    },
    {
     "name": "stdout",
     "output_type": "stream",
     "text": [
      "Crawl data 137914556 success !!!\n"
     ]
    },
    {
     "name": "stderr",
     "output_type": "stream",
     "text": [
      " 96%|█████████▌| 1939/2024 [57:00<02:06,  1.49s/it]"
     ]
    },
    {
     "name": "stdout",
     "output_type": "stream",
     "text": [
      "Crawl data 181780137 success !!!\n"
     ]
    },
    {
     "name": "stderr",
     "output_type": "stream",
     "text": [
      " 96%|█████████▌| 1940/2024 [57:01<01:58,  1.41s/it]"
     ]
    },
    {
     "name": "stdout",
     "output_type": "stream",
     "text": [
      "Crawl data 184781477 success !!!\n"
     ]
    },
    {
     "name": "stderr",
     "output_type": "stream",
     "text": [
      " 96%|█████████▌| 1941/2024 [57:02<01:52,  1.35s/it]"
     ]
    },
    {
     "name": "stdout",
     "output_type": "stream",
     "text": [
      "Crawl data 184880949 success !!!\n"
     ]
    },
    {
     "name": "stderr",
     "output_type": "stream",
     "text": [
      " 96%|█████████▌| 1942/2024 [57:03<01:48,  1.32s/it]"
     ]
    },
    {
     "name": "stdout",
     "output_type": "stream",
     "text": [
      "Crawl data 174113080 success !!!\n"
     ]
    },
    {
     "name": "stderr",
     "output_type": "stream",
     "text": [
      " 96%|█████████▌| 1943/2024 [57:05<02:08,  1.58s/it]"
     ]
    },
    {
     "name": "stdout",
     "output_type": "stream",
     "text": [
      "Crawl data 198122436 success !!!\n"
     ]
    },
    {
     "name": "stderr",
     "output_type": "stream",
     "text": [
      " 96%|█████████▌| 1944/2024 [57:08<02:22,  1.78s/it]"
     ]
    },
    {
     "name": "stdout",
     "output_type": "stream",
     "text": [
      "Crawl data 178465526 success !!!\n"
     ]
    },
    {
     "name": "stderr",
     "output_type": "stream",
     "text": [
      " 96%|█████████▌| 1945/2024 [57:09<02:07,  1.62s/it]"
     ]
    },
    {
     "name": "stdout",
     "output_type": "stream",
     "text": [
      "Crawl data 160295050 success !!!\n"
     ]
    },
    {
     "name": "stderr",
     "output_type": "stream",
     "text": [
      " 96%|█████████▌| 1946/2024 [57:11<02:20,  1.80s/it]"
     ]
    },
    {
     "name": "stdout",
     "output_type": "stream",
     "text": [
      "Crawl data 188176234 success !!!\n"
     ]
    },
    {
     "name": "stderr",
     "output_type": "stream",
     "text": [
      " 96%|█████████▌| 1947/2024 [57:13<02:28,  1.93s/it]"
     ]
    },
    {
     "name": "stdout",
     "output_type": "stream",
     "text": [
      "Crawl data 185340437 success !!!\n"
     ]
    },
    {
     "name": "stderr",
     "output_type": "stream",
     "text": [
      " 96%|█████████▌| 1948/2024 [57:16<02:34,  2.03s/it]"
     ]
    },
    {
     "name": "stdout",
     "output_type": "stream",
     "text": [
      "Crawl data 178465516 success !!!\n"
     ]
    },
    {
     "name": "stderr",
     "output_type": "stream",
     "text": [
      " 96%|█████████▋| 1949/2024 [57:18<02:36,  2.08s/it]"
     ]
    },
    {
     "name": "stdout",
     "output_type": "stream",
     "text": [
      "Crawl data 185307286 success !!!\n"
     ]
    },
    {
     "name": "stderr",
     "output_type": "stream",
     "text": [
      " 96%|█████████▋| 1950/2024 [57:20<02:36,  2.12s/it]"
     ]
    },
    {
     "name": "stdout",
     "output_type": "stream",
     "text": [
      "Crawl data 186370226 success !!!\n"
     ]
    },
    {
     "name": "stderr",
     "output_type": "stream",
     "text": [
      " 96%|█████████▋| 1951/2024 [57:22<02:37,  2.16s/it]"
     ]
    },
    {
     "name": "stdout",
     "output_type": "stream",
     "text": [
      "Crawl data 180325872 success !!!\n"
     ]
    },
    {
     "name": "stderr",
     "output_type": "stream",
     "text": [
      " 96%|█████████▋| 1952/2024 [57:24<02:36,  2.17s/it]"
     ]
    },
    {
     "name": "stdout",
     "output_type": "stream",
     "text": [
      "Crawl data 192669803 success !!!\n"
     ]
    },
    {
     "name": "stderr",
     "output_type": "stream",
     "text": [
      " 96%|█████████▋| 1953/2024 [57:26<02:14,  1.90s/it]"
     ]
    },
    {
     "name": "stdout",
     "output_type": "stream",
     "text": [
      "Crawl data 195479755 success !!!\n"
     ]
    },
    {
     "name": "stderr",
     "output_type": "stream",
     "text": [
      " 97%|█████████▋| 1954/2024 [57:27<01:58,  1.69s/it]"
     ]
    },
    {
     "name": "stdout",
     "output_type": "stream",
     "text": [
      "Crawl data 179718677 success !!!\n"
     ]
    },
    {
     "name": "stderr",
     "output_type": "stream",
     "text": [
      " 97%|█████████▋| 1955/2024 [57:28<01:46,  1.55s/it]"
     ]
    },
    {
     "name": "stdout",
     "output_type": "stream",
     "text": [
      "Crawl data 242434987 success !!!\n"
     ]
    },
    {
     "name": "stderr",
     "output_type": "stream",
     "text": [
      " 97%|█████████▋| 1956/2024 [57:29<01:38,  1.45s/it]"
     ]
    },
    {
     "name": "stdout",
     "output_type": "stream",
     "text": [
      "Crawl data 252135907 success !!!\n"
     ]
    },
    {
     "name": "stderr",
     "output_type": "stream",
     "text": [
      " 97%|█████████▋| 1957/2024 [57:32<01:54,  1.71s/it]"
     ]
    },
    {
     "name": "stdout",
     "output_type": "stream",
     "text": [
      "Crawl data 196159021 success !!!\n"
     ]
    },
    {
     "name": "stderr",
     "output_type": "stream",
     "text": [
      " 97%|█████████▋| 1958/2024 [57:34<02:03,  1.87s/it]"
     ]
    },
    {
     "name": "stdout",
     "output_type": "stream",
     "text": [
      "Crawl data 254093878 success !!!\n"
     ]
    },
    {
     "name": "stderr",
     "output_type": "stream",
     "text": [
      " 97%|█████████▋| 1959/2024 [57:36<02:08,  1.97s/it]"
     ]
    },
    {
     "name": "stdout",
     "output_type": "stream",
     "text": [
      "Crawl data 185977070 success !!!\n"
     ]
    },
    {
     "name": "stderr",
     "output_type": "stream",
     "text": [
      " 97%|█████████▋| 1960/2024 [57:37<01:53,  1.77s/it]"
     ]
    },
    {
     "name": "stdout",
     "output_type": "stream",
     "text": [
      "Crawl data 212601251 success !!!\n"
     ]
    },
    {
     "name": "stderr",
     "output_type": "stream",
     "text": [
      " 97%|█████████▋| 1961/2024 [57:39<01:40,  1.60s/it]"
     ]
    },
    {
     "name": "stdout",
     "output_type": "stream",
     "text": [
      "Crawl data 190792369 success !!!\n"
     ]
    },
    {
     "name": "stderr",
     "output_type": "stream",
     "text": [
      " 97%|█████████▋| 1962/2024 [57:41<01:50,  1.78s/it]"
     ]
    },
    {
     "name": "stdout",
     "output_type": "stream",
     "text": [
      "Crawl data 190855001 success !!!\n"
     ]
    },
    {
     "name": "stderr",
     "output_type": "stream",
     "text": [
      " 97%|█████████▋| 1963/2024 [57:43<01:57,  1.93s/it]"
     ]
    },
    {
     "name": "stdout",
     "output_type": "stream",
     "text": [
      "Crawl data 185226049 success !!!\n"
     ]
    },
    {
     "name": "stderr",
     "output_type": "stream",
     "text": [
      " 97%|█████████▋| 1964/2024 [57:45<02:01,  2.03s/it]"
     ]
    },
    {
     "name": "stdout",
     "output_type": "stream",
     "text": [
      "Crawl data 248682482 success !!!\n"
     ]
    },
    {
     "name": "stderr",
     "output_type": "stream",
     "text": [
      " 97%|█████████▋| 1965/2024 [57:48<02:03,  2.09s/it]"
     ]
    },
    {
     "name": "stdout",
     "output_type": "stream",
     "text": [
      "Crawl data 197655148 success !!!\n"
     ]
    },
    {
     "name": "stderr",
     "output_type": "stream",
     "text": [
      " 97%|█████████▋| 1966/2024 [57:49<01:46,  1.83s/it]"
     ]
    },
    {
     "name": "stdout",
     "output_type": "stream",
     "text": [
      "Crawl data 75954484 success !!!\n"
     ]
    },
    {
     "name": "stderr",
     "output_type": "stream",
     "text": [
      " 97%|█████████▋| 1967/2024 [57:50<01:34,  1.65s/it]"
     ]
    },
    {
     "name": "stdout",
     "output_type": "stream",
     "text": [
      "Crawl data 191388613 success !!!\n"
     ]
    },
    {
     "name": "stderr",
     "output_type": "stream",
     "text": [
      " 97%|█████████▋| 1968/2024 [57:52<01:41,  1.81s/it]"
     ]
    },
    {
     "name": "stdout",
     "output_type": "stream",
     "text": [
      "Crawl data 195357830 success !!!\n"
     ]
    },
    {
     "name": "stderr",
     "output_type": "stream",
     "text": [
      " 97%|█████████▋| 1969/2024 [57:54<01:30,  1.65s/it]"
     ]
    },
    {
     "name": "stdout",
     "output_type": "stream",
     "text": [
      "Crawl data 184781818 success !!!\n"
     ]
    },
    {
     "name": "stderr",
     "output_type": "stream",
     "text": [
      " 97%|█████████▋| 1970/2024 [57:55<01:23,  1.54s/it]"
     ]
    },
    {
     "name": "stdout",
     "output_type": "stream",
     "text": [
      "Crawl data 198518814 success !!!\n"
     ]
    },
    {
     "name": "stderr",
     "output_type": "stream",
     "text": [
      " 97%|█████████▋| 1971/2024 [57:57<01:32,  1.75s/it]"
     ]
    },
    {
     "name": "stdout",
     "output_type": "stream",
     "text": [
      "Crawl data 195526449 success !!!\n"
     ]
    },
    {
     "name": "stderr",
     "output_type": "stream",
     "text": [
      " 97%|█████████▋| 1972/2024 [57:58<01:22,  1.59s/it]"
     ]
    },
    {
     "name": "stdout",
     "output_type": "stream",
     "text": [
      "Crawl data 189659190 success !!!\n"
     ]
    },
    {
     "name": "stderr",
     "output_type": "stream",
     "text": [
      " 97%|█████████▋| 1973/2024 [58:00<01:16,  1.49s/it]"
     ]
    },
    {
     "name": "stdout",
     "output_type": "stream",
     "text": [
      "Crawl data 186253559 success !!!\n"
     ]
    },
    {
     "name": "stderr",
     "output_type": "stream",
     "text": [
      " 98%|█████████▊| 1974/2024 [58:02<01:25,  1.71s/it]"
     ]
    },
    {
     "name": "stdout",
     "output_type": "stream",
     "text": [
      "Crawl data 184764415 success !!!\n"
     ]
    },
    {
     "name": "stderr",
     "output_type": "stream",
     "text": [
      " 98%|█████████▊| 1975/2024 [58:03<01:16,  1.56s/it]"
     ]
    },
    {
     "name": "stdout",
     "output_type": "stream",
     "text": [
      "Crawl data 169844791 success !!!\n"
     ]
    },
    {
     "name": "stderr",
     "output_type": "stream",
     "text": [
      " 98%|█████████▊| 1976/2024 [58:04<01:10,  1.46s/it]"
     ]
    },
    {
     "name": "stdout",
     "output_type": "stream",
     "text": [
      "Crawl data 169128513 success !!!\n"
     ]
    },
    {
     "name": "stderr",
     "output_type": "stream",
     "text": [
      " 98%|█████████▊| 1977/2024 [58:05<01:05,  1.40s/it]"
     ]
    },
    {
     "name": "stdout",
     "output_type": "stream",
     "text": [
      "Crawl data 184639061 success !!!\n"
     ]
    },
    {
     "name": "stderr",
     "output_type": "stream",
     "text": [
      " 98%|█████████▊| 1978/2024 [58:08<01:16,  1.66s/it]"
     ]
    },
    {
     "name": "stdout",
     "output_type": "stream",
     "text": [
      "Crawl data 191429707 success !!!\n"
     ]
    },
    {
     "name": "stderr",
     "output_type": "stream",
     "text": [
      " 98%|█████████▊| 1979/2024 [58:09<01:08,  1.52s/it]"
     ]
    },
    {
     "name": "stdout",
     "output_type": "stream",
     "text": [
      "Crawl data 262936760 success !!!\n"
     ]
    },
    {
     "name": "stderr",
     "output_type": "stream",
     "text": [
      " 98%|█████████▊| 1980/2024 [58:10<01:02,  1.43s/it]"
     ]
    },
    {
     "name": "stdout",
     "output_type": "stream",
     "text": [
      "Crawl data 169842201 success !!!\n"
     ]
    },
    {
     "name": "stderr",
     "output_type": "stream",
     "text": [
      " 98%|█████████▊| 1981/2024 [58:11<00:59,  1.38s/it]"
     ]
    },
    {
     "name": "stdout",
     "output_type": "stream",
     "text": [
      "Crawl data 159912189 success !!!\n"
     ]
    },
    {
     "name": "stderr",
     "output_type": "stream",
     "text": [
      " 98%|█████████▊| 1982/2024 [58:13<00:56,  1.34s/it]"
     ]
    },
    {
     "name": "stdout",
     "output_type": "stream",
     "text": [
      "Crawl data 169842269 success !!!\n"
     ]
    },
    {
     "name": "stderr",
     "output_type": "stream",
     "text": [
      " 98%|█████████▊| 1983/2024 [58:14<00:53,  1.30s/it]"
     ]
    },
    {
     "name": "stdout",
     "output_type": "stream",
     "text": [
      "Crawl data 172672390 success !!!\n"
     ]
    },
    {
     "name": "stderr",
     "output_type": "stream",
     "text": [
      " 98%|█████████▊| 1984/2024 [58:16<01:03,  1.59s/it]"
     ]
    },
    {
     "name": "stdout",
     "output_type": "stream",
     "text": [
      "Crawl data 164456712 success !!!\n"
     ]
    },
    {
     "name": "stderr",
     "output_type": "stream",
     "text": [
      " 98%|█████████▊| 1985/2024 [58:17<00:58,  1.49s/it]"
     ]
    },
    {
     "name": "stdout",
     "output_type": "stream",
     "text": [
      "Crawl data 49559490 success !!!\n"
     ]
    },
    {
     "name": "stderr",
     "output_type": "stream",
     "text": [
      " 98%|█████████▊| 1986/2024 [58:20<01:05,  1.72s/it]"
     ]
    },
    {
     "name": "stdout",
     "output_type": "stream",
     "text": [
      "Crawl data 195243100 success !!!\n"
     ]
    },
    {
     "name": "stderr",
     "output_type": "stream",
     "text": [
      " 98%|█████████▊| 1987/2024 [58:21<00:58,  1.58s/it]"
     ]
    },
    {
     "name": "stdout",
     "output_type": "stream",
     "text": [
      "Crawl data 165674988 success !!!\n"
     ]
    },
    {
     "name": "stderr",
     "output_type": "stream",
     "text": [
      " 98%|█████████▊| 1988/2024 [58:22<00:52,  1.47s/it]"
     ]
    },
    {
     "name": "stdout",
     "output_type": "stream",
     "text": [
      "Crawl data 137925058 success !!!\n"
     ]
    },
    {
     "name": "stderr",
     "output_type": "stream",
     "text": [
      " 98%|█████████▊| 1989/2024 [58:24<01:00,  1.73s/it]"
     ]
    },
    {
     "name": "stdout",
     "output_type": "stream",
     "text": [
      "Crawl data 34360201 success !!!\n"
     ]
    },
    {
     "name": "stderr",
     "output_type": "stream",
     "text": [
      " 98%|█████████▊| 1990/2024 [58:27<01:04,  1.88s/it]"
     ]
    },
    {
     "name": "stdout",
     "output_type": "stream",
     "text": [
      "Crawl data 186636915 success !!!\n"
     ]
    },
    {
     "name": "stderr",
     "output_type": "stream",
     "text": [
      " 98%|█████████▊| 1991/2024 [58:28<00:56,  1.72s/it]"
     ]
    },
    {
     "name": "stdout",
     "output_type": "stream",
     "text": [
      "Crawl data 230364032 success !!!\n"
     ]
    },
    {
     "name": "stderr",
     "output_type": "stream",
     "text": [
      " 98%|█████████▊| 1992/2024 [58:29<00:50,  1.57s/it]"
     ]
    },
    {
     "name": "stdout",
     "output_type": "stream",
     "text": [
      "Crawl data 162594054 success !!!\n"
     ]
    },
    {
     "name": "stderr",
     "output_type": "stream",
     "text": [
      " 98%|█████████▊| 1993/2024 [58:31<00:54,  1.77s/it]"
     ]
    },
    {
     "name": "stdout",
     "output_type": "stream",
     "text": [
      "Crawl data 197663687 success !!!\n"
     ]
    },
    {
     "name": "stderr",
     "output_type": "stream",
     "text": [
      " 99%|█████████▊| 1994/2024 [58:34<00:57,  1.91s/it]"
     ]
    },
    {
     "name": "stdout",
     "output_type": "stream",
     "text": [
      "Crawl data 183555248 success !!!\n"
     ]
    },
    {
     "name": "stderr",
     "output_type": "stream",
     "text": [
      " 99%|█████████▊| 1995/2024 [58:35<00:49,  1.71s/it]"
     ]
    },
    {
     "name": "stdout",
     "output_type": "stream",
     "text": [
      "Crawl data 172906066 success !!!\n"
     ]
    },
    {
     "name": "stderr",
     "output_type": "stream",
     "text": [
      " 99%|█████████▊| 1996/2024 [58:37<00:52,  1.87s/it]"
     ]
    },
    {
     "name": "stdout",
     "output_type": "stream",
     "text": [
      "Crawl data 124272575 success !!!\n"
     ]
    },
    {
     "name": "stderr",
     "output_type": "stream",
     "text": [
      " 99%|█████████▊| 1997/2024 [58:39<00:53,  1.99s/it]"
     ]
    },
    {
     "name": "stdout",
     "output_type": "stream",
     "text": [
      "Crawl data 73517693 success !!!\n"
     ]
    },
    {
     "name": "stderr",
     "output_type": "stream",
     "text": [
      " 99%|█████████▊| 1998/2024 [58:41<00:45,  1.76s/it]"
     ]
    },
    {
     "name": "stdout",
     "output_type": "stream",
     "text": [
      "Crawl data 172673705 success !!!\n"
     ]
    },
    {
     "name": "stderr",
     "output_type": "stream",
     "text": [
      " 99%|█████████▉| 1999/2024 [58:42<00:40,  1.63s/it]"
     ]
    },
    {
     "name": "stdout",
     "output_type": "stream",
     "text": [
      "Crawl data 73517932 success !!!\n"
     ]
    },
    {
     "name": "stderr",
     "output_type": "stream",
     "text": [
      " 99%|█████████▉| 2000/2024 [58:43<00:36,  1.53s/it]"
     ]
    },
    {
     "name": "stdout",
     "output_type": "stream",
     "text": [
      "Crawl data 197663431 success !!!\n"
     ]
    },
    {
     "name": "stderr",
     "output_type": "stream",
     "text": [
      " 99%|█████████▉| 2001/2024 [58:45<00:33,  1.46s/it]"
     ]
    },
    {
     "name": "stdout",
     "output_type": "stream",
     "text": [
      "Crawl data 13715120 success !!!\n"
     ]
    },
    {
     "name": "stderr",
     "output_type": "stream",
     "text": [
      " 99%|█████████▉| 2002/2024 [58:46<00:30,  1.40s/it]"
     ]
    },
    {
     "name": "stdout",
     "output_type": "stream",
     "text": [
      "Crawl data 120311398 success !!!\n"
     ]
    },
    {
     "name": "stderr",
     "output_type": "stream",
     "text": [
      " 99%|█████████▉| 2003/2024 [58:47<00:28,  1.35s/it]"
     ]
    },
    {
     "name": "stdout",
     "output_type": "stream",
     "text": [
      "Crawl data 56020860 success !!!\n"
     ]
    },
    {
     "name": "stderr",
     "output_type": "stream",
     "text": [
      " 99%|█████████▉| 2004/2024 [58:49<00:32,  1.63s/it]"
     ]
    },
    {
     "name": "stdout",
     "output_type": "stream",
     "text": [
      "Crawl data 248901058 success !!!\n"
     ]
    },
    {
     "name": "stderr",
     "output_type": "stream",
     "text": [
      " 99%|█████████▉| 2005/2024 [58:51<00:28,  1.52s/it]"
     ]
    },
    {
     "name": "stdout",
     "output_type": "stream",
     "text": [
      "Crawl data 141014374 success !!!\n"
     ]
    },
    {
     "name": "stderr",
     "output_type": "stream",
     "text": [
      " 99%|█████████▉| 2006/2024 [58:52<00:26,  1.45s/it]"
     ]
    },
    {
     "name": "stdout",
     "output_type": "stream",
     "text": [
      "Crawl data 247344083 success !!!\n"
     ]
    },
    {
     "name": "stderr",
     "output_type": "stream",
     "text": [
      " 99%|█████████▉| 2007/2024 [58:53<00:23,  1.39s/it]"
     ]
    },
    {
     "name": "stdout",
     "output_type": "stream",
     "text": [
      "Crawl data 196013214 success !!!\n"
     ]
    },
    {
     "name": "stderr",
     "output_type": "stream",
     "text": [
      " 99%|█████████▉| 2008/2024 [58:55<00:26,  1.67s/it]"
     ]
    },
    {
     "name": "stdout",
     "output_type": "stream",
     "text": [
      "Crawl data 174111819 success !!!\n"
     ]
    },
    {
     "name": "stderr",
     "output_type": "stream",
     "text": [
      " 99%|█████████▉| 2009/2024 [58:57<00:23,  1.57s/it]"
     ]
    },
    {
     "name": "stdout",
     "output_type": "stream",
     "text": [
      "Crawl data 271245555 success !!!\n"
     ]
    },
    {
     "name": "stderr",
     "output_type": "stream",
     "text": [
      " 99%|█████████▉| 2010/2024 [58:58<00:20,  1.48s/it]"
     ]
    },
    {
     "name": "stdout",
     "output_type": "stream",
     "text": [
      "Crawl data 270260040 success !!!\n"
     ]
    },
    {
     "name": "stderr",
     "output_type": "stream",
     "text": [
      " 99%|█████████▉| 2011/2024 [58:59<00:18,  1.41s/it]"
     ]
    },
    {
     "name": "stdout",
     "output_type": "stream",
     "text": [
      "Crawl data 252612313 success !!!\n"
     ]
    },
    {
     "name": "stderr",
     "output_type": "stream",
     "text": [
      " 99%|█████████▉| 2012/2024 [59:02<00:20,  1.67s/it]"
     ]
    },
    {
     "name": "stdout",
     "output_type": "stream",
     "text": [
      "Crawl data 121040277 success !!!\n"
     ]
    },
    {
     "name": "stderr",
     "output_type": "stream",
     "text": [
      " 99%|█████████▉| 2013/2024 [59:04<00:20,  1.85s/it]"
     ]
    },
    {
     "name": "stdout",
     "output_type": "stream",
     "text": [
      "Crawl data 166530451 success !!!\n"
     ]
    },
    {
     "name": "stderr",
     "output_type": "stream",
     "text": [
      "100%|█████████▉| 2014/2024 [59:06<00:19,  1.96s/it]"
     ]
    },
    {
     "name": "stdout",
     "output_type": "stream",
     "text": [
      "Crawl data 196161501 success !!!\n"
     ]
    },
    {
     "name": "stderr",
     "output_type": "stream",
     "text": [
      "100%|█████████▉| 2015/2024 [59:08<00:18,  2.07s/it]"
     ]
    },
    {
     "name": "stdout",
     "output_type": "stream",
     "text": [
      "Crawl data 271963882 success !!!\n"
     ]
    },
    {
     "name": "stderr",
     "output_type": "stream",
     "text": [
      "100%|█████████▉| 2016/2024 [59:10<00:14,  1.82s/it]"
     ]
    },
    {
     "name": "stdout",
     "output_type": "stream",
     "text": [
      "Crawl data 177295534 success !!!\n"
     ]
    },
    {
     "name": "stderr",
     "output_type": "stream",
     "text": [
      "100%|█████████▉| 2017/2024 [59:12<00:13,  1.94s/it]"
     ]
    },
    {
     "name": "stdout",
     "output_type": "stream",
     "text": [
      "Crawl data 268372582 success !!!\n"
     ]
    },
    {
     "name": "stderr",
     "output_type": "stream",
     "text": [
      "100%|█████████▉| 2018/2024 [59:15<00:14,  2.35s/it]"
     ]
    },
    {
     "name": "stdout",
     "output_type": "stream",
     "text": [
      "Crawl data 225932962 success !!!\n"
     ]
    },
    {
     "name": "stderr",
     "output_type": "stream",
     "text": [
      "100%|█████████▉| 2019/2024 [59:16<00:10,  2.01s/it]"
     ]
    },
    {
     "name": "stdout",
     "output_type": "stream",
     "text": [
      "Crawl data 225937377 success !!!\n"
     ]
    },
    {
     "name": "stderr",
     "output_type": "stream",
     "text": [
      "100%|█████████▉| 2020/2024 [59:18<00:07,  1.79s/it]"
     ]
    },
    {
     "name": "stdout",
     "output_type": "stream",
     "text": [
      "Crawl data 225918457 success !!!\n"
     ]
    },
    {
     "name": "stderr",
     "output_type": "stream",
     "text": [
      "100%|█████████▉| 2021/2024 [59:19<00:04,  1.64s/it]"
     ]
    },
    {
     "name": "stdout",
     "output_type": "stream",
     "text": [
      "Crawl data 89893042 success !!!\n"
     ]
    },
    {
     "name": "stderr",
     "output_type": "stream",
     "text": [
      "100%|█████████▉| 2022/2024 [59:20<00:03,  1.52s/it]"
     ]
    },
    {
     "name": "stdout",
     "output_type": "stream",
     "text": [
      "Crawl data 193007064 success !!!\n"
     ]
    },
    {
     "name": "stderr",
     "output_type": "stream",
     "text": [
      "100%|█████████▉| 2023/2024 [59:23<00:01,  1.75s/it]"
     ]
    },
    {
     "name": "stdout",
     "output_type": "stream",
     "text": [
      "Crawl data 192206662 success !!!\n"
     ]
    },
    {
     "name": "stderr",
     "output_type": "stream",
     "text": [
      "100%|██████████| 2024/2024 [59:25<00:00,  1.76s/it]\n"
     ]
    }
   ],
   "source": [
    "import pandas as pd\n",
    "import requests\n",
    "import time\n",
    "import random\n",
    "from tqdm import tqdm\n",
    "\n",
    "cookies = {\n",
    "    'TIKI_GUEST_TOKEN': '8jWSuIDBb2NGVzr6hsUZXpkP1FRin7lY',\n",
    "    'TOKENS': '{%22access_token%22:%228jWSuIDBb2NGVzr6hsUZXpkP1FRin7lY%22%2C%22expires_in%22:157680000%2C%22expires_at%22:1763654224277%2C%22guest_token%22:%228jWSuIDBb2NGVzr6hsUZXpkP1FRin7lY%22}',\n",
    "    'amp_99d374': 'eSc-_0HT1um7cb57E7dwA0...1enloc6a2.1enlohtdv.3.2.5',\n",
    "    'amp_99d374_tiki.vn': 'eSc-_0HT1um7cb57E7dwA0...1enloc6a2.1enlocds8.0.1.1',\n",
    "    '_gcl_au': '1.1.559117409.1605974236',\n",
    "    '_ants_utm_v2': '',\n",
    "    '_pk_id.638735871.2fc5': 'b92ae025fbbdb31f.1605974236.1.1605974420.1605974236.',\n",
    "    '_pk_ses.638735871.2fc5': '*',\n",
    "    '_trackity': '70e316b0-96f2-dbe1-a2ed-43ff60419991',\n",
    "    '_ga_NKX31X43RV': 'GS1.1.1605974235.1.1.1605974434.0',\n",
    "    '_ga': 'GA1.1.657946765.1605974236',\n",
    "    'ai_client_id': '11935756853.1605974227',\n",
    "    'an_session': 'zizkzrzjzlzizqzlzqzjzdzizizqzgzmzkzmzlzrzmzgzdzizlzjzmzqzkznzhzhzkzdzhzdzizlzjzmzqzkznzhzhzkzdzizlzjzmzqzkznzhzhzkzdzjzdzhzqzdzizd2f27zdzjzdzlzmzmznzq',\n",
    "    'au_aid': '11935756853',\n",
    "    'dgs': '1605974411%3A3%3A0',\n",
    "    'au_gt': '1605974227146',\n",
    "    '_ants_services': '%5B%22cuid%22%5D',\n",
    "    '__admUTMtime': '1605974236',\n",
    "    '__iid': '749',\n",
    "    '__su': '0',\n",
    "    '_bs': 'bb9a32f6-ab13-ce80-92d6-57fd3fd6e4c8',\n",
    "    '_gid': 'GA1.2.867846791.1605974237',\n",
    "    '_fbp': 'fb.1.1605974237134.1297408816',\n",
    "    '_hjid': 'f152cf33-7323-4410-b9ae-79f6622ebc48',\n",
    "    '_hjFirstSeen': '1',\n",
    "    '_hjIncludedInPageviewSample': '1',\n",
    "    '_hjAbsoluteSessionInProgress': '0',\n",
    "    '_hjIncludedInSessionSample': '1',\n",
    "    'tiki_client_id': '657946765.1605974236',\n",
    "    '__gads': 'ID=ae56424189ecccbe-227eb8e1d6c400a8:T=1605974229:RT=1605974229:S=ALNI_MZFWYf2BAjzCSiRNLC3bKI-W_7YHA',\n",
    "    'proxy_s_sv': '1605976041662',\n",
    "    'TKSESSID': '8bcd49b02e1e16aa1cdb795c54d7b460',\n",
    "    'TIKI_RECOMMENDATION': '21dd50e7f7c194df673ea3b717459249',\n",
    "    '_gat': '1',\n",
    "    'cto_bundle': 'i6f48l9NVXNkQmJ6aEVLcXNqbHdjcVZoQ0k2clladUF2N2xjZzJ1cjR6WG43UTVaRmglMkZXWUdtRnJTNHZRbmQ4SDAlMkZwRFhqQnppRHFxJTJCSEozZXBqRFM4ZHVxUjQ2TmklMkJIcnhJd3luZXpJSnBpcE1nJTNE',\n",
    "    'TIKI_RECENTLYVIEWED': '58259141',\n",
    "}\n",
    "\n",
    "headers = {\n",
    "    'User-Agent': 'Mozilla/5.0 (Windows NT 10.0; Win64; x64) AppleWebKit/537.36 (KHTML, like Gecko) Chrome/117.0.0.0 Safari/537.36',\n",
    "    'Accept': 'application/json, text/plain, */*',\n",
    "    'Accept-Language': 'en-US,en;q=0.9,vi;q=0.8',\n",
    "    'Referer': 'https://tiki.vn/sua-rua-mat-simple-giup-kiem-dau-ngua-mun-cho-da-mun-nhay-cam-khong-chua-xa-phong-150ml-chinh-hang-doc-quyen-p117170051.html?itm_campaign=SRC_YPD_TKA_PLA_UNK_ALL_UNK_UNK_UNK_UNK_X.173132_Y.1755459_Z.3365632_CN.Skin_Product_FW_Simple&itm_medium=CPC&itm_source=tiki-ads&spid=117170052',\n",
    "    'X-Guest-Token': 'D9N8hbeWV7ZLQRq3aTJzt6njFvAmsEwu',\n",
    "    # 'Connection': 'keep-alive',\n",
    "    # 'TE': 'Trailers',\n",
    "}\n",
    "\n",
    "params = {\n",
    "\n",
    "    'platform': 'web',\n",
    "    'spid': '187266106',\n",
    "    'version': '3',\n",
    "    #('include', 'tag,images,gallery,promotions,badges,stock_item,variants,product_links,discount_tag,ranks,breadcrumbs,top_features,cta_desktop'),\n",
    "}\n",
    "\n",
    "def parser_product(json_data):\n",
    "    d = {}\n",
    "    # Chắc chắn rằng json_data không phải là None\n",
    "    if not json_data:\n",
    "        return d\n",
    "    \n",
    "    keys = [\n",
    "        'id'\n",
    "    ]\n",
    "    for key in keys:\n",
    "        d[key] = json_data.get(key)\n",
    "    \n",
    "    if json_data.get('current_seller'):\n",
    "        d['store_id'] = json_data['current_seller'].get('id')\n",
    "    return d\n",
    "\n",
    "df_id = pd.read_csv('product_id_ncds.csv')\n",
    "p_ids = df_id.id.to_list()\n",
    "print(p_ids)\n",
    "result = []\n",
    "Err = []\n",
    "for pid in tqdm(p_ids, total=len(p_ids)):\n",
    "    try:\n",
    "        response = requests.get('https://tiki.vn/api/v2/products/{}'.format(pid), headers=headers, params=params) #, cookies=cookies)\n",
    "        \n",
    "        if response.status_code == 200:\n",
    "            print('Crawl data {} success !!!'.format(pid))\n",
    "            result.append(parser_product(response.json()))\n",
    "        else:\n",
    "            print('Failed to crawl data for ID {}: Status code {}'.format(pid, response.status_code))\n",
    "            \n",
    "    except Exception as e:\n",
    "        # In ra lỗi cụ thể mà chúng ta gặp phải\n",
    "        print('Error when processing ID {}: {}'.format(pid, str(e)))\n",
    "        Err.append(pid)\n",
    "    time.sleep(random.randrange(1, 3))\n",
    "\n",
    "df_product = pd.DataFrame(result)\n",
    "df_product.to_csv('temp.csv', index=False)"
   ]
  },
  {
   "cell_type": "code",
   "execution_count": 64,
   "metadata": {},
   "outputs": [
    {
     "data": {
      "text/plain": [
       "[{'id': 631525, 'store_id': 211}, {'id': 117170051, 'store_id': 1}]"
      ]
     },
     "execution_count": 64,
     "metadata": {},
     "output_type": "execute_result"
    }
   ],
   "source": [
    "result"
   ]
  },
  {
   "cell_type": "code",
   "execution_count": 71,
   "metadata": {},
   "outputs": [],
   "source": [
    "df = pd.read_csv(\"temp.csv\")\n",
    "id = df['store_id']\n",
    "list_id = id.to_list()"
   ]
  },
  {
   "cell_type": "code",
   "execution_count": 102,
   "metadata": {},
   "outputs": [
    {
     "name": "stdout",
     "output_type": "stream",
     "text": [
      "[211, 1, 6423, 11978, 46296, 76260, 39998, 4887, 153808, 120849, 11618, 120432, 8771, 18327, 77388, 17149, 1694, 107898, 18907, 1837, 156958, 1178, 221608, 26890, 77814, 7731, 284816, 165433, 202940, 39419, 8218, 17902, 55150, 16350, 37079, 932, 19333, 10638, 152989, 108961, 253806, 70836, 36414, 108980, 18849, 3887, 84406, 499, 155315, 1476, 146385, 290696, 125685, 2321, 258768, 1763, 366, 29103, 4446, 199449, 1956, 47071, 3982, 10177, 76452, 36906, 107750, 88735, 883, 133020, 14948, 20624, 278152, 86287, 271411, 84036, 274685, 4629, 78140, 6014, 166233, 251828, 13797, 119940, 158503, 238467, 184145, 120560, 47913, 120091, 49991, 154865, 91532, 7798, 143225, 81954, 4546, 53082, 146720, 63838, 919, 207890, 133803, 1384, 3170, 9815, 228608, 107229, 176967, 7673, 39216, 39288, 193621, 113527, 70423, 19898, 84324, 337164, 92591, 3132, 132939, 215908, 82138, 6639, 232650, 284969, 189861, 52718, 58336, 156526, 112529, 943, 336494, 518, 22918, 4106, 41211, 11745, 9886, 3354, 275780, 46708, 76968, 86514, 103426, 76045, 7642, 80972, 167598, 14545, 55101, 71758, 60082, 10326, 151204, 173565, 133024, 52441, 1620, 230723, 136751, 48148, 325433, 177228, 34248, 332804, 712, 17844, 205619, 110609, 17549, 188468, 2694, 19971, 15125, 111539, 279312, 325863, 79995, 4927, 133591, 73732, 10239, 145399, 110726, 181732, 62812, 270852, 187497, 4475, 814, 2804, 192769, 157404, 6343, 55655, 13239, 128870, 288606, 64540, 174179, 10592, 146521, 119155, 311092, 2091, 153397, 62737, 18544, 42811, 229237, 64283, 117954, 91096, 306688, 153332, 13733, 5744, 305758, 46528, 1323, 172797, 239242, 11357, 1658, 941, 12371, 288594, 312140, 286038, 137101, 107509, 149372, 135747, 2108, 291389, 264916, 132847, 10718, 265562, 119213, 122209, 330210, 146123, 105467, 246019, 51889, 306590, 110801, 45594, 6190, 42186, 312139, 296234, 269222, 22953, 1725, 131776, 76924, 99305, 11929, 22836, 117279, 1390, 35200, 187939, 101499, 219837, 228668, 307397, 113629, 343257, 84534, 312124, 34358, 330512, 284411, 294374, 302190, 135910, 341576, 5657, 161043, 329467, 207680, 346238, 343772, 305072, 155555, 193186, 205581, 308640, 282349, 324199, 274858, 309004, 328881, 323563, 101897, 311856, 153686, 291796, 307343, 202889, 321143, 179506, 342304, 324897, 286530, 50583, 9536, 3695, 50729, 57008, 122831, 28902, 243957, 162981, 495, 9603, 141308, 43420, 6261, 188105, 84640, 200882, 102618, 35729, 291538, 189296, 81468, 309279, 10127, 149788, 208162, 1952, 48477, 326537, 5278, 115544, 1351, 80988, 278165, 224561, 163014, 163214, 166484, 1214, 180033, 109826, 56288, 285227, 197621, 179403, 75970, 164385, 140551, 1082, 307289, 186373, 70434, 224882, 179019, 173503, 119189, 74695, 279118, 286856, 232761, 292618, 56581, 178797, 9640, 832, 240679, 787, 42810, 91952, 334131, 176063, 344633, 112808, 295388, 286763, 46252, 92830, 109878, 7188, 118229, 1046, 306442, 13614, 136140, 195824, 5701, 335814, 146618, 279868, 1290, 284661, 153178, 87499, 338726, 216196, 219088, 91615, 73480, 183385, 117988, 8119, 153452, 272757, 44411, 214770, 309853, 2762, 79465, 23033, 282224, 328393, 239233, 81972, 4067, 183644, 287762, 238306, 156014, 94348, 77693, 162984, 317308, 338518, 274246, 971, 286850, 89629, 4447, 326540, 185449, 7128, 282239, 195180, 112924, 185004, 294815, 301133, 191770, 79885, 345684, 99491, 253359, 65568, 19632, 304722, 11212, 173683, 126917, 126568, 284190, 6690, 325625, 9905, 180204, 136640, 18975, 154752, 311088, 195224, 92257, 20282, 328607, 314794, 185792, 101065, 282356, 26407, 33989, 292608, 254366, 116065, 172761, 8429, 207571, 150132, 333019, 187330, 93666, 1313, 8596, 250258, 317122, 93340, 171761, 38780, 95623, 308782, 298854, 36436, 178428, 302330, 301750, 287518, 218643, 301461, 84917, 231255, 264354, 15985, 295944, 284613, 261849, 272318, 290339, 283117, 223229, 255350, 268179, 2626, 301054, 91940, 295075, 125262, 74985, 260286]\n"
     ]
    },
    {
     "name": "stderr",
     "output_type": "stream",
     "text": [
      "  0%|          | 0/524 [00:00<?, ?it/s]"
     ]
    },
    {
     "name": "stdout",
     "output_type": "stream",
     "text": [
      "Crawl data 211 success !!!\n"
     ]
    },
    {
     "name": "stderr",
     "output_type": "stream",
     "text": [
      "  0%|          | 1/524 [00:01<11:54,  1.37s/it]"
     ]
    },
    {
     "name": "stdout",
     "output_type": "stream",
     "text": [
      "Crawl data 1 success !!!\n"
     ]
    },
    {
     "name": "stderr",
     "output_type": "stream",
     "text": [
      "  0%|          | 2/524 [00:02<11:06,  1.28s/it]"
     ]
    },
    {
     "name": "stdout",
     "output_type": "stream",
     "text": [
      "Crawl data 6423 success !!!\n"
     ]
    },
    {
     "name": "stderr",
     "output_type": "stream",
     "text": [
      "  1%|          | 3/524 [00:03<10:46,  1.24s/it]"
     ]
    },
    {
     "name": "stdout",
     "output_type": "stream",
     "text": [
      "Crawl data 11978 success !!!\n"
     ]
    },
    {
     "name": "stderr",
     "output_type": "stream",
     "text": [
      "  1%|          | 4/524 [00:05<14:05,  1.63s/it]"
     ]
    },
    {
     "name": "stdout",
     "output_type": "stream",
     "text": [
      "Crawl data 46296 success !!!\n"
     ]
    },
    {
     "name": "stderr",
     "output_type": "stream",
     "text": [
      "  1%|          | 5/524 [00:07<13:22,  1.55s/it]"
     ]
    },
    {
     "name": "stdout",
     "output_type": "stream",
     "text": [
      "Crawl data 76260 success !!!\n"
     ]
    },
    {
     "name": "stderr",
     "output_type": "stream",
     "text": [
      "  1%|          | 6/524 [00:08<12:18,  1.43s/it]"
     ]
    },
    {
     "name": "stdout",
     "output_type": "stream",
     "text": [
      "Crawl data 39998 success !!!\n"
     ]
    },
    {
     "name": "stderr",
     "output_type": "stream",
     "text": [
      "  1%|▏         | 7/524 [00:10<14:31,  1.69s/it]"
     ]
    },
    {
     "name": "stdout",
     "output_type": "stream",
     "text": [
      "Crawl data 4887 success !!!\n"
     ]
    },
    {
     "name": "stderr",
     "output_type": "stream",
     "text": [
      "  2%|▏         | 8/524 [00:12<13:24,  1.56s/it]"
     ]
    },
    {
     "name": "stdout",
     "output_type": "stream",
     "text": [
      "Crawl data 153808 success !!!\n"
     ]
    },
    {
     "name": "stderr",
     "output_type": "stream",
     "text": [
      "  2%|▏         | 9/524 [00:13<12:44,  1.48s/it]"
     ]
    },
    {
     "name": "stdout",
     "output_type": "stream",
     "text": [
      "Crawl data 120849 success !!!\n"
     ]
    },
    {
     "name": "stderr",
     "output_type": "stream",
     "text": [
      "  2%|▏         | 10/524 [00:15<14:36,  1.71s/it]"
     ]
    },
    {
     "name": "stdout",
     "output_type": "stream",
     "text": [
      "Crawl data 11618 success !!!\n"
     ]
    },
    {
     "name": "stderr",
     "output_type": "stream",
     "text": [
      "  2%|▏         | 11/524 [00:16<13:30,  1.58s/it]"
     ]
    },
    {
     "name": "stdout",
     "output_type": "stream",
     "text": [
      "Crawl data 120432 success !!!\n"
     ]
    },
    {
     "name": "stderr",
     "output_type": "stream",
     "text": [
      "  2%|▏         | 12/524 [00:19<15:19,  1.80s/it]"
     ]
    },
    {
     "name": "stdout",
     "output_type": "stream",
     "text": [
      "Crawl data 8771 success !!!\n"
     ]
    },
    {
     "name": "stderr",
     "output_type": "stream",
     "text": [
      "  2%|▏         | 13/524 [00:20<14:05,  1.65s/it]"
     ]
    },
    {
     "name": "stdout",
     "output_type": "stream",
     "text": [
      "Crawl data 18327 success !!!\n"
     ]
    },
    {
     "name": "stderr",
     "output_type": "stream",
     "text": [
      "  3%|▎         | 14/524 [00:21<12:55,  1.52s/it]"
     ]
    },
    {
     "name": "stdout",
     "output_type": "stream",
     "text": [
      "Crawl data 77388 success !!!\n"
     ]
    },
    {
     "name": "stderr",
     "output_type": "stream",
     "text": [
      "  3%|▎         | 15/524 [00:22<12:09,  1.43s/it]"
     ]
    },
    {
     "name": "stdout",
     "output_type": "stream",
     "text": [
      "Crawl data 17149 success !!!\n"
     ]
    },
    {
     "name": "stderr",
     "output_type": "stream",
     "text": [
      "  3%|▎         | 16/524 [00:24<11:54,  1.41s/it]"
     ]
    },
    {
     "name": "stdout",
     "output_type": "stream",
     "text": [
      "Crawl data 1694 success !!!\n"
     ]
    },
    {
     "name": "stderr",
     "output_type": "stream",
     "text": [
      "  3%|▎         | 17/524 [00:26<14:06,  1.67s/it]"
     ]
    },
    {
     "name": "stdout",
     "output_type": "stream",
     "text": [
      "Crawl data 107898 success !!!\n"
     ]
    },
    {
     "name": "stderr",
     "output_type": "stream",
     "text": [
      "  3%|▎         | 18/524 [00:27<12:55,  1.53s/it]"
     ]
    },
    {
     "name": "stdout",
     "output_type": "stream",
     "text": [
      "Crawl data 18907 success !!!\n"
     ]
    },
    {
     "name": "stderr",
     "output_type": "stream",
     "text": [
      "  4%|▎         | 19/524 [00:29<12:16,  1.46s/it]"
     ]
    },
    {
     "name": "stdout",
     "output_type": "stream",
     "text": [
      "Crawl data 1837 success !!!\n"
     ]
    },
    {
     "name": "stderr",
     "output_type": "stream",
     "text": [
      "  4%|▍         | 20/524 [00:31<14:17,  1.70s/it]"
     ]
    },
    {
     "name": "stdout",
     "output_type": "stream",
     "text": [
      "Crawl data 156958 success !!!\n"
     ]
    },
    {
     "name": "stderr",
     "output_type": "stream",
     "text": [
      "  4%|▍         | 21/524 [00:32<13:04,  1.56s/it]"
     ]
    },
    {
     "name": "stdout",
     "output_type": "stream",
     "text": [
      "Crawl data 1178 success !!!\n"
     ]
    },
    {
     "name": "stderr",
     "output_type": "stream",
     "text": [
      "  4%|▍         | 22/524 [00:33<12:09,  1.45s/it]"
     ]
    },
    {
     "name": "stdout",
     "output_type": "stream",
     "text": [
      "Crawl data 221608 success !!!\n"
     ]
    },
    {
     "name": "stderr",
     "output_type": "stream",
     "text": [
      "  4%|▍         | 23/524 [00:35<13:16,  1.59s/it]"
     ]
    },
    {
     "name": "stdout",
     "output_type": "stream",
     "text": [
      "Crawl data 26890 success !!!\n"
     ]
    },
    {
     "name": "stderr",
     "output_type": "stream",
     "text": [
      "  5%|▍         | 24/524 [00:37<14:48,  1.78s/it]"
     ]
    },
    {
     "name": "stdout",
     "output_type": "stream",
     "text": [
      "Crawl data 77814 success !!!\n"
     ]
    },
    {
     "name": "stderr",
     "output_type": "stream",
     "text": [
      "  5%|▍         | 25/524 [00:40<16:05,  1.94s/it]"
     ]
    },
    {
     "name": "stdout",
     "output_type": "stream",
     "text": [
      "Crawl data 7731 success !!!\n"
     ]
    },
    {
     "name": "stderr",
     "output_type": "stream",
     "text": [
      "  5%|▍         | 26/524 [00:42<16:50,  2.03s/it]"
     ]
    },
    {
     "name": "stdout",
     "output_type": "stream",
     "text": [
      "Crawl data 284816 success !!!\n"
     ]
    },
    {
     "name": "stderr",
     "output_type": "stream",
     "text": [
      "  5%|▌         | 27/524 [00:43<14:44,  1.78s/it]"
     ]
    },
    {
     "name": "stdout",
     "output_type": "stream",
     "text": [
      "Crawl data 165433 success !!!\n"
     ]
    },
    {
     "name": "stderr",
     "output_type": "stream",
     "text": [
      "  5%|▌         | 28/524 [00:45<15:44,  1.90s/it]"
     ]
    },
    {
     "name": "stdout",
     "output_type": "stream",
     "text": [
      "Crawl data 202940 success !!!\n"
     ]
    },
    {
     "name": "stderr",
     "output_type": "stream",
     "text": [
      "  6%|▌         | 29/524 [00:48<16:40,  2.02s/it]"
     ]
    },
    {
     "name": "stdout",
     "output_type": "stream",
     "text": [
      "Crawl data 39419 success !!!\n"
     ]
    },
    {
     "name": "stderr",
     "output_type": "stream",
     "text": [
      "  6%|▌         | 30/524 [00:50<17:06,  2.08s/it]"
     ]
    },
    {
     "name": "stdout",
     "output_type": "stream",
     "text": [
      "Crawl data 8218 success !!!\n"
     ]
    },
    {
     "name": "stderr",
     "output_type": "stream",
     "text": [
      "  6%|▌         | 31/524 [00:52<17:38,  2.15s/it]"
     ]
    },
    {
     "name": "stdout",
     "output_type": "stream",
     "text": [
      "Crawl data 17902 success !!!\n"
     ]
    },
    {
     "name": "stderr",
     "output_type": "stream",
     "text": [
      "  6%|▌         | 32/524 [00:54<16:14,  1.98s/it]"
     ]
    },
    {
     "name": "stdout",
     "output_type": "stream",
     "text": [
      "Crawl data 55150 success !!!\n"
     ]
    },
    {
     "name": "stderr",
     "output_type": "stream",
     "text": [
      "  6%|▋         | 33/524 [00:56<16:42,  2.04s/it]"
     ]
    },
    {
     "name": "stdout",
     "output_type": "stream",
     "text": [
      "Crawl data 16350 success !!!\n"
     ]
    },
    {
     "name": "stderr",
     "output_type": "stream",
     "text": [
      "  6%|▋         | 34/524 [00:57<14:37,  1.79s/it]"
     ]
    },
    {
     "name": "stdout",
     "output_type": "stream",
     "text": [
      "Crawl data 37079 success !!!\n"
     ]
    },
    {
     "name": "stderr",
     "output_type": "stream",
     "text": [
      "  7%|▋         | 35/524 [00:59<15:42,  1.93s/it]"
     ]
    },
    {
     "name": "stdout",
     "output_type": "stream",
     "text": [
      "Crawl data 932 success !!!\n"
     ]
    },
    {
     "name": "stderr",
     "output_type": "stream",
     "text": [
      "  7%|▋         | 36/524 [01:01<13:52,  1.71s/it]"
     ]
    },
    {
     "name": "stdout",
     "output_type": "stream",
     "text": [
      "Crawl data 19333 success !!!\n"
     ]
    },
    {
     "name": "stderr",
     "output_type": "stream",
     "text": [
      "  7%|▋         | 37/524 [01:03<15:19,  1.89s/it]"
     ]
    },
    {
     "name": "stdout",
     "output_type": "stream",
     "text": [
      "Crawl data 10638 success !!!\n"
     ]
    },
    {
     "name": "stderr",
     "output_type": "stream",
     "text": [
      "  7%|▋         | 38/524 [01:04<13:44,  1.70s/it]"
     ]
    },
    {
     "name": "stdout",
     "output_type": "stream",
     "text": [
      "Crawl data 152989 success !!!\n"
     ]
    },
    {
     "name": "stderr",
     "output_type": "stream",
     "text": [
      "  7%|▋         | 39/524 [01:06<15:09,  1.87s/it]"
     ]
    },
    {
     "name": "stdout",
     "output_type": "stream",
     "text": [
      "Crawl data 108961 success !!!\n"
     ]
    },
    {
     "name": "stderr",
     "output_type": "stream",
     "text": [
      "  8%|▊         | 40/524 [01:08<13:30,  1.67s/it]"
     ]
    },
    {
     "name": "stdout",
     "output_type": "stream",
     "text": [
      "Crawl data 253806 success !!!\n"
     ]
    },
    {
     "name": "stderr",
     "output_type": "stream",
     "text": [
      "  8%|▊         | 41/524 [01:10<15:00,  1.86s/it]"
     ]
    },
    {
     "name": "stdout",
     "output_type": "stream",
     "text": [
      "Crawl data 70836 success !!!\n"
     ]
    },
    {
     "name": "stderr",
     "output_type": "stream",
     "text": [
      "  8%|▊         | 42/524 [01:12<15:48,  1.97s/it]"
     ]
    },
    {
     "name": "stdout",
     "output_type": "stream",
     "text": [
      "Crawl data 36414 success !!!\n"
     ]
    },
    {
     "name": "stderr",
     "output_type": "stream",
     "text": [
      "  8%|▊         | 43/524 [01:13<14:03,  1.75s/it]"
     ]
    },
    {
     "name": "stdout",
     "output_type": "stream",
     "text": [
      "Crawl data 108980 success !!!\n"
     ]
    },
    {
     "name": "stderr",
     "output_type": "stream",
     "text": [
      "  8%|▊         | 44/524 [01:16<15:28,  1.93s/it]"
     ]
    },
    {
     "name": "stdout",
     "output_type": "stream",
     "text": [
      "Crawl data 18849 success !!!\n"
     ]
    },
    {
     "name": "stderr",
     "output_type": "stream",
     "text": [
      "  9%|▊         | 45/524 [01:18<16:04,  2.01s/it]"
     ]
    },
    {
     "name": "stdout",
     "output_type": "stream",
     "text": [
      "Crawl data 3887 success !!!\n"
     ]
    },
    {
     "name": "stderr",
     "output_type": "stream",
     "text": [
      "  9%|▉         | 46/524 [01:20<16:42,  2.10s/it]"
     ]
    },
    {
     "name": "stdout",
     "output_type": "stream",
     "text": [
      "Crawl data 84406 success !!!\n"
     ]
    },
    {
     "name": "stderr",
     "output_type": "stream",
     "text": [
      "  9%|▉         | 47/524 [01:21<14:34,  1.83s/it]"
     ]
    },
    {
     "name": "stdout",
     "output_type": "stream",
     "text": [
      "Crawl data 499 success !!!\n"
     ]
    },
    {
     "name": "stderr",
     "output_type": "stream",
     "text": [
      "  9%|▉         | 48/524 [01:24<15:38,  1.97s/it]"
     ]
    },
    {
     "name": "stdout",
     "output_type": "stream",
     "text": [
      "Crawl data 155315 success !!!\n"
     ]
    },
    {
     "name": "stderr",
     "output_type": "stream",
     "text": [
      "  9%|▉         | 49/524 [01:26<16:15,  2.05s/it]"
     ]
    },
    {
     "name": "stdout",
     "output_type": "stream",
     "text": [
      "Crawl data 1476 success !!!\n"
     ]
    },
    {
     "name": "stderr",
     "output_type": "stream",
     "text": [
      " 10%|▉         | 50/524 [01:27<14:32,  1.84s/it]"
     ]
    },
    {
     "name": "stdout",
     "output_type": "stream",
     "text": [
      "Crawl data 146385 success !!!\n"
     ]
    },
    {
     "name": "stderr",
     "output_type": "stream",
     "text": [
      " 10%|▉         | 51/524 [01:30<15:20,  1.95s/it]"
     ]
    },
    {
     "name": "stdout",
     "output_type": "stream",
     "text": [
      "Crawl data 290696 success !!!\n"
     ]
    },
    {
     "name": "stderr",
     "output_type": "stream",
     "text": [
      " 10%|▉         | 52/524 [01:31<13:57,  1.77s/it]"
     ]
    },
    {
     "name": "stdout",
     "output_type": "stream",
     "text": [
      "Crawl data 125685 success !!!\n"
     ]
    },
    {
     "name": "stderr",
     "output_type": "stream",
     "text": [
      " 10%|█         | 53/524 [01:32<12:58,  1.65s/it]"
     ]
    },
    {
     "name": "stdout",
     "output_type": "stream",
     "text": [
      "Crawl data 2321 success !!!\n"
     ]
    },
    {
     "name": "stderr",
     "output_type": "stream",
     "text": [
      " 10%|█         | 54/524 [01:35<14:49,  1.89s/it]"
     ]
    },
    {
     "name": "stdout",
     "output_type": "stream",
     "text": [
      "Crawl data 258768 success !!!\n"
     ]
    },
    {
     "name": "stderr",
     "output_type": "stream",
     "text": [
      " 10%|█         | 55/524 [01:37<15:31,  1.99s/it]"
     ]
    },
    {
     "name": "stdout",
     "output_type": "stream",
     "text": [
      "Crawl data 1763 success !!!\n"
     ]
    },
    {
     "name": "stderr",
     "output_type": "stream",
     "text": [
      " 11%|█         | 56/524 [01:38<13:43,  1.76s/it]"
     ]
    },
    {
     "name": "stdout",
     "output_type": "stream",
     "text": [
      "Crawl data 366 success !!!\n"
     ]
    },
    {
     "name": "stderr",
     "output_type": "stream",
     "text": [
      " 11%|█         | 57/524 [01:41<14:57,  1.92s/it]"
     ]
    },
    {
     "name": "stdout",
     "output_type": "stream",
     "text": [
      "Crawl data 29103 success !!!\n"
     ]
    },
    {
     "name": "stderr",
     "output_type": "stream",
     "text": [
      " 11%|█         | 58/524 [01:42<13:20,  1.72s/it]"
     ]
    },
    {
     "name": "stdout",
     "output_type": "stream",
     "text": [
      "Crawl data 4446 success !!!\n"
     ]
    },
    {
     "name": "stderr",
     "output_type": "stream",
     "text": [
      " 11%|█▏        | 59/524 [01:43<12:30,  1.61s/it]"
     ]
    },
    {
     "name": "stdout",
     "output_type": "stream",
     "text": [
      "Crawl data 199449 success !!!\n"
     ]
    },
    {
     "name": "stderr",
     "output_type": "stream",
     "text": [
      " 11%|█▏        | 60/524 [01:45<13:49,  1.79s/it]"
     ]
    },
    {
     "name": "stdout",
     "output_type": "stream",
     "text": [
      "Crawl data 1956 success !!!\n"
     ]
    },
    {
     "name": "stderr",
     "output_type": "stream",
     "text": [
      " 12%|█▏        | 61/524 [01:48<14:48,  1.92s/it]"
     ]
    },
    {
     "name": "stdout",
     "output_type": "stream",
     "text": [
      "Crawl data 47071 success !!!\n"
     ]
    },
    {
     "name": "stderr",
     "output_type": "stream",
     "text": [
      " 12%|█▏        | 62/524 [01:50<15:46,  2.05s/it]"
     ]
    },
    {
     "name": "stdout",
     "output_type": "stream",
     "text": [
      "Crawl data 3982 success !!!\n"
     ]
    },
    {
     "name": "stderr",
     "output_type": "stream",
     "text": [
      " 12%|█▏        | 63/524 [01:52<16:27,  2.14s/it]"
     ]
    },
    {
     "name": "stdout",
     "output_type": "stream",
     "text": [
      "Crawl data 10177 success !!!\n"
     ]
    },
    {
     "name": "stderr",
     "output_type": "stream",
     "text": [
      " 12%|█▏        | 64/524 [01:53<14:18,  1.87s/it]"
     ]
    },
    {
     "name": "stdout",
     "output_type": "stream",
     "text": [
      "Crawl data 76452 success !!!\n"
     ]
    },
    {
     "name": "stderr",
     "output_type": "stream",
     "text": [
      " 12%|█▏        | 65/524 [01:56<15:28,  2.02s/it]"
     ]
    },
    {
     "name": "stdout",
     "output_type": "stream",
     "text": [
      "Crawl data 36906 success !!!\n"
     ]
    },
    {
     "name": "stderr",
     "output_type": "stream",
     "text": [
      " 13%|█▎        | 66/524 [01:58<16:13,  2.13s/it]"
     ]
    },
    {
     "name": "stdout",
     "output_type": "stream",
     "text": [
      "Crawl data 107750 success !!!\n"
     ]
    },
    {
     "name": "stderr",
     "output_type": "stream",
     "text": [
      " 13%|█▎        | 67/524 [02:00<16:31,  2.17s/it]"
     ]
    },
    {
     "name": "stdout",
     "output_type": "stream",
     "text": [
      "Crawl data 88735 success !!!\n"
     ]
    },
    {
     "name": "stderr",
     "output_type": "stream",
     "text": [
      " 13%|█▎        | 68/524 [02:03<16:48,  2.21s/it]"
     ]
    },
    {
     "name": "stdout",
     "output_type": "stream",
     "text": [
      "Crawl data 883 success !!!\n"
     ]
    },
    {
     "name": "stderr",
     "output_type": "stream",
     "text": [
      " 13%|█▎        | 69/524 [02:05<16:45,  2.21s/it]"
     ]
    },
    {
     "name": "stdout",
     "output_type": "stream",
     "text": [
      "Crawl data 133020 success !!!\n"
     ]
    },
    {
     "name": "stderr",
     "output_type": "stream",
     "text": [
      " 13%|█▎        | 70/524 [02:06<14:26,  1.91s/it]"
     ]
    },
    {
     "name": "stdout",
     "output_type": "stream",
     "text": [
      "Crawl data 14948 success !!!\n"
     ]
    },
    {
     "name": "stderr",
     "output_type": "stream",
     "text": [
      " 14%|█▎        | 71/524 [02:08<13:05,  1.73s/it]"
     ]
    },
    {
     "name": "stdout",
     "output_type": "stream",
     "text": [
      "Crawl data 20624 success !!!\n"
     ]
    },
    {
     "name": "stderr",
     "output_type": "stream",
     "text": [
      " 14%|█▎        | 72/524 [02:09<12:14,  1.62s/it]"
     ]
    },
    {
     "name": "stdout",
     "output_type": "stream",
     "text": [
      "Crawl data 278152 success !!!\n"
     ]
    },
    {
     "name": "stderr",
     "output_type": "stream",
     "text": [
      " 14%|█▍        | 73/524 [02:10<11:29,  1.53s/it]"
     ]
    },
    {
     "name": "stdout",
     "output_type": "stream",
     "text": [
      "Crawl data 86287 success !!!\n"
     ]
    },
    {
     "name": "stderr",
     "output_type": "stream",
     "text": [
      " 14%|█▍        | 74/524 [02:12<10:57,  1.46s/it]"
     ]
    },
    {
     "name": "stdout",
     "output_type": "stream",
     "text": [
      "Crawl data 271411 success !!!\n"
     ]
    },
    {
     "name": "stderr",
     "output_type": "stream",
     "text": [
      " 14%|█▍        | 75/524 [02:13<10:34,  1.41s/it]"
     ]
    },
    {
     "name": "stdout",
     "output_type": "stream",
     "text": [
      "Crawl data 84036 success !!!\n"
     ]
    },
    {
     "name": "stderr",
     "output_type": "stream",
     "text": [
      " 15%|█▍        | 76/524 [02:14<10:05,  1.35s/it]"
     ]
    },
    {
     "name": "stdout",
     "output_type": "stream",
     "text": [
      "Crawl data 274685 success !!!\n"
     ]
    },
    {
     "name": "stderr",
     "output_type": "stream",
     "text": [
      " 15%|█▍        | 77/524 [02:16<11:59,  1.61s/it]"
     ]
    },
    {
     "name": "stdout",
     "output_type": "stream",
     "text": [
      "Crawl data 4629 success !!!\n"
     ]
    },
    {
     "name": "stderr",
     "output_type": "stream",
     "text": [
      " 15%|█▍        | 78/524 [02:17<11:05,  1.49s/it]"
     ]
    },
    {
     "name": "stdout",
     "output_type": "stream",
     "text": [
      "Crawl data 78140 success !!!\n"
     ]
    },
    {
     "name": "stderr",
     "output_type": "stream",
     "text": [
      " 15%|█▌        | 79/524 [02:20<13:02,  1.76s/it]"
     ]
    },
    {
     "name": "stdout",
     "output_type": "stream",
     "text": [
      "Crawl data 6014 success !!!\n"
     ]
    },
    {
     "name": "stderr",
     "output_type": "stream",
     "text": [
      " 15%|█▌        | 80/524 [02:22<14:11,  1.92s/it]"
     ]
    },
    {
     "name": "stdout",
     "output_type": "stream",
     "text": [
      "Crawl data 166233 success !!!\n"
     ]
    },
    {
     "name": "stderr",
     "output_type": "stream",
     "text": [
      " 15%|█▌        | 81/524 [02:24<14:57,  2.03s/it]"
     ]
    },
    {
     "name": "stdout",
     "output_type": "stream",
     "text": [
      "Crawl data 251828 success !!!\n"
     ]
    },
    {
     "name": "stderr",
     "output_type": "stream",
     "text": [
      " 16%|█▌        | 82/524 [02:26<13:08,  1.78s/it]"
     ]
    },
    {
     "name": "stdout",
     "output_type": "stream",
     "text": [
      "Crawl data 13797 success !!!\n"
     ]
    },
    {
     "name": "stderr",
     "output_type": "stream",
     "text": [
      " 16%|█▌        | 83/524 [02:27<11:49,  1.61s/it]"
     ]
    },
    {
     "name": "stdout",
     "output_type": "stream",
     "text": [
      "Crawl data 119940 success !!!\n"
     ]
    },
    {
     "name": "stderr",
     "output_type": "stream",
     "text": [
      " 16%|█▌        | 84/524 [02:28<11:08,  1.52s/it]"
     ]
    },
    {
     "name": "stdout",
     "output_type": "stream",
     "text": [
      "Crawl data 158503 success !!!\n"
     ]
    },
    {
     "name": "stderr",
     "output_type": "stream",
     "text": [
      " 16%|█▌        | 85/524 [02:29<10:37,  1.45s/it]"
     ]
    },
    {
     "name": "stdout",
     "output_type": "stream",
     "text": [
      "Crawl data 238467 success !!!\n"
     ]
    },
    {
     "name": "stderr",
     "output_type": "stream",
     "text": [
      " 16%|█▋        | 86/524 [02:31<10:07,  1.39s/it]"
     ]
    },
    {
     "name": "stdout",
     "output_type": "stream",
     "text": [
      "Crawl data 184145 success !!!\n"
     ]
    },
    {
     "name": "stderr",
     "output_type": "stream",
     "text": [
      " 17%|█▋        | 87/524 [02:32<09:52,  1.36s/it]"
     ]
    },
    {
     "name": "stdout",
     "output_type": "stream",
     "text": [
      "Crawl data 120560 success !!!\n"
     ]
    },
    {
     "name": "stderr",
     "output_type": "stream",
     "text": [
      " 17%|█▋        | 88/524 [02:34<11:51,  1.63s/it]"
     ]
    },
    {
     "name": "stdout",
     "output_type": "stream",
     "text": [
      "Crawl data 47913 success !!!\n"
     ]
    },
    {
     "name": "stderr",
     "output_type": "stream",
     "text": [
      " 17%|█▋        | 89/524 [02:36<11:05,  1.53s/it]"
     ]
    },
    {
     "name": "stdout",
     "output_type": "stream",
     "text": [
      "Crawl data 120091 success !!!\n"
     ]
    },
    {
     "name": "stderr",
     "output_type": "stream",
     "text": [
      " 17%|█▋        | 90/524 [02:37<10:29,  1.45s/it]"
     ]
    },
    {
     "name": "stdout",
     "output_type": "stream",
     "text": [
      "Crawl data 49991 success !!!\n"
     ]
    },
    {
     "name": "stderr",
     "output_type": "stream",
     "text": [
      " 17%|█▋        | 91/524 [02:39<12:31,  1.74s/it]"
     ]
    },
    {
     "name": "stdout",
     "output_type": "stream",
     "text": [
      "Crawl data 154865 success !!!\n"
     ]
    },
    {
     "name": "stderr",
     "output_type": "stream",
     "text": [
      " 18%|█▊        | 92/524 [02:41<13:30,  1.88s/it]"
     ]
    },
    {
     "name": "stdout",
     "output_type": "stream",
     "text": [
      "Crawl data 91532 success !!!\n"
     ]
    },
    {
     "name": "stderr",
     "output_type": "stream",
     "text": [
      " 18%|█▊        | 93/524 [02:44<14:29,  2.02s/it]"
     ]
    },
    {
     "name": "stdout",
     "output_type": "stream",
     "text": [
      "Crawl data 7798 success !!!\n"
     ]
    },
    {
     "name": "stderr",
     "output_type": "stream",
     "text": [
      " 18%|█▊        | 94/524 [02:45<12:40,  1.77s/it]"
     ]
    },
    {
     "name": "stdout",
     "output_type": "stream",
     "text": [
      "Crawl data 143225 success !!!\n"
     ]
    },
    {
     "name": "stderr",
     "output_type": "stream",
     "text": [
      " 18%|█▊        | 95/524 [02:46<11:38,  1.63s/it]"
     ]
    },
    {
     "name": "stdout",
     "output_type": "stream",
     "text": [
      "Crawl data 81954 success !!!\n"
     ]
    },
    {
     "name": "stderr",
     "output_type": "stream",
     "text": [
      " 18%|█▊        | 96/524 [02:49<13:02,  1.83s/it]"
     ]
    },
    {
     "name": "stdout",
     "output_type": "stream",
     "text": [
      "Crawl data 4546 success !!!\n"
     ]
    },
    {
     "name": "stderr",
     "output_type": "stream",
     "text": [
      " 19%|█▊        | 97/524 [02:51<14:02,  1.97s/it]"
     ]
    },
    {
     "name": "stdout",
     "output_type": "stream",
     "text": [
      "Crawl data 53082 success !!!\n"
     ]
    },
    {
     "name": "stderr",
     "output_type": "stream",
     "text": [
      " 19%|█▊        | 98/524 [02:53<14:43,  2.07s/it]"
     ]
    },
    {
     "name": "stdout",
     "output_type": "stream",
     "text": [
      "Crawl data 146720 success !!!\n"
     ]
    },
    {
     "name": "stderr",
     "output_type": "stream",
     "text": [
      " 19%|█▉        | 99/524 [02:55<15:08,  2.14s/it]"
     ]
    },
    {
     "name": "stdout",
     "output_type": "stream",
     "text": [
      "Crawl data 63838 success !!!\n"
     ]
    },
    {
     "name": "stderr",
     "output_type": "stream",
     "text": [
      " 19%|█▉        | 100/524 [02:57<13:31,  1.91s/it]"
     ]
    },
    {
     "name": "stdout",
     "output_type": "stream",
     "text": [
      "Crawl data 919 success !!!\n"
     ]
    },
    {
     "name": "stderr",
     "output_type": "stream",
     "text": [
      " 19%|█▉        | 101/524 [02:58<12:00,  1.70s/it]"
     ]
    },
    {
     "name": "stdout",
     "output_type": "stream",
     "text": [
      "Crawl data 207890 success !!!\n"
     ]
    },
    {
     "name": "stderr",
     "output_type": "stream",
     "text": [
      " 19%|█▉        | 102/524 [02:59<10:57,  1.56s/it]"
     ]
    },
    {
     "name": "stdout",
     "output_type": "stream",
     "text": [
      "Crawl data 133803 success !!!\n"
     ]
    },
    {
     "name": "stderr",
     "output_type": "stream",
     "text": [
      " 20%|█▉        | 103/524 [03:01<10:23,  1.48s/it]"
     ]
    },
    {
     "name": "stdout",
     "output_type": "stream",
     "text": [
      "Crawl data 1384 success !!!\n"
     ]
    },
    {
     "name": "stderr",
     "output_type": "stream",
     "text": [
      " 20%|█▉        | 104/524 [03:02<10:11,  1.46s/it]"
     ]
    },
    {
     "name": "stdout",
     "output_type": "stream",
     "text": [
      "Crawl data 3170 success !!!\n"
     ]
    },
    {
     "name": "stderr",
     "output_type": "stream",
     "text": [
      " 20%|██        | 105/524 [03:03<09:48,  1.41s/it]"
     ]
    },
    {
     "name": "stdout",
     "output_type": "stream",
     "text": [
      "Crawl data 9815 success !!!\n"
     ]
    },
    {
     "name": "stderr",
     "output_type": "stream",
     "text": [
      " 20%|██        | 106/524 [03:05<09:35,  1.38s/it]"
     ]
    },
    {
     "name": "stdout",
     "output_type": "stream",
     "text": [
      "Crawl data 228608 success !!!\n"
     ]
    },
    {
     "name": "stderr",
     "output_type": "stream",
     "text": [
      " 20%|██        | 107/524 [03:06<09:32,  1.37s/it]"
     ]
    },
    {
     "name": "stdout",
     "output_type": "stream",
     "text": [
      "Crawl data 107229 success !!!\n"
     ]
    },
    {
     "name": "stderr",
     "output_type": "stream",
     "text": [
      " 21%|██        | 108/524 [03:07<09:20,  1.35s/it]"
     ]
    },
    {
     "name": "stdout",
     "output_type": "stream",
     "text": [
      "Crawl data 176967 success !!!\n"
     ]
    },
    {
     "name": "stderr",
     "output_type": "stream",
     "text": [
      " 21%|██        | 109/524 [03:08<09:00,  1.30s/it]"
     ]
    },
    {
     "name": "stdout",
     "output_type": "stream",
     "text": [
      "Crawl data 7673 success !!!\n"
     ]
    },
    {
     "name": "stderr",
     "output_type": "stream",
     "text": [
      " 21%|██        | 110/524 [03:11<10:49,  1.57s/it]"
     ]
    },
    {
     "name": "stdout",
     "output_type": "stream",
     "text": [
      "Crawl data 39216 success !!!\n"
     ]
    },
    {
     "name": "stderr",
     "output_type": "stream",
     "text": [
      " 21%|██        | 111/524 [03:13<12:35,  1.83s/it]"
     ]
    },
    {
     "name": "stdout",
     "output_type": "stream",
     "text": [
      "Crawl data 39288 success !!!\n"
     ]
    },
    {
     "name": "stderr",
     "output_type": "stream",
     "text": [
      " 21%|██▏       | 112/524 [03:15<13:18,  1.94s/it]"
     ]
    },
    {
     "name": "stdout",
     "output_type": "stream",
     "text": [
      "Crawl data 193621 success !!!\n"
     ]
    },
    {
     "name": "stderr",
     "output_type": "stream",
     "text": [
      " 22%|██▏       | 113/524 [03:17<13:49,  2.02s/it]"
     ]
    },
    {
     "name": "stdout",
     "output_type": "stream",
     "text": [
      "Crawl data 113527 success !!!\n"
     ]
    },
    {
     "name": "stderr",
     "output_type": "stream",
     "text": [
      " 22%|██▏       | 114/524 [03:20<14:16,  2.09s/it]"
     ]
    },
    {
     "name": "stdout",
     "output_type": "stream",
     "text": [
      "Crawl data 70423 success !!!\n"
     ]
    },
    {
     "name": "stderr",
     "output_type": "stream",
     "text": [
      " 22%|██▏       | 115/524 [03:22<14:49,  2.18s/it]"
     ]
    },
    {
     "name": "stdout",
     "output_type": "stream",
     "text": [
      "Crawl data 19898 success !!!\n"
     ]
    },
    {
     "name": "stderr",
     "output_type": "stream",
     "text": [
      " 22%|██▏       | 116/524 [03:24<14:53,  2.19s/it]"
     ]
    },
    {
     "name": "stdout",
     "output_type": "stream",
     "text": [
      "Crawl data 84324 success !!!\n"
     ]
    },
    {
     "name": "stderr",
     "output_type": "stream",
     "text": [
      " 22%|██▏       | 117/524 [03:26<13:12,  1.95s/it]"
     ]
    },
    {
     "name": "stdout",
     "output_type": "stream",
     "text": [
      "Crawl data 337164 success !!!\n"
     ]
    },
    {
     "name": "stderr",
     "output_type": "stream",
     "text": [
      " 23%|██▎       | 118/524 [03:28<13:51,  2.05s/it]"
     ]
    },
    {
     "name": "stdout",
     "output_type": "stream",
     "text": [
      "Crawl data 92591 success !!!\n"
     ]
    },
    {
     "name": "stderr",
     "output_type": "stream",
     "text": [
      " 23%|██▎       | 119/524 [03:29<12:17,  1.82s/it]"
     ]
    },
    {
     "name": "stdout",
     "output_type": "stream",
     "text": [
      "Crawl data 3132 success !!!\n"
     ]
    },
    {
     "name": "stderr",
     "output_type": "stream",
     "text": [
      " 23%|██▎       | 120/524 [03:31<11:08,  1.65s/it]"
     ]
    },
    {
     "name": "stdout",
     "output_type": "stream",
     "text": [
      "Crawl data 132939 success !!!\n"
     ]
    },
    {
     "name": "stderr",
     "output_type": "stream",
     "text": [
      " 23%|██▎       | 121/524 [03:32<10:24,  1.55s/it]"
     ]
    },
    {
     "name": "stdout",
     "output_type": "stream",
     "text": [
      "Crawl data 215908 success !!!\n"
     ]
    },
    {
     "name": "stderr",
     "output_type": "stream",
     "text": [
      " 23%|██▎       | 122/524 [03:33<09:41,  1.45s/it]"
     ]
    },
    {
     "name": "stdout",
     "output_type": "stream",
     "text": [
      "Crawl data 82138 success !!!\n"
     ]
    },
    {
     "name": "stderr",
     "output_type": "stream",
     "text": [
      " 23%|██▎       | 123/524 [03:34<09:21,  1.40s/it]"
     ]
    },
    {
     "name": "stdout",
     "output_type": "stream",
     "text": [
      "Crawl data 6639 success !!!\n"
     ]
    },
    {
     "name": "stderr",
     "output_type": "stream",
     "text": [
      " 24%|██▎       | 124/524 [03:36<09:04,  1.36s/it]"
     ]
    },
    {
     "name": "stdout",
     "output_type": "stream",
     "text": [
      "Crawl data 232650 success !!!\n"
     ]
    },
    {
     "name": "stderr",
     "output_type": "stream",
     "text": [
      " 24%|██▍       | 125/524 [03:38<10:54,  1.64s/it]"
     ]
    },
    {
     "name": "stdout",
     "output_type": "stream",
     "text": [
      "Crawl data 284969 success !!!\n"
     ]
    },
    {
     "name": "stderr",
     "output_type": "stream",
     "text": [
      " 24%|██▍       | 126/524 [03:40<12:02,  1.81s/it]"
     ]
    },
    {
     "name": "stdout",
     "output_type": "stream",
     "text": [
      "Crawl data 189861 success !!!\n"
     ]
    },
    {
     "name": "stderr",
     "output_type": "stream",
     "text": [
      " 24%|██▍       | 127/524 [03:42<12:55,  1.95s/it]"
     ]
    },
    {
     "name": "stdout",
     "output_type": "stream",
     "text": [
      "Crawl data 52718 success !!!\n"
     ]
    },
    {
     "name": "stderr",
     "output_type": "stream",
     "text": [
      " 24%|██▍       | 128/524 [03:45<13:41,  2.07s/it]"
     ]
    },
    {
     "name": "stdout",
     "output_type": "stream",
     "text": [
      "Crawl data 58336 success !!!\n"
     ]
    },
    {
     "name": "stderr",
     "output_type": "stream",
     "text": [
      " 25%|██▍       | 129/524 [03:47<14:16,  2.17s/it]"
     ]
    },
    {
     "name": "stdout",
     "output_type": "stream",
     "text": [
      "Crawl data 156526 success !!!\n"
     ]
    },
    {
     "name": "stderr",
     "output_type": "stream",
     "text": [
      " 25%|██▍       | 130/524 [03:49<14:21,  2.19s/it]"
     ]
    },
    {
     "name": "stdout",
     "output_type": "stream",
     "text": [
      "Crawl data 112529 success !!!\n"
     ]
    },
    {
     "name": "stderr",
     "output_type": "stream",
     "text": [
      " 25%|██▌       | 131/524 [03:52<14:33,  2.22s/it]"
     ]
    },
    {
     "name": "stdout",
     "output_type": "stream",
     "text": [
      "Crawl data 943 success !!!\n"
     ]
    },
    {
     "name": "stderr",
     "output_type": "stream",
     "text": [
      " 25%|██▌       | 132/524 [03:54<14:45,  2.26s/it]"
     ]
    },
    {
     "name": "stdout",
     "output_type": "stream",
     "text": [
      "Crawl data 336494 success !!!\n"
     ]
    },
    {
     "name": "stderr",
     "output_type": "stream",
     "text": [
      " 25%|██▌       | 133/524 [03:55<12:50,  1.97s/it]"
     ]
    },
    {
     "name": "stdout",
     "output_type": "stream",
     "text": [
      "Crawl data 518 success !!!\n"
     ]
    },
    {
     "name": "stderr",
     "output_type": "stream",
     "text": [
      " 26%|██▌       | 134/524 [03:58<13:32,  2.08s/it]"
     ]
    },
    {
     "name": "stdout",
     "output_type": "stream",
     "text": [
      "Crawl data 22918 success !!!\n"
     ]
    },
    {
     "name": "stderr",
     "output_type": "stream",
     "text": [
      " 26%|██▌       | 135/524 [03:59<12:04,  1.86s/it]"
     ]
    },
    {
     "name": "stdout",
     "output_type": "stream",
     "text": [
      "Crawl data 4106 success !!!\n"
     ]
    },
    {
     "name": "stderr",
     "output_type": "stream",
     "text": [
      " 26%|██▌       | 136/524 [04:01<12:42,  1.97s/it]"
     ]
    },
    {
     "name": "stdout",
     "output_type": "stream",
     "text": [
      "Crawl data 41211 success !!!\n"
     ]
    },
    {
     "name": "stderr",
     "output_type": "stream",
     "text": [
      " 26%|██▌       | 137/524 [04:04<13:23,  2.08s/it]"
     ]
    },
    {
     "name": "stdout",
     "output_type": "stream",
     "text": [
      "Crawl data 11745 success !!!\n"
     ]
    },
    {
     "name": "stderr",
     "output_type": "stream",
     "text": [
      " 26%|██▋       | 138/524 [04:06<13:43,  2.13s/it]"
     ]
    },
    {
     "name": "stdout",
     "output_type": "stream",
     "text": [
      "Crawl data 9886 success !!!\n"
     ]
    },
    {
     "name": "stderr",
     "output_type": "stream",
     "text": [
      " 27%|██▋       | 139/524 [04:07<12:00,  1.87s/it]"
     ]
    },
    {
     "name": "stdout",
     "output_type": "stream",
     "text": [
      "Crawl data 3354 success !!!\n"
     ]
    },
    {
     "name": "stderr",
     "output_type": "stream",
     "text": [
      " 27%|██▋       | 140/524 [04:08<10:42,  1.67s/it]"
     ]
    },
    {
     "name": "stdout",
     "output_type": "stream",
     "text": [
      "Crawl data 275780 success !!!\n"
     ]
    },
    {
     "name": "stderr",
     "output_type": "stream",
     "text": [
      " 27%|██▋       | 141/524 [04:10<09:59,  1.56s/it]"
     ]
    },
    {
     "name": "stdout",
     "output_type": "stream",
     "text": [
      "Crawl data 46708 success !!!\n"
     ]
    },
    {
     "name": "stderr",
     "output_type": "stream",
     "text": [
      " 27%|██▋       | 142/524 [04:11<09:28,  1.49s/it]"
     ]
    },
    {
     "name": "stdout",
     "output_type": "stream",
     "text": [
      "Crawl data 76968 success !!!\n"
     ]
    },
    {
     "name": "stderr",
     "output_type": "stream",
     "text": [
      " 27%|██▋       | 143/524 [04:13<11:04,  1.75s/it]"
     ]
    },
    {
     "name": "stdout",
     "output_type": "stream",
     "text": [
      "Crawl data 86514 success !!!\n"
     ]
    },
    {
     "name": "stderr",
     "output_type": "stream",
     "text": [
      " 27%|██▋       | 144/524 [04:14<10:08,  1.60s/it]"
     ]
    },
    {
     "name": "stdout",
     "output_type": "stream",
     "text": [
      "Crawl data 103426 success !!!\n"
     ]
    },
    {
     "name": "stderr",
     "output_type": "stream",
     "text": [
      " 28%|██▊       | 145/524 [04:17<11:32,  1.83s/it]"
     ]
    },
    {
     "name": "stdout",
     "output_type": "stream",
     "text": [
      "Crawl data 76045 success !!!\n"
     ]
    },
    {
     "name": "stderr",
     "output_type": "stream",
     "text": [
      " 28%|██▊       | 146/524 [04:19<12:23,  1.97s/it]"
     ]
    },
    {
     "name": "stdout",
     "output_type": "stream",
     "text": [
      "Crawl data 7642 success !!!\n"
     ]
    },
    {
     "name": "stderr",
     "output_type": "stream",
     "text": [
      " 28%|██▊       | 147/524 [04:20<11:04,  1.76s/it]"
     ]
    },
    {
     "name": "stdout",
     "output_type": "stream",
     "text": [
      "Crawl data 80972 success !!!\n"
     ]
    },
    {
     "name": "stderr",
     "output_type": "stream",
     "text": [
      " 28%|██▊       | 148/524 [04:23<12:03,  1.92s/it]"
     ]
    },
    {
     "name": "stdout",
     "output_type": "stream",
     "text": [
      "Crawl data 167598 success !!!\n"
     ]
    },
    {
     "name": "stderr",
     "output_type": "stream",
     "text": [
      " 28%|██▊       | 149/524 [04:25<12:52,  2.06s/it]"
     ]
    },
    {
     "name": "stdout",
     "output_type": "stream",
     "text": [
      "Crawl data 14545 success !!!\n"
     ]
    },
    {
     "name": "stderr",
     "output_type": "stream",
     "text": [
      " 29%|██▊       | 150/524 [04:26<11:29,  1.84s/it]"
     ]
    },
    {
     "name": "stdout",
     "output_type": "stream",
     "text": [
      "Crawl data 55101 success !!!\n"
     ]
    },
    {
     "name": "stderr",
     "output_type": "stream",
     "text": [
      " 29%|██▉       | 151/524 [04:28<10:19,  1.66s/it]"
     ]
    },
    {
     "name": "stdout",
     "output_type": "stream",
     "text": [
      "Crawl data 71758 success !!!\n"
     ]
    },
    {
     "name": "stderr",
     "output_type": "stream",
     "text": [
      " 29%|██▉       | 152/524 [04:30<11:41,  1.89s/it]"
     ]
    },
    {
     "name": "stdout",
     "output_type": "stream",
     "text": [
      "Crawl data 60082 success !!!\n"
     ]
    },
    {
     "name": "stderr",
     "output_type": "stream",
     "text": [
      " 29%|██▉       | 153/524 [04:32<12:25,  2.01s/it]"
     ]
    },
    {
     "name": "stdout",
     "output_type": "stream",
     "text": [
      "Crawl data 10326 success !!!\n"
     ]
    },
    {
     "name": "stderr",
     "output_type": "stream",
     "text": [
      " 29%|██▉       | 154/524 [04:34<11:00,  1.79s/it]"
     ]
    },
    {
     "name": "stdout",
     "output_type": "stream",
     "text": [
      "Crawl data 151204 success !!!\n"
     ]
    },
    {
     "name": "stderr",
     "output_type": "stream",
     "text": [
      " 30%|██▉       | 155/524 [04:36<11:46,  1.92s/it]"
     ]
    },
    {
     "name": "stdout",
     "output_type": "stream",
     "text": [
      "Crawl data 173565 success !!!\n"
     ]
    },
    {
     "name": "stderr",
     "output_type": "stream",
     "text": [
      " 30%|██▉       | 156/524 [04:38<12:17,  2.00s/it]"
     ]
    },
    {
     "name": "stdout",
     "output_type": "stream",
     "text": [
      "Crawl data 133024 success !!!\n"
     ]
    },
    {
     "name": "stderr",
     "output_type": "stream",
     "text": [
      " 30%|██▉       | 157/524 [04:40<12:40,  2.07s/it]"
     ]
    },
    {
     "name": "stdout",
     "output_type": "stream",
     "text": [
      "Crawl data 52441 success !!!\n"
     ]
    },
    {
     "name": "stderr",
     "output_type": "stream",
     "text": [
      " 30%|███       | 158/524 [04:42<11:04,  1.81s/it]"
     ]
    },
    {
     "name": "stdout",
     "output_type": "stream",
     "text": [
      "Crawl data 1620 success !!!\n"
     ]
    },
    {
     "name": "stderr",
     "output_type": "stream",
     "text": [
      " 30%|███       | 159/524 [04:44<12:12,  2.01s/it]"
     ]
    },
    {
     "name": "stdout",
     "output_type": "stream",
     "text": [
      "Crawl data 230723 success !!!\n"
     ]
    },
    {
     "name": "stderr",
     "output_type": "stream",
     "text": [
      " 31%|███       | 160/524 [04:46<12:42,  2.09s/it]"
     ]
    },
    {
     "name": "stdout",
     "output_type": "stream",
     "text": [
      "Crawl data 136751 success !!!\n"
     ]
    },
    {
     "name": "stderr",
     "output_type": "stream",
     "text": [
      " 31%|███       | 161/524 [04:49<12:59,  2.15s/it]"
     ]
    },
    {
     "name": "stdout",
     "output_type": "stream",
     "text": [
      "Crawl data 48148 success !!!\n"
     ]
    },
    {
     "name": "stderr",
     "output_type": "stream",
     "text": [
      " 31%|███       | 162/524 [04:50<11:23,  1.89s/it]"
     ]
    },
    {
     "name": "stdout",
     "output_type": "stream",
     "text": [
      "Crawl data 325433 success !!!\n"
     ]
    },
    {
     "name": "stderr",
     "output_type": "stream",
     "text": [
      " 31%|███       | 163/524 [04:51<10:07,  1.68s/it]"
     ]
    },
    {
     "name": "stdout",
     "output_type": "stream",
     "text": [
      "Crawl data 177228 success !!!\n"
     ]
    },
    {
     "name": "stderr",
     "output_type": "stream",
     "text": [
      " 31%|███▏      | 164/524 [04:53<11:03,  1.84s/it]"
     ]
    },
    {
     "name": "stdout",
     "output_type": "stream",
     "text": [
      "Crawl data 34248 success !!!\n"
     ]
    },
    {
     "name": "stderr",
     "output_type": "stream",
     "text": [
      " 31%|███▏      | 165/524 [04:55<11:38,  1.95s/it]"
     ]
    },
    {
     "name": "stdout",
     "output_type": "stream",
     "text": [
      "Crawl data 332804 success !!!\n"
     ]
    },
    {
     "name": "stderr",
     "output_type": "stream",
     "text": [
      " 32%|███▏      | 166/524 [04:57<10:40,  1.79s/it]"
     ]
    },
    {
     "name": "stdout",
     "output_type": "stream",
     "text": [
      "Crawl data 712 success !!!\n"
     ]
    },
    {
     "name": "stderr",
     "output_type": "stream",
     "text": [
      " 32%|███▏      | 167/524 [04:59<11:38,  1.96s/it]"
     ]
    },
    {
     "name": "stdout",
     "output_type": "stream",
     "text": [
      "Crawl data 17844 success !!!\n"
     ]
    },
    {
     "name": "stderr",
     "output_type": "stream",
     "text": [
      " 32%|███▏      | 168/524 [05:02<12:16,  2.07s/it]"
     ]
    },
    {
     "name": "stdout",
     "output_type": "stream",
     "text": [
      "Crawl data 205619 success !!!\n"
     ]
    },
    {
     "name": "stderr",
     "output_type": "stream",
     "text": [
      " 32%|███▏      | 169/524 [05:04<12:41,  2.15s/it]"
     ]
    },
    {
     "name": "stdout",
     "output_type": "stream",
     "text": [
      "Crawl data 110609 success !!!\n"
     ]
    },
    {
     "name": "stderr",
     "output_type": "stream",
     "text": [
      " 32%|███▏      | 170/524 [05:06<12:45,  2.16s/it]"
     ]
    },
    {
     "name": "stdout",
     "output_type": "stream",
     "text": [
      "Crawl data 17549 success !!!\n"
     ]
    },
    {
     "name": "stderr",
     "output_type": "stream",
     "text": [
      " 33%|███▎      | 171/524 [05:08<12:47,  2.17s/it]"
     ]
    },
    {
     "name": "stdout",
     "output_type": "stream",
     "text": [
      "Crawl data 188468 success !!!\n"
     ]
    },
    {
     "name": "stderr",
     "output_type": "stream",
     "text": [
      " 33%|███▎      | 172/524 [05:11<13:05,  2.23s/it]"
     ]
    },
    {
     "name": "stdout",
     "output_type": "stream",
     "text": [
      "Crawl data 2694 success !!!\n"
     ]
    },
    {
     "name": "stderr",
     "output_type": "stream",
     "text": [
      " 33%|███▎      | 173/524 [05:12<11:29,  1.97s/it]"
     ]
    },
    {
     "name": "stdout",
     "output_type": "stream",
     "text": [
      "Crawl data 19971 success !!!\n"
     ]
    },
    {
     "name": "stderr",
     "output_type": "stream",
     "text": [
      " 33%|███▎      | 174/524 [05:14<12:03,  2.07s/it]"
     ]
    },
    {
     "name": "stdout",
     "output_type": "stream",
     "text": [
      "Crawl data 15125 success !!!\n"
     ]
    },
    {
     "name": "stderr",
     "output_type": "stream",
     "text": [
      " 33%|███▎      | 175/524 [05:17<12:26,  2.14s/it]"
     ]
    },
    {
     "name": "stdout",
     "output_type": "stream",
     "text": [
      "Crawl data 111539 success !!!\n"
     ]
    },
    {
     "name": "stderr",
     "output_type": "stream",
     "text": [
      " 34%|███▎      | 176/524 [05:19<12:31,  2.16s/it]"
     ]
    },
    {
     "name": "stdout",
     "output_type": "stream",
     "text": [
      "Crawl data 279312 success !!!\n"
     ]
    },
    {
     "name": "stderr",
     "output_type": "stream",
     "text": [
      " 34%|███▍      | 177/524 [05:21<12:48,  2.21s/it]"
     ]
    },
    {
     "name": "stdout",
     "output_type": "stream",
     "text": [
      "Crawl data 325863 success !!!\n"
     ]
    },
    {
     "name": "stderr",
     "output_type": "stream",
     "text": [
      " 34%|███▍      | 178/524 [05:23<11:20,  1.97s/it]"
     ]
    },
    {
     "name": "stdout",
     "output_type": "stream",
     "text": [
      "Crawl data 79995 success !!!\n"
     ]
    },
    {
     "name": "stderr",
     "output_type": "stream",
     "text": [
      " 34%|███▍      | 179/524 [05:25<11:51,  2.06s/it]"
     ]
    },
    {
     "name": "stdout",
     "output_type": "stream",
     "text": [
      "Crawl data 4927 success !!!\n"
     ]
    },
    {
     "name": "stderr",
     "output_type": "stream",
     "text": [
      " 34%|███▍      | 180/524 [05:28<13:58,  2.44s/it]"
     ]
    },
    {
     "name": "stdout",
     "output_type": "stream",
     "text": [
      "Crawl data 133591 success !!!\n"
     ]
    },
    {
     "name": "stderr",
     "output_type": "stream",
     "text": [
      " 35%|███▍      | 181/524 [05:29<11:55,  2.09s/it]"
     ]
    },
    {
     "name": "stdout",
     "output_type": "stream",
     "text": [
      "Crawl data 73732 success !!!\n"
     ]
    },
    {
     "name": "stderr",
     "output_type": "stream",
     "text": [
      " 35%|███▍      | 182/524 [05:32<12:16,  2.15s/it]"
     ]
    },
    {
     "name": "stdout",
     "output_type": "stream",
     "text": [
      "Crawl data 10239 success !!!\n"
     ]
    },
    {
     "name": "stderr",
     "output_type": "stream",
     "text": [
      " 35%|███▍      | 183/524 [05:33<10:50,  1.91s/it]"
     ]
    },
    {
     "name": "stdout",
     "output_type": "stream",
     "text": [
      "Crawl data 145399 success !!!\n"
     ]
    },
    {
     "name": "stderr",
     "output_type": "stream",
     "text": [
      " 35%|███▌      | 184/524 [05:35<11:29,  2.03s/it]"
     ]
    },
    {
     "name": "stdout",
     "output_type": "stream",
     "text": [
      "Crawl data 110726 success !!!\n"
     ]
    },
    {
     "name": "stderr",
     "output_type": "stream",
     "text": [
      " 35%|███▌      | 185/524 [05:37<10:05,  1.79s/it]"
     ]
    },
    {
     "name": "stdout",
     "output_type": "stream",
     "text": [
      "Crawl data 181732 success !!!\n"
     ]
    },
    {
     "name": "stderr",
     "output_type": "stream",
     "text": [
      " 35%|███▌      | 186/524 [05:38<09:11,  1.63s/it]"
     ]
    },
    {
     "name": "stdout",
     "output_type": "stream",
     "text": [
      "Crawl data 62812 success !!!\n"
     ]
    },
    {
     "name": "stderr",
     "output_type": "stream",
     "text": [
      " 36%|███▌      | 187/524 [05:39<08:44,  1.56s/it]"
     ]
    },
    {
     "name": "stdout",
     "output_type": "stream",
     "text": [
      "Crawl data 270852 success !!!\n"
     ]
    },
    {
     "name": "stderr",
     "output_type": "stream",
     "text": [
      " 36%|███▌      | 188/524 [05:41<08:15,  1.47s/it]"
     ]
    },
    {
     "name": "stdout",
     "output_type": "stream",
     "text": [
      "Crawl data 187497 success !!!\n"
     ]
    },
    {
     "name": "stderr",
     "output_type": "stream",
     "text": [
      " 36%|███▌      | 189/524 [05:43<09:31,  1.71s/it]"
     ]
    },
    {
     "name": "stdout",
     "output_type": "stream",
     "text": [
      "Crawl data 4475 success !!!\n"
     ]
    },
    {
     "name": "stderr",
     "output_type": "stream",
     "text": [
      " 36%|███▋      | 190/524 [05:45<10:28,  1.88s/it]"
     ]
    },
    {
     "name": "stdout",
     "output_type": "stream",
     "text": [
      "Crawl data 814 success !!!\n"
     ]
    },
    {
     "name": "stderr",
     "output_type": "stream",
     "text": [
      " 36%|███▋      | 191/524 [05:46<09:28,  1.71s/it]"
     ]
    },
    {
     "name": "stdout",
     "output_type": "stream",
     "text": [
      "Crawl data 2804 success !!!\n"
     ]
    },
    {
     "name": "stderr",
     "output_type": "stream",
     "text": [
      " 37%|███▋      | 192/524 [05:49<10:28,  1.89s/it]"
     ]
    },
    {
     "name": "stdout",
     "output_type": "stream",
     "text": [
      "Crawl data 192769 success !!!\n"
     ]
    },
    {
     "name": "stderr",
     "output_type": "stream",
     "text": [
      " 37%|███▋      | 193/524 [05:50<09:24,  1.71s/it]"
     ]
    },
    {
     "name": "stdout",
     "output_type": "stream",
     "text": [
      "Crawl data 157404 success !!!\n"
     ]
    },
    {
     "name": "stderr",
     "output_type": "stream",
     "text": [
      " 37%|███▋      | 194/524 [05:52<10:12,  1.86s/it]"
     ]
    },
    {
     "name": "stdout",
     "output_type": "stream",
     "text": [
      "Crawl data 6343 success !!!\n"
     ]
    },
    {
     "name": "stderr",
     "output_type": "stream",
     "text": [
      " 37%|███▋      | 195/524 [05:53<09:07,  1.66s/it]"
     ]
    },
    {
     "name": "stdout",
     "output_type": "stream",
     "text": [
      "Crawl data 55655 success !!!\n"
     ]
    },
    {
     "name": "stderr",
     "output_type": "stream",
     "text": [
      " 37%|███▋      | 196/524 [05:55<08:28,  1.55s/it]"
     ]
    },
    {
     "name": "stdout",
     "output_type": "stream",
     "text": [
      "Crawl data 13239 success !!!\n"
     ]
    },
    {
     "name": "stderr",
     "output_type": "stream",
     "text": [
      " 38%|███▊      | 197/524 [05:56<08:03,  1.48s/it]"
     ]
    },
    {
     "name": "stdout",
     "output_type": "stream",
     "text": [
      "Crawl data 128870 success !!!\n"
     ]
    },
    {
     "name": "stderr",
     "output_type": "stream",
     "text": [
      " 38%|███▊      | 198/524 [05:57<07:46,  1.43s/it]"
     ]
    },
    {
     "name": "stdout",
     "output_type": "stream",
     "text": [
      "Crawl data 288606 success !!!\n"
     ]
    },
    {
     "name": "stderr",
     "output_type": "stream",
     "text": [
      " 38%|███▊      | 199/524 [05:59<09:02,  1.67s/it]"
     ]
    },
    {
     "name": "stdout",
     "output_type": "stream",
     "text": [
      "Crawl data 64540 success !!!\n"
     ]
    },
    {
     "name": "stderr",
     "output_type": "stream",
     "text": [
      " 38%|███▊      | 200/524 [06:02<09:58,  1.85s/it]"
     ]
    },
    {
     "name": "stdout",
     "output_type": "stream",
     "text": [
      "Crawl data 174179 success !!!\n"
     ]
    },
    {
     "name": "stderr",
     "output_type": "stream",
     "text": [
      " 38%|███▊      | 201/524 [06:04<10:42,  1.99s/it]"
     ]
    },
    {
     "name": "stdout",
     "output_type": "stream",
     "text": [
      "Crawl data 10592 success !!!\n"
     ]
    },
    {
     "name": "stderr",
     "output_type": "stream",
     "text": [
      " 39%|███▊      | 202/524 [06:06<11:13,  2.09s/it]"
     ]
    },
    {
     "name": "stdout",
     "output_type": "stream",
     "text": [
      "Crawl data 146521 success !!!\n"
     ]
    },
    {
     "name": "stderr",
     "output_type": "stream",
     "text": [
      " 39%|███▊      | 203/524 [06:09<11:35,  2.17s/it]"
     ]
    },
    {
     "name": "stdout",
     "output_type": "stream",
     "text": [
      "Crawl data 119155 success !!!\n"
     ]
    },
    {
     "name": "stderr",
     "output_type": "stream",
     "text": [
      " 39%|███▉      | 204/524 [06:10<10:10,  1.91s/it]"
     ]
    },
    {
     "name": "stdout",
     "output_type": "stream",
     "text": [
      "Crawl data 311092 success !!!\n"
     ]
    },
    {
     "name": "stderr",
     "output_type": "stream",
     "text": [
      " 39%|███▉      | 205/524 [06:11<09:04,  1.71s/it]"
     ]
    },
    {
     "name": "stdout",
     "output_type": "stream",
     "text": [
      "Crawl data 2091 success !!!\n"
     ]
    },
    {
     "name": "stderr",
     "output_type": "stream",
     "text": [
      " 39%|███▉      | 206/524 [06:14<09:50,  1.86s/it]"
     ]
    },
    {
     "name": "stdout",
     "output_type": "stream",
     "text": [
      "Crawl data 153397 success !!!\n"
     ]
    },
    {
     "name": "stderr",
     "output_type": "stream",
     "text": [
      " 40%|███▉      | 207/524 [06:16<10:25,  1.97s/it]"
     ]
    },
    {
     "name": "stdout",
     "output_type": "stream",
     "text": [
      "Crawl data 62737 success !!!\n"
     ]
    },
    {
     "name": "stderr",
     "output_type": "stream",
     "text": [
      " 40%|███▉      | 208/524 [06:19<11:51,  2.25s/it]"
     ]
    },
    {
     "name": "stdout",
     "output_type": "stream",
     "text": [
      "Crawl data 18544 success !!!\n"
     ]
    },
    {
     "name": "stderr",
     "output_type": "stream",
     "text": [
      " 40%|███▉      | 209/524 [06:20<10:40,  2.03s/it]"
     ]
    },
    {
     "name": "stdout",
     "output_type": "stream",
     "text": [
      "Crawl data 42811 success !!!\n"
     ]
    },
    {
     "name": "stderr",
     "output_type": "stream",
     "text": [
      " 40%|████      | 210/524 [06:21<09:27,  1.81s/it]"
     ]
    },
    {
     "name": "stdout",
     "output_type": "stream",
     "text": [
      "Crawl data 229237 success !!!\n"
     ]
    },
    {
     "name": "stderr",
     "output_type": "stream",
     "text": [
      " 40%|████      | 211/524 [06:24<10:10,  1.95s/it]"
     ]
    },
    {
     "name": "stdout",
     "output_type": "stream",
     "text": [
      "Crawl data 64283 success !!!\n"
     ]
    },
    {
     "name": "stderr",
     "output_type": "stream",
     "text": [
      " 40%|████      | 212/524 [06:26<10:38,  2.05s/it]"
     ]
    },
    {
     "name": "stdout",
     "output_type": "stream",
     "text": [
      "Crawl data 117954 success !!!\n"
     ]
    },
    {
     "name": "stderr",
     "output_type": "stream",
     "text": [
      " 41%|████      | 213/524 [06:27<09:31,  1.84s/it]"
     ]
    },
    {
     "name": "stdout",
     "output_type": "stream",
     "text": [
      "Crawl data 91096 success !!!\n"
     ]
    },
    {
     "name": "stderr",
     "output_type": "stream",
     "text": [
      " 41%|████      | 214/524 [06:29<08:29,  1.64s/it]"
     ]
    },
    {
     "name": "stdout",
     "output_type": "stream",
     "text": [
      "Crawl data 306688 success !!!\n"
     ]
    },
    {
     "name": "stderr",
     "output_type": "stream",
     "text": [
      " 41%|████      | 215/524 [06:31<09:30,  1.85s/it]"
     ]
    },
    {
     "name": "stdout",
     "output_type": "stream",
     "text": [
      "Crawl data 153332 success !!!\n"
     ]
    },
    {
     "name": "stderr",
     "output_type": "stream",
     "text": [
      " 41%|████      | 216/524 [06:32<08:36,  1.68s/it]"
     ]
    },
    {
     "name": "stdout",
     "output_type": "stream",
     "text": [
      "Crawl data 13733 success !!!\n"
     ]
    },
    {
     "name": "stderr",
     "output_type": "stream",
     "text": [
      " 41%|████▏     | 217/524 [06:34<09:30,  1.86s/it]"
     ]
    },
    {
     "name": "stdout",
     "output_type": "stream",
     "text": [
      "Crawl data 5744 success !!!\n"
     ]
    },
    {
     "name": "stderr",
     "output_type": "stream",
     "text": [
      " 42%|████▏     | 218/524 [06:37<10:12,  2.00s/it]"
     ]
    },
    {
     "name": "stdout",
     "output_type": "stream",
     "text": [
      "Crawl data 305758 success !!!\n"
     ]
    },
    {
     "name": "stderr",
     "output_type": "stream",
     "text": [
      " 42%|████▏     | 219/524 [06:39<10:43,  2.11s/it]"
     ]
    },
    {
     "name": "stdout",
     "output_type": "stream",
     "text": [
      "Crawl data 46528 success !!!\n"
     ]
    },
    {
     "name": "stderr",
     "output_type": "stream",
     "text": [
      " 42%|████▏     | 220/524 [06:40<09:27,  1.87s/it]"
     ]
    },
    {
     "name": "stdout",
     "output_type": "stream",
     "text": [
      "Crawl data 1323 success !!!\n"
     ]
    },
    {
     "name": "stderr",
     "output_type": "stream",
     "text": [
      " 42%|████▏     | 221/524 [06:42<08:37,  1.71s/it]"
     ]
    },
    {
     "name": "stdout",
     "output_type": "stream",
     "text": [
      "Crawl data 172797 success !!!\n"
     ]
    },
    {
     "name": "stderr",
     "output_type": "stream",
     "text": [
      " 42%|████▏     | 222/524 [06:43<08:10,  1.63s/it]"
     ]
    },
    {
     "name": "stdout",
     "output_type": "stream",
     "text": [
      "Crawl data 239242 success !!!\n"
     ]
    },
    {
     "name": "stderr",
     "output_type": "stream",
     "text": [
      " 43%|████▎     | 223/524 [06:44<07:37,  1.52s/it]"
     ]
    },
    {
     "name": "stdout",
     "output_type": "stream",
     "text": [
      "Crawl data 11357 success !!!\n"
     ]
    },
    {
     "name": "stderr",
     "output_type": "stream",
     "text": [
      " 43%|████▎     | 224/524 [06:47<08:38,  1.73s/it]"
     ]
    },
    {
     "name": "stdout",
     "output_type": "stream",
     "text": [
      "Crawl data 1658 success !!!\n"
     ]
    },
    {
     "name": "stderr",
     "output_type": "stream",
     "text": [
      " 43%|████▎     | 225/524 [06:49<09:30,  1.91s/it]"
     ]
    },
    {
     "name": "stdout",
     "output_type": "stream",
     "text": [
      "Crawl data 941 success !!!\n"
     ]
    },
    {
     "name": "stderr",
     "output_type": "stream",
     "text": [
      " 43%|████▎     | 226/524 [06:51<09:54,  1.99s/it]"
     ]
    },
    {
     "name": "stdout",
     "output_type": "stream",
     "text": [
      "Crawl data 12371 success !!!\n"
     ]
    },
    {
     "name": "stderr",
     "output_type": "stream",
     "text": [
      " 43%|████▎     | 227/524 [06:52<08:41,  1.75s/it]"
     ]
    },
    {
     "name": "stdout",
     "output_type": "stream",
     "text": [
      "Crawl data 288594 success !!!\n"
     ]
    },
    {
     "name": "stderr",
     "output_type": "stream",
     "text": [
      " 44%|████▎     | 228/524 [06:55<09:21,  1.90s/it]"
     ]
    },
    {
     "name": "stdout",
     "output_type": "stream",
     "text": [
      "Crawl data 312140 success !!!\n"
     ]
    },
    {
     "name": "stderr",
     "output_type": "stream",
     "text": [
      " 44%|████▎     | 229/524 [06:56<08:21,  1.70s/it]"
     ]
    },
    {
     "name": "stdout",
     "output_type": "stream",
     "text": [
      "Crawl data 286038 success !!!\n"
     ]
    },
    {
     "name": "stderr",
     "output_type": "stream",
     "text": [
      " 44%|████▍     | 230/524 [06:58<09:17,  1.90s/it]"
     ]
    },
    {
     "name": "stdout",
     "output_type": "stream",
     "text": [
      "Crawl data 137101 success !!!\n"
     ]
    },
    {
     "name": "stderr",
     "output_type": "stream",
     "text": [
      " 44%|████▍     | 231/524 [07:01<09:54,  2.03s/it]"
     ]
    },
    {
     "name": "stdout",
     "output_type": "stream",
     "text": [
      "Crawl data 107509 success !!!\n"
     ]
    },
    {
     "name": "stderr",
     "output_type": "stream",
     "text": [
      " 44%|████▍     | 232/524 [07:03<10:22,  2.13s/it]"
     ]
    },
    {
     "name": "stdout",
     "output_type": "stream",
     "text": [
      "Crawl data 149372 success !!!\n"
     ]
    },
    {
     "name": "stderr",
     "output_type": "stream",
     "text": [
      " 44%|████▍     | 233/524 [07:04<09:17,  1.92s/it]"
     ]
    },
    {
     "name": "stdout",
     "output_type": "stream",
     "text": [
      "Crawl data 135747 success !!!\n"
     ]
    },
    {
     "name": "stderr",
     "output_type": "stream",
     "text": [
      " 45%|████▍     | 234/524 [07:06<08:21,  1.73s/it]"
     ]
    },
    {
     "name": "stdout",
     "output_type": "stream",
     "text": [
      "Crawl data 2108 success !!!\n"
     ]
    },
    {
     "name": "stderr",
     "output_type": "stream",
     "text": [
      " 45%|████▍     | 235/524 [07:08<09:16,  1.92s/it]"
     ]
    },
    {
     "name": "stdout",
     "output_type": "stream",
     "text": [
      "Crawl data 291389 success !!!\n"
     ]
    },
    {
     "name": "stderr",
     "output_type": "stream",
     "text": [
      " 45%|████▌     | 236/524 [07:10<09:40,  2.02s/it]"
     ]
    },
    {
     "name": "stdout",
     "output_type": "stream",
     "text": [
      "Crawl data 264916 success !!!\n"
     ]
    },
    {
     "name": "stderr",
     "output_type": "stream",
     "text": [
      " 45%|████▌     | 237/524 [07:11<08:29,  1.77s/it]"
     ]
    },
    {
     "name": "stdout",
     "output_type": "stream",
     "text": [
      "Crawl data 132847 success !!!\n"
     ]
    },
    {
     "name": "stderr",
     "output_type": "stream",
     "text": [
      " 45%|████▌     | 238/524 [07:13<07:46,  1.63s/it]"
     ]
    },
    {
     "name": "stdout",
     "output_type": "stream",
     "text": [
      "Crawl data 10718 success !!!\n"
     ]
    },
    {
     "name": "stderr",
     "output_type": "stream",
     "text": [
      " 46%|████▌     | 239/524 [07:14<07:16,  1.53s/it]"
     ]
    },
    {
     "name": "stdout",
     "output_type": "stream",
     "text": [
      "Crawl data 265562 success !!!\n"
     ]
    },
    {
     "name": "stderr",
     "output_type": "stream",
     "text": [
      " 46%|████▌     | 240/524 [07:15<06:53,  1.46s/it]"
     ]
    },
    {
     "name": "stdout",
     "output_type": "stream",
     "text": [
      "Crawl data 119213 success !!!\n"
     ]
    },
    {
     "name": "stderr",
     "output_type": "stream",
     "text": [
      " 46%|████▌     | 241/524 [07:17<06:41,  1.42s/it]"
     ]
    },
    {
     "name": "stdout",
     "output_type": "stream",
     "text": [
      "Crawl data 122209 success !!!\n"
     ]
    },
    {
     "name": "stderr",
     "output_type": "stream",
     "text": [
      " 46%|████▌     | 242/524 [07:19<08:04,  1.72s/it]"
     ]
    },
    {
     "name": "stdout",
     "output_type": "stream",
     "text": [
      "Crawl data 330210 success !!!\n"
     ]
    },
    {
     "name": "stderr",
     "output_type": "stream",
     "text": [
      " 46%|████▋     | 243/524 [07:20<07:30,  1.60s/it]"
     ]
    },
    {
     "name": "stdout",
     "output_type": "stream",
     "text": [
      "Crawl data 146123 success !!!\n"
     ]
    },
    {
     "name": "stderr",
     "output_type": "stream",
     "text": [
      " 47%|████▋     | 244/524 [07:23<08:34,  1.84s/it]"
     ]
    },
    {
     "name": "stdout",
     "output_type": "stream",
     "text": [
      "Crawl data 105467 success !!!\n"
     ]
    },
    {
     "name": "stderr",
     "output_type": "stream",
     "text": [
      " 47%|████▋     | 245/524 [07:24<07:43,  1.66s/it]"
     ]
    },
    {
     "name": "stdout",
     "output_type": "stream",
     "text": [
      "Crawl data 246019 success !!!\n"
     ]
    },
    {
     "name": "stderr",
     "output_type": "stream",
     "text": [
      " 47%|████▋     | 246/524 [07:25<07:15,  1.57s/it]"
     ]
    },
    {
     "name": "stdout",
     "output_type": "stream",
     "text": [
      "Crawl data 51889 success !!!\n"
     ]
    },
    {
     "name": "stderr",
     "output_type": "stream",
     "text": [
      " 47%|████▋     | 247/524 [07:27<06:50,  1.48s/it]"
     ]
    },
    {
     "name": "stdout",
     "output_type": "stream",
     "text": [
      "Crawl data 306590 success !!!\n"
     ]
    },
    {
     "name": "stderr",
     "output_type": "stream",
     "text": [
      " 47%|████▋     | 248/524 [07:29<07:56,  1.73s/it]"
     ]
    },
    {
     "name": "stdout",
     "output_type": "stream",
     "text": [
      "Crawl data 110801 success !!!\n"
     ]
    },
    {
     "name": "stderr",
     "output_type": "stream",
     "text": [
      " 48%|████▊     | 249/524 [07:31<08:42,  1.90s/it]"
     ]
    },
    {
     "name": "stdout",
     "output_type": "stream",
     "text": [
      "Crawl data 45594 success !!!\n"
     ]
    },
    {
     "name": "stderr",
     "output_type": "stream",
     "text": [
      " 48%|████▊     | 250/524 [07:33<07:56,  1.74s/it]"
     ]
    },
    {
     "name": "stdout",
     "output_type": "stream",
     "text": [
      "Crawl data 6190 success !!!\n"
     ]
    },
    {
     "name": "stderr",
     "output_type": "stream",
     "text": [
      " 48%|████▊     | 251/524 [07:35<08:43,  1.92s/it]"
     ]
    },
    {
     "name": "stdout",
     "output_type": "stream",
     "text": [
      "Crawl data 42186 success !!!\n"
     ]
    },
    {
     "name": "stderr",
     "output_type": "stream",
     "text": [
      " 48%|████▊     | 252/524 [07:37<09:14,  2.04s/it]"
     ]
    },
    {
     "name": "stdout",
     "output_type": "stream",
     "text": [
      "Crawl data 312139 success !!!\n"
     ]
    },
    {
     "name": "stderr",
     "output_type": "stream",
     "text": [
      " 48%|████▊     | 253/524 [07:40<09:35,  2.12s/it]"
     ]
    },
    {
     "name": "stdout",
     "output_type": "stream",
     "text": [
      "Crawl data 296234 success !!!\n"
     ]
    },
    {
     "name": "stderr",
     "output_type": "stream",
     "text": [
      " 48%|████▊     | 254/524 [07:42<10:01,  2.23s/it]"
     ]
    },
    {
     "name": "stdout",
     "output_type": "stream",
     "text": [
      "Crawl data 269222 success !!!\n"
     ]
    },
    {
     "name": "stderr",
     "output_type": "stream",
     "text": [
      " 49%|████▊     | 255/524 [07:43<08:36,  1.92s/it]"
     ]
    },
    {
     "name": "stdout",
     "output_type": "stream",
     "text": [
      "Crawl data 22953 success !!!\n"
     ]
    },
    {
     "name": "stderr",
     "output_type": "stream",
     "text": [
      " 49%|████▉     | 256/524 [07:46<09:05,  2.03s/it]"
     ]
    },
    {
     "name": "stdout",
     "output_type": "stream",
     "text": [
      "Crawl data 1725 success !!!\n"
     ]
    },
    {
     "name": "stderr",
     "output_type": "stream",
     "text": [
      " 49%|████▉     | 257/524 [07:48<09:26,  2.12s/it]"
     ]
    },
    {
     "name": "stdout",
     "output_type": "stream",
     "text": [
      "Crawl data 131776 success !!!\n"
     ]
    },
    {
     "name": "stderr",
     "output_type": "stream",
     "text": [
      " 49%|████▉     | 258/524 [07:50<09:47,  2.21s/it]"
     ]
    },
    {
     "name": "stdout",
     "output_type": "stream",
     "text": [
      "Crawl data 76924 success !!!\n"
     ]
    },
    {
     "name": "stderr",
     "output_type": "stream",
     "text": [
      " 49%|████▉     | 259/524 [07:53<10:00,  2.27s/it]"
     ]
    },
    {
     "name": "stdout",
     "output_type": "stream",
     "text": [
      "Crawl data 99305 success !!!\n"
     ]
    },
    {
     "name": "stderr",
     "output_type": "stream",
     "text": [
      " 50%|████▉     | 260/524 [07:54<08:39,  1.97s/it]"
     ]
    },
    {
     "name": "stdout",
     "output_type": "stream",
     "text": [
      "Crawl data 11929 success !!!\n"
     ]
    },
    {
     "name": "stderr",
     "output_type": "stream",
     "text": [
      " 50%|████▉     | 261/524 [07:55<07:43,  1.76s/it]"
     ]
    },
    {
     "name": "stdout",
     "output_type": "stream",
     "text": [
      "Crawl data 22836 success !!!\n"
     ]
    },
    {
     "name": "stderr",
     "output_type": "stream",
     "text": [
      " 50%|█████     | 262/524 [07:57<07:02,  1.61s/it]"
     ]
    },
    {
     "name": "stdout",
     "output_type": "stream",
     "text": [
      "Crawl data 117279 success !!!\n"
     ]
    },
    {
     "name": "stderr",
     "output_type": "stream",
     "text": [
      " 50%|█████     | 263/524 [07:58<06:34,  1.51s/it]"
     ]
    },
    {
     "name": "stdout",
     "output_type": "stream",
     "text": [
      "Crawl data 1390 success !!!\n"
     ]
    },
    {
     "name": "stderr",
     "output_type": "stream",
     "text": [
      " 50%|█████     | 264/524 [08:00<07:41,  1.77s/it]"
     ]
    },
    {
     "name": "stdout",
     "output_type": "stream",
     "text": [
      "Crawl data 35200 success !!!\n"
     ]
    },
    {
     "name": "stderr",
     "output_type": "stream",
     "text": [
      " 51%|█████     | 265/524 [08:02<08:15,  1.91s/it]"
     ]
    },
    {
     "name": "stdout",
     "output_type": "stream",
     "text": [
      "Crawl data 187939 success !!!\n"
     ]
    },
    {
     "name": "stderr",
     "output_type": "stream",
     "text": [
      " 51%|█████     | 266/524 [08:05<08:45,  2.04s/it]"
     ]
    },
    {
     "name": "stdout",
     "output_type": "stream",
     "text": [
      "Crawl data 101499 success !!!\n"
     ]
    },
    {
     "name": "stderr",
     "output_type": "stream",
     "text": [
      " 51%|█████     | 267/524 [08:06<07:45,  1.81s/it]"
     ]
    },
    {
     "name": "stdout",
     "output_type": "stream",
     "text": [
      "Crawl data 219837 success !!!\n"
     ]
    },
    {
     "name": "stderr",
     "output_type": "stream",
     "text": [
      " 51%|█████     | 268/524 [08:08<08:29,  1.99s/it]"
     ]
    },
    {
     "name": "stdout",
     "output_type": "stream",
     "text": [
      "Crawl data 228668 success !!!\n"
     ]
    },
    {
     "name": "stderr",
     "output_type": "stream",
     "text": [
      " 51%|█████▏    | 269/524 [08:10<07:43,  1.82s/it]"
     ]
    },
    {
     "name": "stdout",
     "output_type": "stream",
     "text": [
      "Crawl data 307397 success !!!\n"
     ]
    },
    {
     "name": "stderr",
     "output_type": "stream",
     "text": [
      " 52%|█████▏    | 270/524 [08:11<06:55,  1.64s/it]"
     ]
    },
    {
     "name": "stdout",
     "output_type": "stream",
     "text": [
      "Crawl data 113629 success !!!\n"
     ]
    },
    {
     "name": "stderr",
     "output_type": "stream",
     "text": [
      " 52%|█████▏    | 271/524 [08:12<06:30,  1.54s/it]"
     ]
    },
    {
     "name": "stdout",
     "output_type": "stream",
     "text": [
      "Crawl data 343257 success !!!\n"
     ]
    },
    {
     "name": "stderr",
     "output_type": "stream",
     "text": [
      " 52%|█████▏    | 272/524 [08:14<06:10,  1.47s/it]"
     ]
    },
    {
     "name": "stdout",
     "output_type": "stream",
     "text": [
      "Crawl data 84534 success !!!\n"
     ]
    },
    {
     "name": "stderr",
     "output_type": "stream",
     "text": [
      " 52%|█████▏    | 273/524 [08:15<05:58,  1.43s/it]"
     ]
    },
    {
     "name": "stdout",
     "output_type": "stream",
     "text": [
      "Crawl data 312124 success !!!\n"
     ]
    },
    {
     "name": "stderr",
     "output_type": "stream",
     "text": [
      " 52%|█████▏    | 274/524 [08:16<05:45,  1.38s/it]"
     ]
    },
    {
     "name": "stdout",
     "output_type": "stream",
     "text": [
      "Crawl data 34358 success !!!\n"
     ]
    },
    {
     "name": "stderr",
     "output_type": "stream",
     "text": [
      " 52%|█████▏    | 275/524 [08:18<05:37,  1.36s/it]"
     ]
    },
    {
     "name": "stdout",
     "output_type": "stream",
     "text": [
      "Crawl data 330512 success !!!\n"
     ]
    },
    {
     "name": "stderr",
     "output_type": "stream",
     "text": [
      " 53%|█████▎    | 276/524 [08:20<06:39,  1.61s/it]"
     ]
    },
    {
     "name": "stdout",
     "output_type": "stream",
     "text": [
      "Crawl data 284411 success !!!\n"
     ]
    },
    {
     "name": "stderr",
     "output_type": "stream",
     "text": [
      " 53%|█████▎    | 277/524 [08:22<07:33,  1.83s/it]"
     ]
    },
    {
     "name": "stdout",
     "output_type": "stream",
     "text": [
      "Crawl data 294374 success !!!\n"
     ]
    },
    {
     "name": "stderr",
     "output_type": "stream",
     "text": [
      " 53%|█████▎    | 278/524 [08:23<06:50,  1.67s/it]"
     ]
    },
    {
     "name": "stdout",
     "output_type": "stream",
     "text": [
      "Crawl data 302190 success !!!\n"
     ]
    },
    {
     "name": "stderr",
     "output_type": "stream",
     "text": [
      " 53%|█████▎    | 279/524 [08:25<06:21,  1.56s/it]"
     ]
    },
    {
     "name": "stdout",
     "output_type": "stream",
     "text": [
      "Crawl data 135910 success !!!\n"
     ]
    },
    {
     "name": "stderr",
     "output_type": "stream",
     "text": [
      " 53%|█████▎    | 280/524 [08:27<07:15,  1.78s/it]"
     ]
    },
    {
     "name": "stdout",
     "output_type": "stream",
     "text": [
      "Crawl data 341576 success !!!\n"
     ]
    },
    {
     "name": "stderr",
     "output_type": "stream",
     "text": [
      " 54%|█████▎    | 281/524 [08:29<07:56,  1.96s/it]"
     ]
    },
    {
     "name": "stdout",
     "output_type": "stream",
     "text": [
      "Crawl data 5657 success !!!\n"
     ]
    },
    {
     "name": "stderr",
     "output_type": "stream",
     "text": [
      " 54%|█████▍    | 282/524 [08:32<08:18,  2.06s/it]"
     ]
    },
    {
     "name": "stdout",
     "output_type": "stream",
     "text": [
      "Crawl data 161043 success !!!\n"
     ]
    },
    {
     "name": "stderr",
     "output_type": "stream",
     "text": [
      " 54%|█████▍    | 283/524 [08:33<07:19,  1.82s/it]"
     ]
    },
    {
     "name": "stdout",
     "output_type": "stream",
     "text": [
      "Crawl data 329467 success !!!\n"
     ]
    },
    {
     "name": "stderr",
     "output_type": "stream",
     "text": [
      " 54%|█████▍    | 284/524 [08:35<07:49,  1.95s/it]"
     ]
    },
    {
     "name": "stdout",
     "output_type": "stream",
     "text": [
      "Crawl data 207680 success !!!\n"
     ]
    },
    {
     "name": "stderr",
     "output_type": "stream",
     "text": [
      " 54%|█████▍    | 285/524 [08:37<06:59,  1.76s/it]"
     ]
    },
    {
     "name": "stdout",
     "output_type": "stream",
     "text": [
      "Crawl data 346238 success !!!\n"
     ]
    },
    {
     "name": "stderr",
     "output_type": "stream",
     "text": [
      " 55%|█████▍    | 286/524 [08:39<07:36,  1.92s/it]"
     ]
    },
    {
     "name": "stdout",
     "output_type": "stream",
     "text": [
      "Crawl data 343772 success !!!\n"
     ]
    },
    {
     "name": "stderr",
     "output_type": "stream",
     "text": [
      " 55%|█████▍    | 287/524 [08:40<06:54,  1.75s/it]"
     ]
    },
    {
     "name": "stdout",
     "output_type": "stream",
     "text": [
      "Crawl data 305072 success !!!\n"
     ]
    },
    {
     "name": "stderr",
     "output_type": "stream",
     "text": [
      " 55%|█████▍    | 288/524 [08:42<06:30,  1.66s/it]"
     ]
    },
    {
     "name": "stdout",
     "output_type": "stream",
     "text": [
      "Crawl data 155555 success !!!\n"
     ]
    },
    {
     "name": "stderr",
     "output_type": "stream",
     "text": [
      " 55%|█████▌    | 289/524 [08:44<07:15,  1.85s/it]"
     ]
    },
    {
     "name": "stdout",
     "output_type": "stream",
     "text": [
      "Crawl data 193186 success !!!\n"
     ]
    },
    {
     "name": "stderr",
     "output_type": "stream",
     "text": [
      " 55%|█████▌    | 290/524 [08:45<06:32,  1.68s/it]"
     ]
    },
    {
     "name": "stdout",
     "output_type": "stream",
     "text": [
      "Crawl data 205581 success !!!\n"
     ]
    },
    {
     "name": "stderr",
     "output_type": "stream",
     "text": [
      " 56%|█████▌    | 291/524 [08:47<07:09,  1.84s/it]"
     ]
    },
    {
     "name": "stdout",
     "output_type": "stream",
     "text": [
      "Crawl data 308640 success !!!\n"
     ]
    },
    {
     "name": "stderr",
     "output_type": "stream",
     "text": [
      " 56%|█████▌    | 292/524 [08:50<07:39,  1.98s/it]"
     ]
    },
    {
     "name": "stdout",
     "output_type": "stream",
     "text": [
      "Crawl data 282349 success !!!\n"
     ]
    },
    {
     "name": "stderr",
     "output_type": "stream",
     "text": [
      " 56%|█████▌    | 293/524 [08:52<08:02,  2.09s/it]"
     ]
    },
    {
     "name": "stdout",
     "output_type": "stream",
     "text": [
      "Crawl data 324199 success !!!\n"
     ]
    },
    {
     "name": "stderr",
     "output_type": "stream",
     "text": [
      " 56%|█████▌    | 294/524 [08:53<07:06,  1.85s/it]"
     ]
    },
    {
     "name": "stdout",
     "output_type": "stream",
     "text": [
      "Crawl data 274858 success !!!\n"
     ]
    },
    {
     "name": "stderr",
     "output_type": "stream",
     "text": [
      " 56%|█████▋    | 295/524 [08:56<07:35,  1.99s/it]"
     ]
    },
    {
     "name": "stdout",
     "output_type": "stream",
     "text": [
      "Crawl data 309004 success !!!\n"
     ]
    },
    {
     "name": "stderr",
     "output_type": "stream",
     "text": [
      " 56%|█████▋    | 296/524 [08:57<06:52,  1.81s/it]"
     ]
    },
    {
     "name": "stdout",
     "output_type": "stream",
     "text": [
      "Crawl data 328881 success !!!\n"
     ]
    },
    {
     "name": "stderr",
     "output_type": "stream",
     "text": [
      " 57%|█████▋    | 297/524 [08:58<06:17,  1.66s/it]"
     ]
    },
    {
     "name": "stdout",
     "output_type": "stream",
     "text": [
      "Crawl data 323563 success !!!\n"
     ]
    },
    {
     "name": "stderr",
     "output_type": "stream",
     "text": [
      " 57%|█████▋    | 298/524 [09:00<05:44,  1.53s/it]"
     ]
    },
    {
     "name": "stdout",
     "output_type": "stream",
     "text": [
      "Crawl data 101897 success !!!\n"
     ]
    },
    {
     "name": "stderr",
     "output_type": "stream",
     "text": [
      " 57%|█████▋    | 299/524 [09:02<06:35,  1.76s/it]"
     ]
    },
    {
     "name": "stdout",
     "output_type": "stream",
     "text": [
      "Crawl data 311856 success !!!\n"
     ]
    },
    {
     "name": "stderr",
     "output_type": "stream",
     "text": [
      " 57%|█████▋    | 300/524 [09:04<07:13,  1.93s/it]"
     ]
    },
    {
     "name": "stdout",
     "output_type": "stream",
     "text": [
      "Crawl data 153686 success !!!\n"
     ]
    },
    {
     "name": "stderr",
     "output_type": "stream",
     "text": [
      " 57%|█████▋    | 301/524 [09:06<06:27,  1.74s/it]"
     ]
    },
    {
     "name": "stdout",
     "output_type": "stream",
     "text": [
      "Crawl data 291796 success !!!\n"
     ]
    },
    {
     "name": "stderr",
     "output_type": "stream",
     "text": [
      " 58%|█████▊    | 302/524 [09:08<07:00,  1.89s/it]"
     ]
    },
    {
     "name": "stdout",
     "output_type": "stream",
     "text": [
      "Crawl data 307343 success !!!\n"
     ]
    },
    {
     "name": "stderr",
     "output_type": "stream",
     "text": [
      " 58%|█████▊    | 303/524 [09:09<06:20,  1.72s/it]"
     ]
    },
    {
     "name": "stdout",
     "output_type": "stream",
     "text": [
      "Crawl data 202889 success !!!\n"
     ]
    },
    {
     "name": "stderr",
     "output_type": "stream",
     "text": [
      " 58%|█████▊    | 304/524 [09:11<06:57,  1.90s/it]"
     ]
    },
    {
     "name": "stdout",
     "output_type": "stream",
     "text": [
      "Crawl data 321143 success !!!\n"
     ]
    },
    {
     "name": "stderr",
     "output_type": "stream",
     "text": [
      " 58%|█████▊    | 305/524 [09:13<06:20,  1.74s/it]"
     ]
    },
    {
     "name": "stdout",
     "output_type": "stream",
     "text": [
      "Crawl data 179506 success !!!\n"
     ]
    },
    {
     "name": "stderr",
     "output_type": "stream",
     "text": [
      " 58%|█████▊    | 306/524 [09:15<06:57,  1.91s/it]"
     ]
    },
    {
     "name": "stdout",
     "output_type": "stream",
     "text": [
      "Crawl data 342304 success !!!\n"
     ]
    },
    {
     "name": "stderr",
     "output_type": "stream",
     "text": [
      " 59%|█████▊    | 307/524 [09:17<06:20,  1.75s/it]"
     ]
    },
    {
     "name": "stdout",
     "output_type": "stream",
     "text": [
      "Crawl data 324897 success !!!\n"
     ]
    },
    {
     "name": "stderr",
     "output_type": "stream",
     "text": [
      " 59%|█████▉    | 308/524 [09:19<06:47,  1.89s/it]"
     ]
    },
    {
     "name": "stdout",
     "output_type": "stream",
     "text": [
      "Crawl data 286530 success !!!\n"
     ]
    },
    {
     "name": "stderr",
     "output_type": "stream",
     "text": [
      " 59%|█████▉    | 309/524 [09:20<06:13,  1.74s/it]"
     ]
    },
    {
     "name": "stdout",
     "output_type": "stream",
     "text": [
      "Crawl data 50583 success !!!\n"
     ]
    },
    {
     "name": "stderr",
     "output_type": "stream",
     "text": [
      " 59%|█████▉    | 310/524 [09:22<05:55,  1.66s/it]"
     ]
    },
    {
     "name": "stdout",
     "output_type": "stream",
     "text": [
      "Crawl data 9536 success !!!\n"
     ]
    },
    {
     "name": "stderr",
     "output_type": "stream",
     "text": [
      " 59%|█████▉    | 311/524 [09:23<05:23,  1.52s/it]"
     ]
    },
    {
     "name": "stdout",
     "output_type": "stream",
     "text": [
      "Crawl data 3695 success !!!\n"
     ]
    },
    {
     "name": "stderr",
     "output_type": "stream",
     "text": [
      " 60%|█████▉    | 312/524 [09:24<05:10,  1.46s/it]"
     ]
    },
    {
     "name": "stdout",
     "output_type": "stream",
     "text": [
      "Crawl data 50729 success !!!\n"
     ]
    },
    {
     "name": "stderr",
     "output_type": "stream",
     "text": [
      " 60%|█████▉    | 313/524 [09:25<05:02,  1.43s/it]"
     ]
    },
    {
     "name": "stdout",
     "output_type": "stream",
     "text": [
      "Crawl data 57008 success !!!\n"
     ]
    },
    {
     "name": "stderr",
     "output_type": "stream",
     "text": [
      " 60%|█████▉    | 314/524 [09:28<05:49,  1.66s/it]"
     ]
    },
    {
     "name": "stdout",
     "output_type": "stream",
     "text": [
      "Crawl data 122831 success !!!\n"
     ]
    },
    {
     "name": "stderr",
     "output_type": "stream",
     "text": [
      " 60%|██████    | 315/524 [09:29<05:22,  1.54s/it]"
     ]
    },
    {
     "name": "stdout",
     "output_type": "stream",
     "text": [
      "Crawl data 28902 success !!!\n"
     ]
    },
    {
     "name": "stderr",
     "output_type": "stream",
     "text": [
      " 60%|██████    | 316/524 [09:31<06:11,  1.78s/it]"
     ]
    },
    {
     "name": "stdout",
     "output_type": "stream",
     "text": [
      "Crawl data 243957 success !!!\n"
     ]
    },
    {
     "name": "stderr",
     "output_type": "stream",
     "text": [
      " 60%|██████    | 317/524 [09:34<06:40,  1.93s/it]"
     ]
    },
    {
     "name": "stdout",
     "output_type": "stream",
     "text": [
      "Crawl data 162981 success !!!\n"
     ]
    },
    {
     "name": "stderr",
     "output_type": "stream",
     "text": [
      " 61%|██████    | 318/524 [09:35<06:05,  1.78s/it]"
     ]
    },
    {
     "name": "stdout",
     "output_type": "stream",
     "text": [
      "Crawl data 495 success !!!\n"
     ]
    },
    {
     "name": "stderr",
     "output_type": "stream",
     "text": [
      " 61%|██████    | 319/524 [09:37<06:35,  1.93s/it]"
     ]
    },
    {
     "name": "stdout",
     "output_type": "stream",
     "text": [
      "Crawl data 9603 success !!!\n"
     ]
    },
    {
     "name": "stderr",
     "output_type": "stream",
     "text": [
      " 61%|██████    | 320/524 [09:39<05:53,  1.73s/it]"
     ]
    },
    {
     "name": "stdout",
     "output_type": "stream",
     "text": [
      "Crawl data 141308 success !!!\n"
     ]
    },
    {
     "name": "stderr",
     "output_type": "stream",
     "text": [
      " 61%|██████▏   | 321/524 [09:40<05:24,  1.60s/it]"
     ]
    },
    {
     "name": "stdout",
     "output_type": "stream",
     "text": [
      "Crawl data 43420 success !!!\n"
     ]
    },
    {
     "name": "stderr",
     "output_type": "stream",
     "text": [
      " 61%|██████▏   | 322/524 [09:42<05:58,  1.78s/it]"
     ]
    },
    {
     "name": "stdout",
     "output_type": "stream",
     "text": [
      "Crawl data 6261 success !!!\n"
     ]
    },
    {
     "name": "stderr",
     "output_type": "stream",
     "text": [
      " 62%|██████▏   | 323/524 [09:44<06:27,  1.93s/it]"
     ]
    },
    {
     "name": "stdout",
     "output_type": "stream",
     "text": [
      "Crawl data 188105 success !!!\n"
     ]
    },
    {
     "name": "stderr",
     "output_type": "stream",
     "text": [
      " 62%|██████▏   | 324/524 [09:46<05:48,  1.74s/it]"
     ]
    },
    {
     "name": "stdout",
     "output_type": "stream",
     "text": [
      "Crawl data 84640 success !!!\n"
     ]
    },
    {
     "name": "stderr",
     "output_type": "stream",
     "text": [
      " 62%|██████▏   | 325/524 [09:48<06:20,  1.91s/it]"
     ]
    },
    {
     "name": "stdout",
     "output_type": "stream",
     "text": [
      "Crawl data 200882 success !!!\n"
     ]
    },
    {
     "name": "stderr",
     "output_type": "stream",
     "text": [
      " 62%|██████▏   | 326/524 [09:49<05:41,  1.73s/it]"
     ]
    },
    {
     "name": "stdout",
     "output_type": "stream",
     "text": [
      "Crawl data 102618 success !!!\n"
     ]
    },
    {
     "name": "stderr",
     "output_type": "stream",
     "text": [
      " 62%|██████▏   | 327/524 [09:51<05:22,  1.64s/it]"
     ]
    },
    {
     "name": "stdout",
     "output_type": "stream",
     "text": [
      "Crawl data 35729 success !!!\n"
     ]
    },
    {
     "name": "stderr",
     "output_type": "stream",
     "text": [
      " 63%|██████▎   | 328/524 [09:53<05:54,  1.81s/it]"
     ]
    },
    {
     "name": "stdout",
     "output_type": "stream",
     "text": [
      "Crawl data 291538 success !!!\n"
     ]
    },
    {
     "name": "stderr",
     "output_type": "stream",
     "text": [
      " 63%|██████▎   | 329/524 [09:55<06:15,  1.92s/it]"
     ]
    },
    {
     "name": "stdout",
     "output_type": "stream",
     "text": [
      "Crawl data 189296 success !!!\n"
     ]
    },
    {
     "name": "stderr",
     "output_type": "stream",
     "text": [
      " 63%|██████▎   | 330/524 [09:56<05:40,  1.76s/it]"
     ]
    },
    {
     "name": "stdout",
     "output_type": "stream",
     "text": [
      "Crawl data 81468 success !!!\n"
     ]
    },
    {
     "name": "stderr",
     "output_type": "stream",
     "text": [
      " 63%|██████▎   | 331/524 [09:58<05:12,  1.62s/it]"
     ]
    },
    {
     "name": "stdout",
     "output_type": "stream",
     "text": [
      "Crawl data 309279 success !!!\n"
     ]
    },
    {
     "name": "stderr",
     "output_type": "stream",
     "text": [
      " 63%|██████▎   | 332/524 [09:59<04:52,  1.52s/it]"
     ]
    },
    {
     "name": "stdout",
     "output_type": "stream",
     "text": [
      "Crawl data 10127 success !!!\n"
     ]
    },
    {
     "name": "stderr",
     "output_type": "stream",
     "text": [
      " 64%|██████▎   | 333/524 [10:00<04:32,  1.43s/it]"
     ]
    },
    {
     "name": "stdout",
     "output_type": "stream",
     "text": [
      "Crawl data 149788 success !!!\n"
     ]
    },
    {
     "name": "stderr",
     "output_type": "stream",
     "text": [
      " 64%|██████▎   | 334/524 [10:01<04:19,  1.36s/it]"
     ]
    },
    {
     "name": "stdout",
     "output_type": "stream",
     "text": [
      "Crawl data 208162 success !!!\n"
     ]
    },
    {
     "name": "stderr",
     "output_type": "stream",
     "text": [
      " 64%|██████▍   | 335/524 [10:04<05:05,  1.61s/it]"
     ]
    },
    {
     "name": "stdout",
     "output_type": "stream",
     "text": [
      "Crawl data 1952 success !!!\n"
     ]
    },
    {
     "name": "stderr",
     "output_type": "stream",
     "text": [
      " 64%|██████▍   | 336/524 [10:05<04:44,  1.52s/it]"
     ]
    },
    {
     "name": "stdout",
     "output_type": "stream",
     "text": [
      "Crawl data 48477 success !!!\n"
     ]
    },
    {
     "name": "stderr",
     "output_type": "stream",
     "text": [
      " 64%|██████▍   | 337/524 [10:06<04:30,  1.45s/it]"
     ]
    },
    {
     "name": "stdout",
     "output_type": "stream",
     "text": [
      "Crawl data 326537 success !!!\n"
     ]
    },
    {
     "name": "stderr",
     "output_type": "stream",
     "text": [
      " 65%|██████▍   | 338/524 [10:08<04:27,  1.44s/it]"
     ]
    },
    {
     "name": "stdout",
     "output_type": "stream",
     "text": [
      "Crawl data 5278 success !!!\n"
     ]
    },
    {
     "name": "stderr",
     "output_type": "stream",
     "text": [
      " 65%|██████▍   | 339/524 [10:10<05:17,  1.72s/it]"
     ]
    },
    {
     "name": "stdout",
     "output_type": "stream",
     "text": [
      "Crawl data 115544 success !!!\n"
     ]
    },
    {
     "name": "stderr",
     "output_type": "stream",
     "text": [
      " 65%|██████▍   | 340/524 [10:12<05:50,  1.91s/it]"
     ]
    },
    {
     "name": "stdout",
     "output_type": "stream",
     "text": [
      "Crawl data 1351 success !!!\n"
     ]
    },
    {
     "name": "stderr",
     "output_type": "stream",
     "text": [
      " 65%|██████▌   | 341/524 [10:15<06:13,  2.04s/it]"
     ]
    },
    {
     "name": "stdout",
     "output_type": "stream",
     "text": [
      "Crawl data 80988 success !!!\n"
     ]
    },
    {
     "name": "stderr",
     "output_type": "stream",
     "text": [
      " 65%|██████▌   | 342/524 [10:17<06:25,  2.12s/it]"
     ]
    },
    {
     "name": "stdout",
     "output_type": "stream",
     "text": [
      "Crawl data 278165 success !!!\n"
     ]
    },
    {
     "name": "stderr",
     "output_type": "stream",
     "text": [
      " 65%|██████▌   | 343/524 [10:18<05:38,  1.87s/it]"
     ]
    },
    {
     "name": "stdout",
     "output_type": "stream",
     "text": [
      "Crawl data 224561 success !!!\n"
     ]
    },
    {
     "name": "stderr",
     "output_type": "stream",
     "text": [
      " 66%|██████▌   | 344/524 [10:21<05:59,  2.00s/it]"
     ]
    },
    {
     "name": "stdout",
     "output_type": "stream",
     "text": [
      "Crawl data 163014 success !!!\n"
     ]
    },
    {
     "name": "stderr",
     "output_type": "stream",
     "text": [
      " 66%|██████▌   | 345/524 [10:23<06:14,  2.09s/it]"
     ]
    },
    {
     "name": "stdout",
     "output_type": "stream",
     "text": [
      "Crawl data 163214 success !!!\n"
     ]
    },
    {
     "name": "stderr",
     "output_type": "stream",
     "text": [
      " 66%|██████▌   | 346/524 [10:24<05:30,  1.86s/it]"
     ]
    },
    {
     "name": "stdout",
     "output_type": "stream",
     "text": [
      "Crawl data 166484 success !!!\n"
     ]
    },
    {
     "name": "stderr",
     "output_type": "stream",
     "text": [
      " 66%|██████▌   | 347/524 [10:25<04:59,  1.69s/it]"
     ]
    },
    {
     "name": "stdout",
     "output_type": "stream",
     "text": [
      "Crawl data 1214 success !!!\n"
     ]
    },
    {
     "name": "stderr",
     "output_type": "stream",
     "text": [
      " 66%|██████▋   | 348/524 [10:27<04:41,  1.60s/it]"
     ]
    },
    {
     "name": "stdout",
     "output_type": "stream",
     "text": [
      "Crawl data 180033 success !!!\n"
     ]
    },
    {
     "name": "stderr",
     "output_type": "stream",
     "text": [
      " 67%|██████▋   | 349/524 [10:29<05:16,  1.81s/it]"
     ]
    },
    {
     "name": "stdout",
     "output_type": "stream",
     "text": [
      "Crawl data 109826 success !!!\n"
     ]
    },
    {
     "name": "stderr",
     "output_type": "stream",
     "text": [
      " 67%|██████▋   | 350/524 [10:31<04:51,  1.68s/it]"
     ]
    },
    {
     "name": "stdout",
     "output_type": "stream",
     "text": [
      "Crawl data 56288 success !!!\n"
     ]
    },
    {
     "name": "stderr",
     "output_type": "stream",
     "text": [
      " 67%|██████▋   | 351/524 [10:32<04:28,  1.55s/it]"
     ]
    },
    {
     "name": "stdout",
     "output_type": "stream",
     "text": [
      "Crawl data 285227 success !!!\n"
     ]
    },
    {
     "name": "stderr",
     "output_type": "stream",
     "text": [
      " 67%|██████▋   | 352/524 [10:33<04:17,  1.50s/it]"
     ]
    },
    {
     "name": "stdout",
     "output_type": "stream",
     "text": [
      "Crawl data 197621 success !!!\n"
     ]
    },
    {
     "name": "stderr",
     "output_type": "stream",
     "text": [
      " 67%|██████▋   | 353/524 [10:34<04:05,  1.43s/it]"
     ]
    },
    {
     "name": "stdout",
     "output_type": "stream",
     "text": [
      "Crawl data 179403 success !!!\n"
     ]
    },
    {
     "name": "stderr",
     "output_type": "stream",
     "text": [
      " 68%|██████▊   | 354/524 [10:36<04:00,  1.41s/it]"
     ]
    },
    {
     "name": "stdout",
     "output_type": "stream",
     "text": [
      "Crawl data 75970 success !!!\n"
     ]
    },
    {
     "name": "stderr",
     "output_type": "stream",
     "text": [
      " 68%|██████▊   | 355/524 [10:37<03:55,  1.39s/it]"
     ]
    },
    {
     "name": "stdout",
     "output_type": "stream",
     "text": [
      "Crawl data 164385 success !!!\n"
     ]
    },
    {
     "name": "stderr",
     "output_type": "stream",
     "text": [
      " 68%|██████▊   | 356/524 [10:38<03:43,  1.33s/it]"
     ]
    },
    {
     "name": "stdout",
     "output_type": "stream",
     "text": [
      "Crawl data 140551 success !!!\n"
     ]
    },
    {
     "name": "stderr",
     "output_type": "stream",
     "text": [
      " 68%|██████▊   | 357/524 [10:41<04:29,  1.61s/it]"
     ]
    },
    {
     "name": "stdout",
     "output_type": "stream",
     "text": [
      "Crawl data 1082 success !!!\n"
     ]
    },
    {
     "name": "stderr",
     "output_type": "stream",
     "text": [
      " 68%|██████▊   | 358/524 [10:43<05:04,  1.83s/it]"
     ]
    },
    {
     "name": "stdout",
     "output_type": "stream",
     "text": [
      "Crawl data 307289 success !!!\n"
     ]
    },
    {
     "name": "stderr",
     "output_type": "stream",
     "text": [
      " 69%|██████▊   | 359/524 [10:45<05:20,  1.94s/it]"
     ]
    },
    {
     "name": "stdout",
     "output_type": "stream",
     "text": [
      "Crawl data 186373 success !!!\n"
     ]
    },
    {
     "name": "stderr",
     "output_type": "stream",
     "text": [
      " 69%|██████▊   | 360/524 [10:48<05:39,  2.07s/it]"
     ]
    },
    {
     "name": "stdout",
     "output_type": "stream",
     "text": [
      "Crawl data 70434 success !!!\n"
     ]
    },
    {
     "name": "stderr",
     "output_type": "stream",
     "text": [
      " 69%|██████▉   | 361/524 [10:50<05:53,  2.17s/it]"
     ]
    },
    {
     "name": "stdout",
     "output_type": "stream",
     "text": [
      "Crawl data 224882 success !!!\n"
     ]
    },
    {
     "name": "stderr",
     "output_type": "stream",
     "text": [
      " 69%|██████▉   | 362/524 [10:51<05:08,  1.90s/it]"
     ]
    },
    {
     "name": "stdout",
     "output_type": "stream",
     "text": [
      "Crawl data 179019 success !!!\n"
     ]
    },
    {
     "name": "stderr",
     "output_type": "stream",
     "text": [
      " 69%|██████▉   | 363/524 [10:52<04:33,  1.70s/it]"
     ]
    },
    {
     "name": "stdout",
     "output_type": "stream",
     "text": [
      "Crawl data 173503 success !!!\n"
     ]
    },
    {
     "name": "stderr",
     "output_type": "stream",
     "text": [
      " 69%|██████▉   | 364/524 [10:54<04:11,  1.57s/it]"
     ]
    },
    {
     "name": "stdout",
     "output_type": "stream",
     "text": [
      "Crawl data 119189 success !!!\n"
     ]
    },
    {
     "name": "stderr",
     "output_type": "stream",
     "text": [
      " 70%|██████▉   | 365/524 [10:56<04:39,  1.76s/it]"
     ]
    },
    {
     "name": "stdout",
     "output_type": "stream",
     "text": [
      "Crawl data 74695 success !!!\n"
     ]
    },
    {
     "name": "stderr",
     "output_type": "stream",
     "text": [
      " 70%|██████▉   | 366/524 [10:57<04:12,  1.60s/it]"
     ]
    },
    {
     "name": "stdout",
     "output_type": "stream",
     "text": [
      "Crawl data 279118 success !!!\n"
     ]
    },
    {
     "name": "stderr",
     "output_type": "stream",
     "text": [
      " 70%|███████   | 367/524 [10:59<04:39,  1.78s/it]"
     ]
    },
    {
     "name": "stdout",
     "output_type": "stream",
     "text": [
      "Crawl data 286856 success !!!\n"
     ]
    },
    {
     "name": "stderr",
     "output_type": "stream",
     "text": [
      " 70%|███████   | 368/524 [11:02<05:03,  1.94s/it]"
     ]
    },
    {
     "name": "stdout",
     "output_type": "stream",
     "text": [
      "Crawl data 232761 success !!!\n"
     ]
    },
    {
     "name": "stderr",
     "output_type": "stream",
     "text": [
      " 70%|███████   | 369/524 [11:03<04:30,  1.74s/it]"
     ]
    },
    {
     "name": "stdout",
     "output_type": "stream",
     "text": [
      "Crawl data 292618 success !!!\n"
     ]
    },
    {
     "name": "stderr",
     "output_type": "stream",
     "text": [
      " 71%|███████   | 370/524 [11:04<04:06,  1.60s/it]"
     ]
    },
    {
     "name": "stdout",
     "output_type": "stream",
     "text": [
      "Crawl data 56581 success !!!\n"
     ]
    },
    {
     "name": "stderr",
     "output_type": "stream",
     "text": [
      " 71%|███████   | 371/524 [11:07<04:36,  1.81s/it]"
     ]
    },
    {
     "name": "stdout",
     "output_type": "stream",
     "text": [
      "Crawl data 178797 success !!!\n"
     ]
    },
    {
     "name": "stderr",
     "output_type": "stream",
     "text": [
      " 71%|███████   | 372/524 [11:09<04:54,  1.94s/it]"
     ]
    },
    {
     "name": "stdout",
     "output_type": "stream",
     "text": [
      "Crawl data 9640 success !!!\n"
     ]
    },
    {
     "name": "stderr",
     "output_type": "stream",
     "text": [
      " 71%|███████   | 373/524 [11:10<04:28,  1.78s/it]"
     ]
    },
    {
     "name": "stdout",
     "output_type": "stream",
     "text": [
      "Crawl data 832 success !!!\n"
     ]
    },
    {
     "name": "stderr",
     "output_type": "stream",
     "text": [
      " 71%|███████▏  | 374/524 [11:13<04:56,  1.98s/it]"
     ]
    },
    {
     "name": "stdout",
     "output_type": "stream",
     "text": [
      "Crawl data 240679 success !!!\n"
     ]
    },
    {
     "name": "stderr",
     "output_type": "stream",
     "text": [
      " 72%|███████▏  | 375/524 [11:14<04:25,  1.78s/it]"
     ]
    },
    {
     "name": "stdout",
     "output_type": "stream",
     "text": [
      "Crawl data 787 success !!!\n"
     ]
    },
    {
     "name": "stderr",
     "output_type": "stream",
     "text": [
      " 72%|███████▏  | 376/524 [11:15<04:01,  1.63s/it]"
     ]
    },
    {
     "name": "stdout",
     "output_type": "stream",
     "text": [
      "Crawl data 42810 success !!!\n"
     ]
    },
    {
     "name": "stderr",
     "output_type": "stream",
     "text": [
      " 72%|███████▏  | 377/524 [11:16<03:44,  1.53s/it]"
     ]
    },
    {
     "name": "stdout",
     "output_type": "stream",
     "text": [
      "Crawl data 91952 success !!!\n"
     ]
    },
    {
     "name": "stderr",
     "output_type": "stream",
     "text": [
      " 72%|███████▏  | 378/524 [11:19<04:18,  1.77s/it]"
     ]
    },
    {
     "name": "stdout",
     "output_type": "stream",
     "text": [
      "Crawl data 334131 success !!!\n"
     ]
    },
    {
     "name": "stderr",
     "output_type": "stream",
     "text": [
      " 72%|███████▏  | 379/524 [11:20<04:00,  1.66s/it]"
     ]
    },
    {
     "name": "stdout",
     "output_type": "stream",
     "text": [
      "Crawl data 176063 success !!!\n"
     ]
    },
    {
     "name": "stderr",
     "output_type": "stream",
     "text": [
      " 73%|███████▎  | 380/524 [11:22<03:48,  1.59s/it]"
     ]
    },
    {
     "name": "stdout",
     "output_type": "stream",
     "text": [
      "Crawl data 344633 success !!!\n"
     ]
    },
    {
     "name": "stderr",
     "output_type": "stream",
     "text": [
      " 73%|███████▎  | 381/524 [11:24<04:16,  1.80s/it]"
     ]
    },
    {
     "name": "stdout",
     "output_type": "stream",
     "text": [
      "Crawl data 112808 success !!!\n"
     ]
    },
    {
     "name": "stderr",
     "output_type": "stream",
     "text": [
      " 73%|███████▎  | 382/524 [11:26<04:37,  1.96s/it]"
     ]
    },
    {
     "name": "stdout",
     "output_type": "stream",
     "text": [
      "Crawl data 295388 success !!!\n"
     ]
    },
    {
     "name": "stderr",
     "output_type": "stream",
     "text": [
      " 73%|███████▎  | 383/524 [11:28<04:07,  1.75s/it]"
     ]
    },
    {
     "name": "stdout",
     "output_type": "stream",
     "text": [
      "Crawl data 286763 success !!!\n"
     ]
    },
    {
     "name": "stderr",
     "output_type": "stream",
     "text": [
      " 73%|███████▎  | 384/524 [11:30<04:27,  1.91s/it]"
     ]
    },
    {
     "name": "stdout",
     "output_type": "stream",
     "text": [
      "Crawl data 46252 success !!!\n"
     ]
    },
    {
     "name": "stderr",
     "output_type": "stream",
     "text": [
      " 73%|███████▎  | 385/524 [11:32<04:41,  2.03s/it]"
     ]
    },
    {
     "name": "stdout",
     "output_type": "stream",
     "text": [
      "Crawl data 92830 success !!!\n"
     ]
    },
    {
     "name": "stderr",
     "output_type": "stream",
     "text": [
      " 74%|███████▎  | 386/524 [11:33<04:09,  1.80s/it]"
     ]
    },
    {
     "name": "stdout",
     "output_type": "stream",
     "text": [
      "Crawl data 109878 success !!!\n"
     ]
    },
    {
     "name": "stderr",
     "output_type": "stream",
     "text": [
      " 74%|███████▍  | 387/524 [11:36<04:28,  1.96s/it]"
     ]
    },
    {
     "name": "stdout",
     "output_type": "stream",
     "text": [
      "Crawl data 7188 success !!!\n"
     ]
    },
    {
     "name": "stderr",
     "output_type": "stream",
     "text": [
      " 74%|███████▍  | 388/524 [11:38<04:42,  2.08s/it]"
     ]
    },
    {
     "name": "stdout",
     "output_type": "stream",
     "text": [
      "Crawl data 118229 success !!!\n"
     ]
    },
    {
     "name": "stderr",
     "output_type": "stream",
     "text": [
      " 74%|███████▍  | 389/524 [11:40<04:49,  2.14s/it]"
     ]
    },
    {
     "name": "stdout",
     "output_type": "stream",
     "text": [
      "Crawl data 1046 success !!!\n"
     ]
    },
    {
     "name": "stderr",
     "output_type": "stream",
     "text": [
      " 74%|███████▍  | 390/524 [11:43<04:59,  2.23s/it]"
     ]
    },
    {
     "name": "stdout",
     "output_type": "stream",
     "text": [
      "Crawl data 306442 success !!!\n"
     ]
    },
    {
     "name": "stderr",
     "output_type": "stream",
     "text": [
      " 75%|███████▍  | 391/524 [11:45<05:00,  2.26s/it]"
     ]
    },
    {
     "name": "stdout",
     "output_type": "stream",
     "text": [
      "Crawl data 13614 success !!!\n"
     ]
    },
    {
     "name": "stderr",
     "output_type": "stream",
     "text": [
      " 75%|███████▍  | 392/524 [11:46<04:18,  1.96s/it]"
     ]
    },
    {
     "name": "stdout",
     "output_type": "stream",
     "text": [
      "Crawl data 136140 success !!!\n"
     ]
    },
    {
     "name": "stderr",
     "output_type": "stream",
     "text": [
      " 75%|███████▌  | 393/524 [11:48<03:49,  1.75s/it]"
     ]
    },
    {
     "name": "stdout",
     "output_type": "stream",
     "text": [
      "Crawl data 195824 success !!!\n"
     ]
    },
    {
     "name": "stderr",
     "output_type": "stream",
     "text": [
      " 75%|███████▌  | 394/524 [11:49<03:30,  1.62s/it]"
     ]
    },
    {
     "name": "stdout",
     "output_type": "stream",
     "text": [
      "Crawl data 5701 success !!!\n"
     ]
    },
    {
     "name": "stderr",
     "output_type": "stream",
     "text": [
      " 75%|███████▌  | 395/524 [11:50<03:12,  1.49s/it]"
     ]
    },
    {
     "name": "stdout",
     "output_type": "stream",
     "text": [
      "Crawl data 335814 success !!!\n"
     ]
    },
    {
     "name": "stderr",
     "output_type": "stream",
     "text": [
      " 76%|███████▌  | 396/524 [11:52<03:42,  1.74s/it]"
     ]
    },
    {
     "name": "stdout",
     "output_type": "stream",
     "text": [
      "Crawl data 146618 success !!!\n"
     ]
    },
    {
     "name": "stderr",
     "output_type": "stream",
     "text": [
      " 76%|███████▌  | 397/524 [11:54<03:30,  1.65s/it]"
     ]
    },
    {
     "name": "stdout",
     "output_type": "stream",
     "text": [
      "Crawl data 279868 success !!!\n"
     ]
    },
    {
     "name": "stderr",
     "output_type": "stream",
     "text": [
      " 76%|███████▌  | 398/524 [11:55<03:15,  1.55s/it]"
     ]
    },
    {
     "name": "stdout",
     "output_type": "stream",
     "text": [
      "Crawl data 1290 success !!!\n"
     ]
    },
    {
     "name": "stderr",
     "output_type": "stream",
     "text": [
      " 76%|███████▌  | 399/524 [11:58<03:45,  1.81s/it]"
     ]
    },
    {
     "name": "stdout",
     "output_type": "stream",
     "text": [
      "Crawl data 284661 success !!!\n"
     ]
    },
    {
     "name": "stderr",
     "output_type": "stream",
     "text": [
      " 76%|███████▋  | 400/524 [12:00<04:05,  1.98s/it]"
     ]
    },
    {
     "name": "stdout",
     "output_type": "stream",
     "text": [
      "Crawl data 153178 success !!!\n"
     ]
    },
    {
     "name": "stderr",
     "output_type": "stream",
     "text": [
      " 77%|███████▋  | 401/524 [12:02<04:18,  2.10s/it]"
     ]
    },
    {
     "name": "stdout",
     "output_type": "stream",
     "text": [
      "Crawl data 87499 success !!!\n"
     ]
    },
    {
     "name": "stderr",
     "output_type": "stream",
     "text": [
      " 77%|███████▋  | 402/524 [12:04<03:47,  1.87s/it]"
     ]
    },
    {
     "name": "stdout",
     "output_type": "stream",
     "text": [
      "Crawl data 338726 success !!!\n"
     ]
    },
    {
     "name": "stderr",
     "output_type": "stream",
     "text": [
      " 77%|███████▋  | 403/524 [12:05<03:24,  1.69s/it]"
     ]
    },
    {
     "name": "stdout",
     "output_type": "stream",
     "text": [
      "Crawl data 216196 success !!!\n"
     ]
    },
    {
     "name": "stderr",
     "output_type": "stream",
     "text": [
      " 77%|███████▋  | 404/524 [12:06<03:10,  1.58s/it]"
     ]
    },
    {
     "name": "stdout",
     "output_type": "stream",
     "text": [
      "Crawl data 219088 success !!!\n"
     ]
    },
    {
     "name": "stderr",
     "output_type": "stream",
     "text": [
      " 77%|███████▋  | 405/524 [12:08<02:58,  1.50s/it]"
     ]
    },
    {
     "name": "stdout",
     "output_type": "stream",
     "text": [
      "Crawl data 91615 success !!!\n"
     ]
    },
    {
     "name": "stderr",
     "output_type": "stream",
     "text": [
      " 77%|███████▋  | 406/524 [12:09<02:47,  1.42s/it]"
     ]
    },
    {
     "name": "stdout",
     "output_type": "stream",
     "text": [
      "Crawl data 73480 success !!!\n"
     ]
    },
    {
     "name": "stderr",
     "output_type": "stream",
     "text": [
      " 78%|███████▊  | 407/524 [12:11<03:16,  1.68s/it]"
     ]
    },
    {
     "name": "stdout",
     "output_type": "stream",
     "text": [
      "Crawl data 183385 success !!!\n"
     ]
    },
    {
     "name": "stderr",
     "output_type": "stream",
     "text": [
      " 78%|███████▊  | 408/524 [12:13<03:36,  1.86s/it]"
     ]
    },
    {
     "name": "stdout",
     "output_type": "stream",
     "text": [
      "Crawl data 117988 success !!!\n"
     ]
    },
    {
     "name": "stderr",
     "output_type": "stream",
     "text": [
      " 78%|███████▊  | 409/524 [12:16<03:51,  2.01s/it]"
     ]
    },
    {
     "name": "stdout",
     "output_type": "stream",
     "text": [
      "Crawl data 8119 success !!!\n"
     ]
    },
    {
     "name": "stderr",
     "output_type": "stream",
     "text": [
      " 78%|███████▊  | 410/524 [12:18<03:58,  2.09s/it]"
     ]
    },
    {
     "name": "stdout",
     "output_type": "stream",
     "text": [
      "Crawl data 153452 success !!!\n"
     ]
    },
    {
     "name": "stderr",
     "output_type": "stream",
     "text": [
      " 78%|███████▊  | 411/524 [12:21<04:08,  2.20s/it]"
     ]
    },
    {
     "name": "stdout",
     "output_type": "stream",
     "text": [
      "Crawl data 272757 success !!!\n"
     ]
    },
    {
     "name": "stderr",
     "output_type": "stream",
     "text": [
      " 79%|███████▊  | 412/524 [12:22<03:36,  1.94s/it]"
     ]
    },
    {
     "name": "stdout",
     "output_type": "stream",
     "text": [
      "Crawl data 44411 success !!!\n"
     ]
    },
    {
     "name": "stderr",
     "output_type": "stream",
     "text": [
      " 79%|███████▉  | 413/524 [12:23<03:14,  1.75s/it]"
     ]
    },
    {
     "name": "stdout",
     "output_type": "stream",
     "text": [
      "Crawl data 214770 success !!!\n"
     ]
    },
    {
     "name": "stderr",
     "output_type": "stream",
     "text": [
      " 79%|███████▉  | 414/524 [12:25<02:59,  1.63s/it]"
     ]
    },
    {
     "name": "stdout",
     "output_type": "stream",
     "text": [
      "Crawl data 309853 success !!!\n"
     ]
    },
    {
     "name": "stderr",
     "output_type": "stream",
     "text": [
      " 79%|███████▉  | 415/524 [12:26<02:51,  1.57s/it]"
     ]
    },
    {
     "name": "stdout",
     "output_type": "stream",
     "text": [
      "Crawl data 2762 success !!!\n"
     ]
    },
    {
     "name": "stderr",
     "output_type": "stream",
     "text": [
      " 79%|███████▉  | 416/524 [12:28<03:14,  1.80s/it]"
     ]
    },
    {
     "name": "stdout",
     "output_type": "stream",
     "text": [
      "Crawl data 79465 success !!!\n"
     ]
    },
    {
     "name": "stderr",
     "output_type": "stream",
     "text": [
      " 80%|███████▉  | 417/524 [12:31<03:29,  1.95s/it]"
     ]
    },
    {
     "name": "stdout",
     "output_type": "stream",
     "text": [
      "Crawl data 23033 success !!!\n"
     ]
    },
    {
     "name": "stderr",
     "output_type": "stream",
     "text": [
      " 80%|███████▉  | 418/524 [12:32<03:05,  1.75s/it]"
     ]
    },
    {
     "name": "stdout",
     "output_type": "stream",
     "text": [
      "Crawl data 282224 success !!!\n"
     ]
    },
    {
     "name": "stderr",
     "output_type": "stream",
     "text": [
      " 80%|███████▉  | 419/524 [12:33<02:46,  1.59s/it]"
     ]
    },
    {
     "name": "stdout",
     "output_type": "stream",
     "text": [
      "Crawl data 328393 success !!!\n"
     ]
    },
    {
     "name": "stderr",
     "output_type": "stream",
     "text": [
      " 80%|████████  | 420/524 [12:35<03:10,  1.83s/it]"
     ]
    },
    {
     "name": "stdout",
     "output_type": "stream",
     "text": [
      "Crawl data 239233 success !!!\n"
     ]
    },
    {
     "name": "stderr",
     "output_type": "stream",
     "text": [
      " 80%|████████  | 421/524 [12:38<03:30,  2.05s/it]"
     ]
    },
    {
     "name": "stdout",
     "output_type": "stream",
     "text": [
      "Crawl data 81972 success !!!\n"
     ]
    },
    {
     "name": "stderr",
     "output_type": "stream",
     "text": [
      " 81%|████████  | 422/524 [12:39<03:04,  1.81s/it]"
     ]
    },
    {
     "name": "stdout",
     "output_type": "stream",
     "text": [
      "Crawl data 4067 success !!!\n"
     ]
    },
    {
     "name": "stderr",
     "output_type": "stream",
     "text": [
      " 81%|████████  | 423/524 [12:41<02:46,  1.65s/it]"
     ]
    },
    {
     "name": "stdout",
     "output_type": "stream",
     "text": [
      "Crawl data 183644 success !!!\n"
     ]
    },
    {
     "name": "stderr",
     "output_type": "stream",
     "text": [
      " 81%|████████  | 424/524 [12:42<02:34,  1.55s/it]"
     ]
    },
    {
     "name": "stdout",
     "output_type": "stream",
     "text": [
      "Crawl data 287762 success !!!\n"
     ]
    },
    {
     "name": "stderr",
     "output_type": "stream",
     "text": [
      " 81%|████████  | 425/524 [12:43<02:25,  1.47s/it]"
     ]
    },
    {
     "name": "stdout",
     "output_type": "stream",
     "text": [
      "Crawl data 238306 success !!!\n"
     ]
    },
    {
     "name": "stderr",
     "output_type": "stream",
     "text": [
      " 81%|████████▏ | 426/524 [12:45<02:48,  1.72s/it]"
     ]
    },
    {
     "name": "stdout",
     "output_type": "stream",
     "text": [
      "Crawl data 156014 success !!!\n"
     ]
    },
    {
     "name": "stderr",
     "output_type": "stream",
     "text": [
      " 81%|████████▏ | 427/524 [12:47<02:32,  1.58s/it]"
     ]
    },
    {
     "name": "stdout",
     "output_type": "stream",
     "text": [
      "Crawl data 94348 success !!!\n"
     ]
    },
    {
     "name": "stderr",
     "output_type": "stream",
     "text": [
      " 82%|████████▏ | 428/524 [12:48<02:23,  1.50s/it]"
     ]
    },
    {
     "name": "stdout",
     "output_type": "stream",
     "text": [
      "Crawl data 77693 success !!!\n"
     ]
    },
    {
     "name": "stderr",
     "output_type": "stream",
     "text": [
      " 82%|████████▏ | 429/524 [12:50<02:42,  1.71s/it]"
     ]
    },
    {
     "name": "stdout",
     "output_type": "stream",
     "text": [
      "Crawl data 162984 success !!!\n"
     ]
    },
    {
     "name": "stderr",
     "output_type": "stream",
     "text": [
      " 82%|████████▏ | 430/524 [12:53<02:56,  1.88s/it]"
     ]
    },
    {
     "name": "stdout",
     "output_type": "stream",
     "text": [
      "Crawl data 317308 success !!!\n"
     ]
    },
    {
     "name": "stderr",
     "output_type": "stream",
     "text": [
      " 82%|████████▏ | 431/524 [12:55<03:07,  2.02s/it]"
     ]
    },
    {
     "name": "stdout",
     "output_type": "stream",
     "text": [
      "Crawl data 338518 success !!!\n"
     ]
    },
    {
     "name": "stderr",
     "output_type": "stream",
     "text": [
      " 82%|████████▏ | 432/524 [12:56<02:44,  1.79s/it]"
     ]
    },
    {
     "name": "stdout",
     "output_type": "stream",
     "text": [
      "Crawl data 274246 success !!!\n"
     ]
    },
    {
     "name": "stderr",
     "output_type": "stream",
     "text": [
      " 83%|████████▎ | 433/524 [12:59<02:59,  1.98s/it]"
     ]
    },
    {
     "name": "stdout",
     "output_type": "stream",
     "text": [
      "Crawl data 971 success !!!\n"
     ]
    },
    {
     "name": "stderr",
     "output_type": "stream",
     "text": [
      " 83%|████████▎ | 434/524 [13:01<03:07,  2.09s/it]"
     ]
    },
    {
     "name": "stdout",
     "output_type": "stream",
     "text": [
      "Crawl data 286850 success !!!\n"
     ]
    },
    {
     "name": "stderr",
     "output_type": "stream",
     "text": [
      " 83%|████████▎ | 435/524 [13:02<02:42,  1.83s/it]"
     ]
    },
    {
     "name": "stdout",
     "output_type": "stream",
     "text": [
      "Crawl data 89629 success !!!\n"
     ]
    },
    {
     "name": "stderr",
     "output_type": "stream",
     "text": [
      " 83%|████████▎ | 436/524 [13:04<02:29,  1.70s/it]"
     ]
    },
    {
     "name": "stdout",
     "output_type": "stream",
     "text": [
      "Crawl data 4447 success !!!\n"
     ]
    },
    {
     "name": "stderr",
     "output_type": "stream",
     "text": [
      " 83%|████████▎ | 437/524 [13:05<02:20,  1.61s/it]"
     ]
    },
    {
     "name": "stdout",
     "output_type": "stream",
     "text": [
      "Crawl data 326540 success !!!\n"
     ]
    },
    {
     "name": "stderr",
     "output_type": "stream",
     "text": [
      " 84%|████████▎ | 438/524 [13:06<02:10,  1.51s/it]"
     ]
    },
    {
     "name": "stdout",
     "output_type": "stream",
     "text": [
      "Crawl data 185449 success !!!\n"
     ]
    },
    {
     "name": "stderr",
     "output_type": "stream",
     "text": [
      " 84%|████████▍ | 439/524 [13:08<02:05,  1.48s/it]"
     ]
    },
    {
     "name": "stdout",
     "output_type": "stream",
     "text": [
      "Crawl data 7128 success !!!\n"
     ]
    },
    {
     "name": "stderr",
     "output_type": "stream",
     "text": [
      " 84%|████████▍ | 440/524 [13:09<02:00,  1.43s/it]"
     ]
    },
    {
     "name": "stdout",
     "output_type": "stream",
     "text": [
      "Crawl data 282239 success !!!\n"
     ]
    },
    {
     "name": "stderr",
     "output_type": "stream",
     "text": [
      " 84%|████████▍ | 441/524 [13:11<02:20,  1.70s/it]"
     ]
    },
    {
     "name": "stdout",
     "output_type": "stream",
     "text": [
      "Crawl data 195180 success !!!\n"
     ]
    },
    {
     "name": "stderr",
     "output_type": "stream",
     "text": [
      " 84%|████████▍ | 442/524 [13:13<02:09,  1.58s/it]"
     ]
    },
    {
     "name": "stdout",
     "output_type": "stream",
     "text": [
      "Crawl data 112924 success !!!\n"
     ]
    },
    {
     "name": "stderr",
     "output_type": "stream",
     "text": [
      " 85%|████████▍ | 443/524 [13:14<01:58,  1.46s/it]"
     ]
    },
    {
     "name": "stdout",
     "output_type": "stream",
     "text": [
      "Crawl data 185004 success !!!\n"
     ]
    },
    {
     "name": "stderr",
     "output_type": "stream",
     "text": [
      " 85%|████████▍ | 444/524 [13:16<02:18,  1.73s/it]"
     ]
    },
    {
     "name": "stdout",
     "output_type": "stream",
     "text": [
      "Crawl data 294815 success !!!\n"
     ]
    },
    {
     "name": "stderr",
     "output_type": "stream",
     "text": [
      " 85%|████████▍ | 445/524 [13:17<02:06,  1.60s/it]"
     ]
    },
    {
     "name": "stdout",
     "output_type": "stream",
     "text": [
      "Crawl data 301133 success !!!\n"
     ]
    },
    {
     "name": "stderr",
     "output_type": "stream",
     "text": [
      " 85%|████████▌ | 446/524 [13:19<02:05,  1.60s/it]"
     ]
    },
    {
     "name": "stdout",
     "output_type": "stream",
     "text": [
      "Crawl data 191770 success !!!\n"
     ]
    },
    {
     "name": "stderr",
     "output_type": "stream",
     "text": [
      " 85%|████████▌ | 447/524 [13:21<02:20,  1.82s/it]"
     ]
    },
    {
     "name": "stdout",
     "output_type": "stream",
     "text": [
      "Crawl data 79885 success !!!\n"
     ]
    },
    {
     "name": "stderr",
     "output_type": "stream",
     "text": [
      " 85%|████████▌ | 448/524 [13:24<02:27,  1.94s/it]"
     ]
    },
    {
     "name": "stdout",
     "output_type": "stream",
     "text": [
      "Crawl data 345684 success !!!\n"
     ]
    },
    {
     "name": "stderr",
     "output_type": "stream",
     "text": [
      " 86%|████████▌ | 449/524 [13:25<02:12,  1.77s/it]"
     ]
    },
    {
     "name": "stdout",
     "output_type": "stream",
     "text": [
      "Crawl data 99491 success !!!\n"
     ]
    },
    {
     "name": "stderr",
     "output_type": "stream",
     "text": [
      " 86%|████████▌ | 450/524 [13:27<02:22,  1.92s/it]"
     ]
    },
    {
     "name": "stdout",
     "output_type": "stream",
     "text": [
      "Crawl data 253359 success !!!\n"
     ]
    },
    {
     "name": "stderr",
     "output_type": "stream",
     "text": [
      " 86%|████████▌ | 451/524 [13:28<02:06,  1.74s/it]"
     ]
    },
    {
     "name": "stdout",
     "output_type": "stream",
     "text": [
      "Crawl data 65568 success !!!\n"
     ]
    },
    {
     "name": "stderr",
     "output_type": "stream",
     "text": [
      " 86%|████████▋ | 452/524 [13:31<02:19,  1.94s/it]"
     ]
    },
    {
     "name": "stdout",
     "output_type": "stream",
     "text": [
      "Crawl data 19632 success !!!\n"
     ]
    },
    {
     "name": "stderr",
     "output_type": "stream",
     "text": [
      " 86%|████████▋ | 453/524 [13:32<02:03,  1.74s/it]"
     ]
    },
    {
     "name": "stdout",
     "output_type": "stream",
     "text": [
      "Crawl data 304722 success !!!\n"
     ]
    },
    {
     "name": "stderr",
     "output_type": "stream",
     "text": [
      " 87%|████████▋ | 454/524 [13:34<02:11,  1.88s/it]"
     ]
    },
    {
     "name": "stdout",
     "output_type": "stream",
     "text": [
      "Crawl data 11212 success !!!\n"
     ]
    },
    {
     "name": "stderr",
     "output_type": "stream",
     "text": [
      " 87%|████████▋ | 455/524 [13:36<01:58,  1.71s/it]"
     ]
    },
    {
     "name": "stdout",
     "output_type": "stream",
     "text": [
      "Crawl data 173683 success !!!\n"
     ]
    },
    {
     "name": "stderr",
     "output_type": "stream",
     "text": [
      " 87%|████████▋ | 456/524 [13:38<02:09,  1.91s/it]"
     ]
    },
    {
     "name": "stdout",
     "output_type": "stream",
     "text": [
      "Crawl data 126917 success !!!\n"
     ]
    },
    {
     "name": "stderr",
     "output_type": "stream",
     "text": [
      " 87%|████████▋ | 457/524 [13:39<01:56,  1.75s/it]"
     ]
    },
    {
     "name": "stdout",
     "output_type": "stream",
     "text": [
      "Crawl data 126568 success !!!\n"
     ]
    },
    {
     "name": "stderr",
     "output_type": "stream",
     "text": [
      " 87%|████████▋ | 458/524 [13:42<02:04,  1.89s/it]"
     ]
    },
    {
     "name": "stdout",
     "output_type": "stream",
     "text": [
      "Crawl data 284190 success !!!\n"
     ]
    },
    {
     "name": "stderr",
     "output_type": "stream",
     "text": [
      " 88%|████████▊ | 459/524 [13:44<02:12,  2.04s/it]"
     ]
    },
    {
     "name": "stdout",
     "output_type": "stream",
     "text": [
      "Crawl data 6690 success !!!\n"
     ]
    },
    {
     "name": "stderr",
     "output_type": "stream",
     "text": [
      " 88%|████████▊ | 460/524 [13:46<02:14,  2.11s/it]"
     ]
    },
    {
     "name": "stdout",
     "output_type": "stream",
     "text": [
      "Crawl data 325625 success !!!\n"
     ]
    },
    {
     "name": "stderr",
     "output_type": "stream",
     "text": [
      " 88%|████████▊ | 461/524 [13:48<02:01,  1.93s/it]"
     ]
    },
    {
     "name": "stdout",
     "output_type": "stream",
     "text": [
      "Crawl data 9905 success !!!\n"
     ]
    },
    {
     "name": "stderr",
     "output_type": "stream",
     "text": [
      " 88%|████████▊ | 462/524 [13:49<01:46,  1.72s/it]"
     ]
    },
    {
     "name": "stdout",
     "output_type": "stream",
     "text": [
      "Crawl data 180204 success !!!\n"
     ]
    },
    {
     "name": "stderr",
     "output_type": "stream",
     "text": [
      " 88%|████████▊ | 463/524 [13:50<01:37,  1.60s/it]"
     ]
    },
    {
     "name": "stdout",
     "output_type": "stream",
     "text": [
      "Crawl data 136640 success !!!\n"
     ]
    },
    {
     "name": "stderr",
     "output_type": "stream",
     "text": [
      " 89%|████████▊ | 464/524 [13:52<01:31,  1.52s/it]"
     ]
    },
    {
     "name": "stdout",
     "output_type": "stream",
     "text": [
      "Crawl data 18975 success !!!\n"
     ]
    },
    {
     "name": "stderr",
     "output_type": "stream",
     "text": [
      " 89%|████████▊ | 465/524 [13:54<01:45,  1.79s/it]"
     ]
    },
    {
     "name": "stdout",
     "output_type": "stream",
     "text": [
      "Crawl data 154752 success !!!\n"
     ]
    },
    {
     "name": "stderr",
     "output_type": "stream",
     "text": [
      " 89%|████████▉ | 466/524 [13:55<01:35,  1.64s/it]"
     ]
    },
    {
     "name": "stdout",
     "output_type": "stream",
     "text": [
      "Crawl data 311088 success !!!\n"
     ]
    },
    {
     "name": "stderr",
     "output_type": "stream",
     "text": [
      " 89%|████████▉ | 467/524 [13:57<01:28,  1.55s/it]"
     ]
    },
    {
     "name": "stdout",
     "output_type": "stream",
     "text": [
      "Crawl data 195224 success !!!\n"
     ]
    },
    {
     "name": "stderr",
     "output_type": "stream",
     "text": [
      " 89%|████████▉ | 468/524 [13:58<01:23,  1.48s/it]"
     ]
    },
    {
     "name": "stdout",
     "output_type": "stream",
     "text": [
      "Crawl data 92257 success !!!\n"
     ]
    },
    {
     "name": "stderr",
     "output_type": "stream",
     "text": [
      " 90%|████████▉ | 469/524 [14:00<01:35,  1.73s/it]"
     ]
    },
    {
     "name": "stdout",
     "output_type": "stream",
     "text": [
      "Crawl data 20282 success !!!\n"
     ]
    },
    {
     "name": "stderr",
     "output_type": "stream",
     "text": [
      " 90%|████████▉ | 470/524 [14:02<01:27,  1.62s/it]"
     ]
    },
    {
     "name": "stdout",
     "output_type": "stream",
     "text": [
      "Crawl data 328607 success !!!\n"
     ]
    },
    {
     "name": "stderr",
     "output_type": "stream",
     "text": [
      " 90%|████████▉ | 471/524 [14:04<01:37,  1.84s/it]"
     ]
    },
    {
     "name": "stdout",
     "output_type": "stream",
     "text": [
      "Crawl data 314794 success !!!\n"
     ]
    },
    {
     "name": "stderr",
     "output_type": "stream",
     "text": [
      " 90%|█████████ | 472/524 [14:06<01:43,  1.99s/it]"
     ]
    },
    {
     "name": "stdout",
     "output_type": "stream",
     "text": [
      "Crawl data 185792 success !!!\n"
     ]
    },
    {
     "name": "stderr",
     "output_type": "stream",
     "text": [
      " 90%|█████████ | 473/524 [14:09<01:47,  2.11s/it]"
     ]
    },
    {
     "name": "stdout",
     "output_type": "stream",
     "text": [
      "Crawl data 101065 success !!!\n"
     ]
    },
    {
     "name": "stderr",
     "output_type": "stream",
     "text": [
      " 90%|█████████ | 474/524 [14:11<01:48,  2.17s/it]"
     ]
    },
    {
     "name": "stdout",
     "output_type": "stream",
     "text": [
      "Crawl data 282356 success !!!\n"
     ]
    },
    {
     "name": "stderr",
     "output_type": "stream",
     "text": [
      " 91%|█████████ | 475/524 [14:13<01:48,  2.22s/it]"
     ]
    },
    {
     "name": "stdout",
     "output_type": "stream",
     "text": [
      "Crawl data 26407 success !!!\n"
     ]
    },
    {
     "name": "stderr",
     "output_type": "stream",
     "text": [
      " 91%|█████████ | 476/524 [14:15<01:34,  1.97s/it]"
     ]
    },
    {
     "name": "stdout",
     "output_type": "stream",
     "text": [
      "Crawl data 33989 success !!!\n"
     ]
    },
    {
     "name": "stderr",
     "output_type": "stream",
     "text": [
      " 91%|█████████ | 477/524 [14:17<01:36,  2.06s/it]"
     ]
    },
    {
     "name": "stdout",
     "output_type": "stream",
     "text": [
      "Crawl data 292608 success !!!\n"
     ]
    },
    {
     "name": "stderr",
     "output_type": "stream",
     "text": [
      " 91%|█████████ | 478/524 [14:18<01:22,  1.80s/it]"
     ]
    },
    {
     "name": "stdout",
     "output_type": "stream",
     "text": [
      "Crawl data 254366 success !!!\n"
     ]
    },
    {
     "name": "stderr",
     "output_type": "stream",
     "text": [
      " 91%|█████████▏| 479/524 [14:21<01:29,  1.99s/it]"
     ]
    },
    {
     "name": "stdout",
     "output_type": "stream",
     "text": [
      "Crawl data 116065 success !!!\n"
     ]
    },
    {
     "name": "stderr",
     "output_type": "stream",
     "text": [
      " 92%|█████████▏| 480/524 [14:23<01:33,  2.12s/it]"
     ]
    },
    {
     "name": "stdout",
     "output_type": "stream",
     "text": [
      "Crawl data 172761 success !!!\n"
     ]
    },
    {
     "name": "stderr",
     "output_type": "stream",
     "text": [
      " 92%|█████████▏| 481/524 [14:25<01:32,  2.15s/it]"
     ]
    },
    {
     "name": "stdout",
     "output_type": "stream",
     "text": [
      "Crawl data 8429 success !!!\n"
     ]
    },
    {
     "name": "stderr",
     "output_type": "stream",
     "text": [
      " 92%|█████████▏| 482/524 [14:28<01:31,  2.19s/it]"
     ]
    },
    {
     "name": "stdout",
     "output_type": "stream",
     "text": [
      "Crawl data 207571 success !!!\n"
     ]
    },
    {
     "name": "stderr",
     "output_type": "stream",
     "text": [
      " 92%|█████████▏| 483/524 [14:29<01:18,  1.93s/it]"
     ]
    },
    {
     "name": "stdout",
     "output_type": "stream",
     "text": [
      "Crawl data 150132 success !!!\n"
     ]
    },
    {
     "name": "stderr",
     "output_type": "stream",
     "text": [
      " 92%|█████████▏| 484/524 [14:30<01:09,  1.73s/it]"
     ]
    },
    {
     "name": "stdout",
     "output_type": "stream",
     "text": [
      "Crawl data 333019 success !!!\n"
     ]
    },
    {
     "name": "stderr",
     "output_type": "stream",
     "text": [
      " 93%|█████████▎| 485/524 [14:32<01:01,  1.58s/it]"
     ]
    },
    {
     "name": "stdout",
     "output_type": "stream",
     "text": [
      "Crawl data 187330 success !!!\n"
     ]
    },
    {
     "name": "stderr",
     "output_type": "stream",
     "text": [
      " 93%|█████████▎| 486/524 [14:34<01:09,  1.82s/it]"
     ]
    },
    {
     "name": "stdout",
     "output_type": "stream",
     "text": [
      "Crawl data 93666 success !!!\n"
     ]
    },
    {
     "name": "stderr",
     "output_type": "stream",
     "text": [
      " 93%|█████████▎| 487/524 [14:35<01:01,  1.66s/it]"
     ]
    },
    {
     "name": "stdout",
     "output_type": "stream",
     "text": [
      "Crawl data 1313 success !!!\n"
     ]
    },
    {
     "name": "stderr",
     "output_type": "stream",
     "text": [
      " 93%|█████████▎| 488/524 [14:36<00:55,  1.55s/it]"
     ]
    },
    {
     "name": "stdout",
     "output_type": "stream",
     "text": [
      "Crawl data 8596 success !!!\n"
     ]
    },
    {
     "name": "stderr",
     "output_type": "stream",
     "text": [
      " 93%|█████████▎| 489/524 [14:38<00:52,  1.49s/it]"
     ]
    },
    {
     "name": "stdout",
     "output_type": "stream",
     "text": [
      "Crawl data 250258 success !!!\n"
     ]
    },
    {
     "name": "stderr",
     "output_type": "stream",
     "text": [
      " 94%|█████████▎| 490/524 [14:40<01:00,  1.77s/it]"
     ]
    },
    {
     "name": "stdout",
     "output_type": "stream",
     "text": [
      "Crawl data 317122 success !!!\n"
     ]
    },
    {
     "name": "stderr",
     "output_type": "stream",
     "text": [
      " 94%|█████████▎| 491/524 [14:42<00:53,  1.63s/it]"
     ]
    },
    {
     "name": "stdout",
     "output_type": "stream",
     "text": [
      "Crawl data 93340 success !!!\n"
     ]
    },
    {
     "name": "stderr",
     "output_type": "stream",
     "text": [
      " 94%|█████████▍| 492/524 [14:43<00:49,  1.55s/it]"
     ]
    },
    {
     "name": "stdout",
     "output_type": "stream",
     "text": [
      "Crawl data 171761 success !!!\n"
     ]
    },
    {
     "name": "stderr",
     "output_type": "stream",
     "text": [
      " 94%|█████████▍| 493/524 [14:45<00:54,  1.77s/it]"
     ]
    },
    {
     "name": "stdout",
     "output_type": "stream",
     "text": [
      "Crawl data 38780 success !!!\n"
     ]
    },
    {
     "name": "stderr",
     "output_type": "stream",
     "text": [
      " 94%|█████████▍| 494/524 [14:47<00:57,  1.92s/it]"
     ]
    },
    {
     "name": "stdout",
     "output_type": "stream",
     "text": [
      "Crawl data 95623 success !!!\n"
     ]
    },
    {
     "name": "stderr",
     "output_type": "stream",
     "text": [
      " 94%|█████████▍| 495/524 [14:50<00:59,  2.05s/it]"
     ]
    },
    {
     "name": "stdout",
     "output_type": "stream",
     "text": [
      "Crawl data 308782 success !!!\n"
     ]
    },
    {
     "name": "stderr",
     "output_type": "stream",
     "text": [
      " 95%|█████████▍| 496/524 [14:52<00:59,  2.12s/it]"
     ]
    },
    {
     "name": "stdout",
     "output_type": "stream",
     "text": [
      "Crawl data 298854 success !!!\n"
     ]
    },
    {
     "name": "stderr",
     "output_type": "stream",
     "text": [
      " 95%|█████████▍| 497/524 [14:54<00:59,  2.20s/it]"
     ]
    },
    {
     "name": "stdout",
     "output_type": "stream",
     "text": [
      "Crawl data 36436 success !!!\n"
     ]
    },
    {
     "name": "stderr",
     "output_type": "stream",
     "text": [
      " 95%|█████████▌| 498/524 [14:56<00:50,  1.93s/it]"
     ]
    },
    {
     "name": "stdout",
     "output_type": "stream",
     "text": [
      "Crawl data 178428 success !!!\n"
     ]
    },
    {
     "name": "stderr",
     "output_type": "stream",
     "text": [
      " 95%|█████████▌| 499/524 [14:57<00:43,  1.74s/it]"
     ]
    },
    {
     "name": "stdout",
     "output_type": "stream",
     "text": [
      "Crawl data 302330 success !!!\n"
     ]
    },
    {
     "name": "stderr",
     "output_type": "stream",
     "text": [
      " 95%|█████████▌| 500/524 [14:59<00:45,  1.90s/it]"
     ]
    },
    {
     "name": "stdout",
     "output_type": "stream",
     "text": [
      "Crawl data 301750 success !!!\n"
     ]
    },
    {
     "name": "stderr",
     "output_type": "stream",
     "text": [
      " 96%|█████████▌| 501/524 [15:02<00:47,  2.05s/it]"
     ]
    },
    {
     "name": "stdout",
     "output_type": "stream",
     "text": [
      "Crawl data 287518 success !!!\n"
     ]
    },
    {
     "name": "stderr",
     "output_type": "stream",
     "text": [
      " 96%|█████████▌| 502/524 [15:03<00:40,  1.82s/it]"
     ]
    },
    {
     "name": "stdout",
     "output_type": "stream",
     "text": [
      "Crawl data 218643 success !!!\n"
     ]
    },
    {
     "name": "stderr",
     "output_type": "stream",
     "text": [
      " 96%|█████████▌| 503/524 [15:04<00:35,  1.68s/it]"
     ]
    },
    {
     "name": "stdout",
     "output_type": "stream",
     "text": [
      "Crawl data 301461 success !!!\n"
     ]
    },
    {
     "name": "stderr",
     "output_type": "stream",
     "text": [
      " 96%|█████████▌| 504/524 [15:07<00:37,  1.90s/it]"
     ]
    },
    {
     "name": "stdout",
     "output_type": "stream",
     "text": [
      "Crawl data 84917 success !!!\n"
     ]
    },
    {
     "name": "stderr",
     "output_type": "stream",
     "text": [
      " 96%|█████████▋| 505/524 [15:08<00:33,  1.75s/it]"
     ]
    },
    {
     "name": "stdout",
     "output_type": "stream",
     "text": [
      "Crawl data 231255 success !!!\n"
     ]
    },
    {
     "name": "stderr",
     "output_type": "stream",
     "text": [
      " 97%|█████████▋| 506/524 [15:09<00:28,  1.61s/it]"
     ]
    },
    {
     "name": "stdout",
     "output_type": "stream",
     "text": [
      "Crawl data 264354 success !!!\n"
     ]
    },
    {
     "name": "stderr",
     "output_type": "stream",
     "text": [
      " 97%|█████████▋| 507/524 [15:12<00:31,  1.83s/it]"
     ]
    },
    {
     "name": "stdout",
     "output_type": "stream",
     "text": [
      "Crawl data 15985 success !!!\n"
     ]
    },
    {
     "name": "stderr",
     "output_type": "stream",
     "text": [
      " 97%|█████████▋| 508/524 [15:14<00:31,  1.97s/it]"
     ]
    },
    {
     "name": "stdout",
     "output_type": "stream",
     "text": [
      "Crawl data 295944 success !!!\n"
     ]
    },
    {
     "name": "stderr",
     "output_type": "stream",
     "text": [
      " 97%|█████████▋| 509/524 [15:15<00:26,  1.76s/it]"
     ]
    },
    {
     "name": "stdout",
     "output_type": "stream",
     "text": [
      "Crawl data 284613 success !!!\n"
     ]
    },
    {
     "name": "stderr",
     "output_type": "stream",
     "text": [
      " 97%|█████████▋| 510/524 [15:18<00:27,  1.95s/it]"
     ]
    },
    {
     "name": "stdout",
     "output_type": "stream",
     "text": [
      "Crawl data 261849 success !!!\n"
     ]
    },
    {
     "name": "stderr",
     "output_type": "stream",
     "text": [
      " 98%|█████████▊| 511/524 [15:19<00:23,  1.77s/it]"
     ]
    },
    {
     "name": "stdout",
     "output_type": "stream",
     "text": [
      "Crawl data 272318 success !!!\n"
     ]
    },
    {
     "name": "stderr",
     "output_type": "stream",
     "text": [
      " 98%|█████████▊| 512/524 [15:20<00:19,  1.62s/it]"
     ]
    },
    {
     "name": "stdout",
     "output_type": "stream",
     "text": [
      "Crawl data 290339 success !!!\n"
     ]
    },
    {
     "name": "stderr",
     "output_type": "stream",
     "text": [
      " 98%|█████████▊| 513/524 [15:22<00:16,  1.54s/it]"
     ]
    },
    {
     "name": "stdout",
     "output_type": "stream",
     "text": [
      "Crawl data 283117 success !!!\n"
     ]
    },
    {
     "name": "stderr",
     "output_type": "stream",
     "text": [
      " 98%|█████████▊| 514/524 [15:24<00:17,  1.76s/it]"
     ]
    },
    {
     "name": "stdout",
     "output_type": "stream",
     "text": [
      "Crawl data 223229 success !!!\n"
     ]
    },
    {
     "name": "stderr",
     "output_type": "stream",
     "text": [
      " 98%|█████████▊| 515/524 [15:26<00:17,  1.89s/it]"
     ]
    },
    {
     "name": "stdout",
     "output_type": "stream",
     "text": [
      "Crawl data 255350 success !!!\n"
     ]
    },
    {
     "name": "stderr",
     "output_type": "stream",
     "text": [
      " 98%|█████████▊| 516/524 [15:28<00:13,  1.72s/it]"
     ]
    },
    {
     "name": "stdout",
     "output_type": "stream",
     "text": [
      "Crawl data 268179 success !!!\n"
     ]
    },
    {
     "name": "stderr",
     "output_type": "stream",
     "text": [
      " 99%|█████████▊| 517/524 [15:29<00:11,  1.59s/it]"
     ]
    },
    {
     "name": "stdout",
     "output_type": "stream",
     "text": [
      "Crawl data 2626 success !!!\n"
     ]
    },
    {
     "name": "stderr",
     "output_type": "stream",
     "text": [
      " 99%|█████████▉| 518/524 [15:30<00:08,  1.47s/it]"
     ]
    },
    {
     "name": "stdout",
     "output_type": "stream",
     "text": [
      "Crawl data 301054 success !!!\n"
     ]
    },
    {
     "name": "stderr",
     "output_type": "stream",
     "text": [
      " 99%|█████████▉| 519/524 [15:31<00:07,  1.41s/it]"
     ]
    },
    {
     "name": "stdout",
     "output_type": "stream",
     "text": [
      "Crawl data 91940 success !!!\n"
     ]
    },
    {
     "name": "stderr",
     "output_type": "stream",
     "text": [
      " 99%|█████████▉| 520/524 [15:34<00:06,  1.68s/it]"
     ]
    },
    {
     "name": "stdout",
     "output_type": "stream",
     "text": [
      "Crawl data 295075 success !!!\n"
     ]
    },
    {
     "name": "stderr",
     "output_type": "stream",
     "text": [
      " 99%|█████████▉| 521/524 [15:36<00:05,  1.89s/it]"
     ]
    },
    {
     "name": "stdout",
     "output_type": "stream",
     "text": [
      "Crawl data 125262 success !!!\n"
     ]
    },
    {
     "name": "stderr",
     "output_type": "stream",
     "text": [
      "100%|█████████▉| 522/524 [15:39<00:04,  2.09s/it]"
     ]
    },
    {
     "name": "stdout",
     "output_type": "stream",
     "text": [
      "Crawl data 74985 success !!!\n"
     ]
    },
    {
     "name": "stderr",
     "output_type": "stream",
     "text": [
      "100%|█████████▉| 523/524 [15:40<00:01,  1.83s/it]"
     ]
    },
    {
     "name": "stdout",
     "output_type": "stream",
     "text": [
      "Crawl data 260286 success !!!\n"
     ]
    },
    {
     "name": "stderr",
     "output_type": "stream",
     "text": [
      "100%|██████████| 524/524 [15:41<00:00,  1.80s/it]\n"
     ]
    }
   ],
   "source": [
    "import pandas as pd\n",
    "import requests\n",
    "import time\n",
    "import random\n",
    "from tqdm import tqdm\n",
    "cookies = {\n",
    "    'TIKI_GUEST_TOKEN': '8jWSuIDBb2NGVzr6hsUZXpkP1FRin7lY',\n",
    "    'TOKENS': '{%22access_token%22:%228jWSuIDBb2NGVzr6hsUZXpkP1FRin7lY%22%2C%22expires_in%22:157680000%2C%22expires_at%22:1763654224277%2C%22guest_token%22:%228jWSuIDBb2NGVzr6hsUZXpkP1FRin7lY%22}',\n",
    "    'amp_99d374': 'eSc-_0HT1um7cb57E7dwA0...1enloc6a2.1enlpc1q6.b.i.t',\n",
    "    'amp_99d374_tiki.vn': 'eSc-_0HT1um7cb57E7dwA0...1enloc6a2.1enlp8817.3.1.1',\n",
    "    '_gcl_au': '1.1.559117409.1605974236',\n",
    "    '_ants_utm_v2': '',\n",
    "    '_pk_id.638735871.2fc5': 'b92ae025fbbdb31f.1605974236.1.1605975278.1605974236.',\n",
    "    '_pk_ses.638735871.2fc5': '*',\n",
    "    '_trackity': '70e316b0-96f2-dbe1-a2ed-43ff60419991',\n",
    "    '_ga_NKX31X43RV': 'GS1.1.1605974235.1.1.1605975326.0',\n",
    "    '_ga': 'GA1.1.657946765.1605974236',\n",
    "    'ai_client_id': '11935756853.1605974227',\n",
    "    'an_session': 'zizkzrzjzlzizqzlzqzjzdzizizqzgzmzkzmzlzrzmzgzdzizlzjzmzqzkznzhzhzkzdzizhzdzizlzjzmzqzkznzhzhzkzdzizlzjzmzqzkznzhzhzkzdzjzdzhzqzdzizd2f27zdzjzdzlzmzmznzq',\n",
    "    'au_aid': '11935756853',\n",
    "    'dgs': '1605975268%3A3%3A0',\n",
    "    'au_gt': '1605974227146',\n",
    "    '_ants_services': '%5B%22cuid%22%5D',\n",
    "    '__admUTMtime': '1605974236',\n",
    "    '__iid': '749',\n",
    "    '__su': '0',\n",
    "    '_bs': 'bb9a32f6-ab13-ce80-92d6-57fd3fd6e4c8',\n",
    "    '_gid': 'GA1.2.867846791.1605974237',\n",
    "    '_fbp': 'fb.1.1605974237134.1297408816',\n",
    "    '_hjid': 'f152cf33-7323-4410-b9ae-79f6622ebc48',\n",
    "    '_hjFirstSeen': '1',\n",
    "    '_hjIncludedInPageviewSample': '1',\n",
    "    '_hjAbsoluteSessionInProgress': '0',\n",
    "    '_hjIncludedInSessionSample': '1',\n",
    "    'tiki_client_id': '657946765.1605974236',\n",
    "    '__gads': 'ID=ae56424189ecccbe-227eb8e1d6c400a8:T=1605974229:RT=1605974229:S=ALNI_MZFWYf2BAjzCSiRNLC3bKI-W_7YHA',\n",
    "    'proxy_s_sv': '1605976041662',\n",
    "    'TKSESSID': '8bcd49b02e1e16aa1cdb795c54d7b460',\n",
    "    'TIKI_RECOMMENDATION': '21dd50e7f7c194df673ea3b717459249',\n",
    "    'cto_bundle': 'V9Dkml9NVXNkQmJ6aEVLcXNqbHdjcVZoQ0l5RXpOMlRybjdDT0JrUnNxVXc2bHd0N2J3Y2FCdmZVQXdYY1QlMkJYUmxXSHZ2UEFwd3IzRHhzRWJYMlQlMkJsQjhjQlA1JTJCcExyRzlUQk5CYUdMdjl2STNQanVsa3cycHd3SHElMkJabnI3dzNhREpZcFVyandyM1d1QWpJbWYxT1UyWDdHZyUzRCUzRA',\n",
    "    'TIKI_RECENTLYVIEWED': '58259141',\n",
    "    '_ants_event_his': '%7B%22action%22%3A%22view%22%2C%22time%22%3A1605974691247%7D',\n",
    "    '_gat': '1',\n",
    "}\n",
    "\n",
    "headers = {\n",
    "    'User-Agent': 'Mozilla/5.0 (Windows NT 10.0; Win64; x64) AppleWebKit/537.36 (KHTML, like Gecko) Chrome/117.0.0.0 Safari/537.36',\n",
    "    'Accept': 'application/json, text/plain, */*',\n",
    "    'Accept-Language': 'en-US,en;q=0.9,vi;q=0.8',\n",
    "    'Referer': 'https://tiki.vn/search?q=s%E1%BB%AFa%20r%E1%BB%ADa%20m%E1%BA%B7t&',\n",
    "    'X-Guest-Token': 'D9N8hbeWV7ZLQRq3aTJzt6njFvAmsEwu',\n",
    "    'Connection': 'keep-alive',\n",
    "    'TE': 'Trailers',\n",
    "}\n",
    "\n",
    "params = {\n",
    "    'seller_id': '1',\n",
    "    'mpid': '631524',\n",
    "    'spid': '631525',\n",
    "    'trackity_id': 'd7d4e235-3594-ec65-5dc2-02aa8b0de953',\n",
    "    'platform': 'destop',\n",
    "    'version':  '3',\n",
    "}\n",
    "\n",
    "def comment_parser(json_data, pid):\n",
    "    d = dict()\n",
    "    d['pid'] = pid\n",
    "    #d['stars'] = json_data.get('stars')\n",
    "    #print(d['stars'].get('1').get('count'))\n",
    "    if json_data.get('data'):\n",
    "        d['avg_rating_point'] = json_data.get('data').get('seller').get('avg_rating_point')\n",
    "        d['days_since_joined'] = json_data.get('data').get('seller').get('days_since_joined')\n",
    "        d['is_official'] = json_data.get('data').get('seller').get('is_official')\n",
    "        d['name'] = json_data.get('data').get('seller').get('name')\n",
    "        d['review_count'] = json_data.get('data').get('seller').get('review_count')\n",
    "        d['store_id'] = json_data.get('data').get('seller').get('store_id')\n",
    "        d['store_level'] = json_data.get('data').get('seller').get('store_level')\n",
    "        d['total_follower'] = json_data.get('data').get('seller').get('total_follower')\n",
    "        d['store_level'] = json_data.get('data').get('seller').get('store_level')\n",
    "    return d\n",
    "\n",
    "p_ids = list_id\n",
    "print(p_ids)\n",
    "result = []\n",
    "Err = []\n",
    "for pid in tqdm(p_ids, total=len(p_ids)):\n",
    "    params['seller_id'] = pid\n",
    "    try:\n",
    "        response = requests.get('https://api.tiki.vn/product-detail/v2/widgets/seller?', headers=headers, params=params, cookies=cookies)\n",
    "        \n",
    "        if response.status_code == 200:\n",
    "            print('Crawl data {} success !!!'.format(pid))\n",
    "            result.append(comment_parser(response.json(), pid))\n",
    "        else:\n",
    "            print('Failed to crawl data for ID {}: Status code {}'.format(pid, response.status_code))\n",
    "            \n",
    "    except Exception as e:\n",
    "        # In ra lỗi cụ thể mà chúng ta gặp phải\n",
    "        print('Error when processing ID {}: {}'.format(pid, str(e)))\n",
    "        Err.append(pid)\n",
    "    time.sleep(random.randrange(1, 3))\n",
    "\n",
    "df_shop_inf = pd.DataFrame(result)\n",
    "df_shop_inf.to_csv('tiki_shop_inf.csv', index=False)"
   ]
  },
  {
   "cell_type": "code",
   "execution_count": 103,
   "metadata": {},
   "outputs": [
    {
     "data": {
      "text/html": [
       "<div>\n",
       "<style scoped>\n",
       "    .dataframe tbody tr th:only-of-type {\n",
       "        vertical-align: middle;\n",
       "    }\n",
       "\n",
       "    .dataframe tbody tr th {\n",
       "        vertical-align: top;\n",
       "    }\n",
       "\n",
       "    .dataframe thead th {\n",
       "        text-align: right;\n",
       "    }\n",
       "</style>\n",
       "<table border=\"1\" class=\"dataframe\">\n",
       "  <thead>\n",
       "    <tr style=\"text-align: right;\">\n",
       "      <th></th>\n",
       "      <th>pid</th>\n",
       "      <th>avg_rating_point</th>\n",
       "      <th>days_since_joined</th>\n",
       "      <th>is_official</th>\n",
       "      <th>name</th>\n",
       "      <th>review_count</th>\n",
       "      <th>store_id</th>\n",
       "      <th>store_level</th>\n",
       "      <th>total_follower</th>\n",
       "    </tr>\n",
       "  </thead>\n",
       "  <tbody>\n",
       "    <tr>\n",
       "      <th>0</th>\n",
       "      <td>211</td>\n",
       "      <td>4.6635</td>\n",
       "      <td>2370</td>\n",
       "      <td>False</td>\n",
       "      <td>Thành Thuận Thiên</td>\n",
       "      <td>28468</td>\n",
       "      <td>171</td>\n",
       "      <td>NONE</td>\n",
       "      <td>2671</td>\n",
       "    </tr>\n",
       "    <tr>\n",
       "      <th>1</th>\n",
       "      <td>1</td>\n",
       "      <td>4.6705</td>\n",
       "      <td>2315</td>\n",
       "      <td>True</td>\n",
       "      <td>Tiki Trading</td>\n",
       "      <td>5407537</td>\n",
       "      <td>40395</td>\n",
       "      <td>OFFICIAL_STORE</td>\n",
       "      <td>492097</td>\n",
       "    </tr>\n",
       "    <tr>\n",
       "      <th>2</th>\n",
       "      <td>6423</td>\n",
       "      <td>4.7030</td>\n",
       "      <td>1943</td>\n",
       "      <td>True</td>\n",
       "      <td>Senka Official Store</td>\n",
       "      <td>37316</td>\n",
       "      <td>6280</td>\n",
       "      <td>OFFICIAL_STORE</td>\n",
       "      <td>25342</td>\n",
       "    </tr>\n",
       "    <tr>\n",
       "      <th>3</th>\n",
       "      <td>11978</td>\n",
       "      <td>4.7566</td>\n",
       "      <td>1839</td>\n",
       "      <td>False</td>\n",
       "      <td>PICARE VIET NAM</td>\n",
       "      <td>22160</td>\n",
       "      <td>11647</td>\n",
       "      <td>TRUSTED_STORE</td>\n",
       "      <td>12133</td>\n",
       "    </tr>\n",
       "    <tr>\n",
       "      <th>4</th>\n",
       "      <td>46296</td>\n",
       "      <td>4.5098</td>\n",
       "      <td>1633</td>\n",
       "      <td>False</td>\n",
       "      <td>Shop Hùng Phát 68</td>\n",
       "      <td>1173</td>\n",
       "      <td>44602</td>\n",
       "      <td>NONE</td>\n",
       "      <td>61</td>\n",
       "    </tr>\n",
       "    <tr>\n",
       "      <th>...</th>\n",
       "      <td>...</td>\n",
       "      <td>...</td>\n",
       "      <td>...</td>\n",
       "      <td>...</td>\n",
       "      <td>...</td>\n",
       "      <td>...</td>\n",
       "      <td>...</td>\n",
       "      <td>...</td>\n",
       "      <td>...</td>\n",
       "    </tr>\n",
       "    <tr>\n",
       "      <th>519</th>\n",
       "      <td>91940</td>\n",
       "      <td>0.0000</td>\n",
       "      <td>1454</td>\n",
       "      <td>True</td>\n",
       "      <td>Rosien Official Store</td>\n",
       "      <td>0</td>\n",
       "      <td>85365</td>\n",
       "      <td>OFFICIAL_STORE</td>\n",
       "      <td>1</td>\n",
       "    </tr>\n",
       "    <tr>\n",
       "      <th>520</th>\n",
       "      <td>295075</td>\n",
       "      <td>0.0000</td>\n",
       "      <td>486</td>\n",
       "      <td>False</td>\n",
       "      <td>TP Cosmetic</td>\n",
       "      <td>0</td>\n",
       "      <td>282417</td>\n",
       "      <td>NONE</td>\n",
       "      <td>4</td>\n",
       "    </tr>\n",
       "    <tr>\n",
       "      <th>521</th>\n",
       "      <td>125262</td>\n",
       "      <td>4.6050</td>\n",
       "      <td>1272</td>\n",
       "      <td>False</td>\n",
       "      <td>Beauty and Heath</td>\n",
       "      <td>400</td>\n",
       "      <td>115750</td>\n",
       "      <td>NONE</td>\n",
       "      <td>721</td>\n",
       "    </tr>\n",
       "    <tr>\n",
       "      <th>522</th>\n",
       "      <td>74985</td>\n",
       "      <td>4.5357</td>\n",
       "      <td>1494</td>\n",
       "      <td>False</td>\n",
       "      <td>Mẹ Ken House</td>\n",
       "      <td>280</td>\n",
       "      <td>69907</td>\n",
       "      <td>NONE</td>\n",
       "      <td>73</td>\n",
       "    </tr>\n",
       "    <tr>\n",
       "      <th>523</th>\n",
       "      <td>260286</td>\n",
       "      <td>0.0000</td>\n",
       "      <td>627</td>\n",
       "      <td>False</td>\n",
       "      <td>Plus Care</td>\n",
       "      <td>0</td>\n",
       "      <td>247324</td>\n",
       "      <td>NONE</td>\n",
       "      <td>1</td>\n",
       "    </tr>\n",
       "  </tbody>\n",
       "</table>\n",
       "<p>524 rows × 9 columns</p>\n",
       "</div>"
      ],
      "text/plain": [
       "        pid  avg_rating_point  days_since_joined  is_official  \\\n",
       "0       211            4.6635               2370        False   \n",
       "1         1            4.6705               2315         True   \n",
       "2      6423            4.7030               1943         True   \n",
       "3     11978            4.7566               1839        False   \n",
       "4     46296            4.5098               1633        False   \n",
       "..      ...               ...                ...          ...   \n",
       "519   91940            0.0000               1454         True   \n",
       "520  295075            0.0000                486        False   \n",
       "521  125262            4.6050               1272        False   \n",
       "522   74985            4.5357               1494        False   \n",
       "523  260286            0.0000                627        False   \n",
       "\n",
       "                      name  review_count  store_id     store_level  \\\n",
       "0        Thành Thuận Thiên         28468       171            NONE   \n",
       "1             Tiki Trading       5407537     40395  OFFICIAL_STORE   \n",
       "2     Senka Official Store         37316      6280  OFFICIAL_STORE   \n",
       "3          PICARE VIET NAM         22160     11647   TRUSTED_STORE   \n",
       "4        Shop Hùng Phát 68          1173     44602            NONE   \n",
       "..                     ...           ...       ...             ...   \n",
       "519  Rosien Official Store             0     85365  OFFICIAL_STORE   \n",
       "520            TP Cosmetic             0    282417            NONE   \n",
       "521       Beauty and Heath           400    115750            NONE   \n",
       "522           Mẹ Ken House           280     69907            NONE   \n",
       "523              Plus Care             0    247324            NONE   \n",
       "\n",
       "     total_follower  \n",
       "0              2671  \n",
       "1            492097  \n",
       "2             25342  \n",
       "3             12133  \n",
       "4                61  \n",
       "..              ...  \n",
       "519               1  \n",
       "520               4  \n",
       "521             721  \n",
       "522              73  \n",
       "523               1  \n",
       "\n",
       "[524 rows x 9 columns]"
      ]
     },
     "execution_count": 103,
     "metadata": {},
     "output_type": "execute_result"
    }
   ],
   "source": [
    "pd.DataFrame(result)"
   ]
  },
  {
   "cell_type": "code",
   "execution_count": 73,
   "metadata": {},
   "outputs": [],
   "source": [
    "import numpy as np"
   ]
  },
  {
   "cell_type": "code",
   "execution_count": 100,
   "metadata": {},
   "outputs": [],
   "source": [
    "list_id= list(df.store_id.dropna().unique())\n",
    "list_id = [int(ele) for ele in list_id]"
   ]
  },
  {
   "cell_type": "code",
   "execution_count": 101,
   "metadata": {},
   "outputs": [
    {
     "data": {
      "text/plain": [
       "[211,\n",
       " 1,\n",
       " 6423,\n",
       " 11978,\n",
       " 46296,\n",
       " 76260,\n",
       " 39998,\n",
       " 4887,\n",
       " 153808,\n",
       " 120849,\n",
       " 11618,\n",
       " 120432,\n",
       " 8771,\n",
       " 18327,\n",
       " 77388,\n",
       " 17149,\n",
       " 1694,\n",
       " 107898,\n",
       " 18907,\n",
       " 1837,\n",
       " 156958,\n",
       " 1178,\n",
       " 221608,\n",
       " 26890,\n",
       " 77814,\n",
       " 7731,\n",
       " 284816,\n",
       " 165433,\n",
       " 202940,\n",
       " 39419,\n",
       " 8218,\n",
       " 17902,\n",
       " 55150,\n",
       " 16350,\n",
       " 37079,\n",
       " 932,\n",
       " 19333,\n",
       " 10638,\n",
       " 152989,\n",
       " 108961,\n",
       " 253806,\n",
       " 70836,\n",
       " 36414,\n",
       " 108980,\n",
       " 18849,\n",
       " 3887,\n",
       " 84406,\n",
       " 499,\n",
       " 155315,\n",
       " 1476,\n",
       " 146385,\n",
       " 290696,\n",
       " 125685,\n",
       " 2321,\n",
       " 258768,\n",
       " 1763,\n",
       " 366,\n",
       " 29103,\n",
       " 4446,\n",
       " 199449,\n",
       " 1956,\n",
       " 47071,\n",
       " 3982,\n",
       " 10177,\n",
       " 76452,\n",
       " 36906,\n",
       " 107750,\n",
       " 88735,\n",
       " 883,\n",
       " 133020,\n",
       " 14948,\n",
       " 20624,\n",
       " 278152,\n",
       " 86287,\n",
       " 271411,\n",
       " 84036,\n",
       " 274685,\n",
       " 4629,\n",
       " 78140,\n",
       " 6014,\n",
       " 166233,\n",
       " 251828,\n",
       " 13797,\n",
       " 119940,\n",
       " 158503,\n",
       " 238467,\n",
       " 184145,\n",
       " 120560,\n",
       " 47913,\n",
       " 120091,\n",
       " 49991,\n",
       " 154865,\n",
       " 91532,\n",
       " 7798,\n",
       " 143225,\n",
       " 81954,\n",
       " 4546,\n",
       " 53082,\n",
       " 146720,\n",
       " 63838,\n",
       " 919,\n",
       " 207890,\n",
       " 133803,\n",
       " 1384,\n",
       " 3170,\n",
       " 9815,\n",
       " 228608,\n",
       " 107229,\n",
       " 176967,\n",
       " 7673,\n",
       " 39216,\n",
       " 39288,\n",
       " 193621,\n",
       " 113527,\n",
       " 70423,\n",
       " 19898,\n",
       " 84324,\n",
       " 337164,\n",
       " 92591,\n",
       " 3132,\n",
       " 132939,\n",
       " 215908,\n",
       " 82138,\n",
       " 6639,\n",
       " 232650,\n",
       " 284969,\n",
       " 189861,\n",
       " 52718,\n",
       " 58336,\n",
       " 156526,\n",
       " 112529,\n",
       " 943,\n",
       " 336494,\n",
       " 518,\n",
       " 22918,\n",
       " 4106,\n",
       " 41211,\n",
       " 11745,\n",
       " 9886,\n",
       " 3354,\n",
       " 275780,\n",
       " 46708,\n",
       " 76968,\n",
       " 86514,\n",
       " 103426,\n",
       " 76045,\n",
       " 7642,\n",
       " 80972,\n",
       " 167598,\n",
       " 14545,\n",
       " 55101,\n",
       " 71758,\n",
       " 60082,\n",
       " 10326,\n",
       " 151204,\n",
       " 173565,\n",
       " 133024,\n",
       " 52441,\n",
       " 1620,\n",
       " 230723,\n",
       " 136751,\n",
       " 48148,\n",
       " 325433,\n",
       " 177228,\n",
       " 34248,\n",
       " 332804,\n",
       " 712,\n",
       " 17844,\n",
       " 205619,\n",
       " 110609,\n",
       " 17549,\n",
       " 188468,\n",
       " 2694,\n",
       " 19971,\n",
       " 15125,\n",
       " 111539,\n",
       " 279312,\n",
       " 325863,\n",
       " 79995,\n",
       " 4927,\n",
       " 133591,\n",
       " 73732,\n",
       " 10239,\n",
       " 145399,\n",
       " 110726,\n",
       " 181732,\n",
       " 62812,\n",
       " 270852,\n",
       " 187497,\n",
       " 4475,\n",
       " 814,\n",
       " 2804,\n",
       " 192769,\n",
       " 157404,\n",
       " 6343,\n",
       " 55655,\n",
       " 13239,\n",
       " 128870,\n",
       " 288606,\n",
       " 64540,\n",
       " 174179,\n",
       " 10592,\n",
       " 146521,\n",
       " 119155,\n",
       " 311092,\n",
       " 2091,\n",
       " 153397,\n",
       " 62737,\n",
       " 18544,\n",
       " 42811,\n",
       " 229237,\n",
       " 64283,\n",
       " 117954,\n",
       " 91096,\n",
       " 306688,\n",
       " 153332,\n",
       " 13733,\n",
       " 5744,\n",
       " 305758,\n",
       " 46528,\n",
       " 1323,\n",
       " 172797,\n",
       " 239242,\n",
       " 11357,\n",
       " 1658,\n",
       " 941,\n",
       " 12371,\n",
       " 288594,\n",
       " 312140,\n",
       " 286038,\n",
       " 137101,\n",
       " 107509,\n",
       " 149372,\n",
       " 135747,\n",
       " 2108,\n",
       " 291389,\n",
       " 264916,\n",
       " 132847,\n",
       " 10718,\n",
       " 265562,\n",
       " 119213,\n",
       " 122209,\n",
       " 330210,\n",
       " 146123,\n",
       " 105467,\n",
       " 246019,\n",
       " 51889,\n",
       " 306590,\n",
       " 110801,\n",
       " 45594,\n",
       " 6190,\n",
       " 42186,\n",
       " 312139,\n",
       " 296234,\n",
       " 269222,\n",
       " 22953,\n",
       " 1725,\n",
       " 131776,\n",
       " 76924,\n",
       " 99305,\n",
       " 11929,\n",
       " 22836,\n",
       " 117279,\n",
       " 1390,\n",
       " 35200,\n",
       " 187939,\n",
       " 101499,\n",
       " 219837,\n",
       " 228668,\n",
       " 307397,\n",
       " 113629,\n",
       " 343257,\n",
       " 84534,\n",
       " 312124,\n",
       " 34358,\n",
       " 330512,\n",
       " 284411,\n",
       " 294374,\n",
       " 302190,\n",
       " 135910,\n",
       " 341576,\n",
       " 5657,\n",
       " 161043,\n",
       " 329467,\n",
       " 207680,\n",
       " 346238,\n",
       " 343772,\n",
       " 305072,\n",
       " 155555,\n",
       " 193186,\n",
       " 205581,\n",
       " 308640,\n",
       " 282349,\n",
       " 324199,\n",
       " 274858,\n",
       " 309004,\n",
       " 328881,\n",
       " 323563,\n",
       " 101897,\n",
       " 311856,\n",
       " 153686,\n",
       " 291796,\n",
       " 307343,\n",
       " 202889,\n",
       " 321143,\n",
       " 179506,\n",
       " 342304,\n",
       " 324897,\n",
       " 286530,\n",
       " 50583,\n",
       " 9536,\n",
       " 3695,\n",
       " 50729,\n",
       " 57008,\n",
       " 122831,\n",
       " 28902,\n",
       " 243957,\n",
       " 162981,\n",
       " 495,\n",
       " 9603,\n",
       " 141308,\n",
       " 43420,\n",
       " 6261,\n",
       " 188105,\n",
       " 84640,\n",
       " 200882,\n",
       " 102618,\n",
       " 35729,\n",
       " 291538,\n",
       " 189296,\n",
       " 81468,\n",
       " 309279,\n",
       " 10127,\n",
       " 149788,\n",
       " 208162,\n",
       " 1952,\n",
       " 48477,\n",
       " 326537,\n",
       " 5278,\n",
       " 115544,\n",
       " 1351,\n",
       " 80988,\n",
       " 278165,\n",
       " 224561,\n",
       " 163014,\n",
       " 163214,\n",
       " 166484,\n",
       " 1214,\n",
       " 180033,\n",
       " 109826,\n",
       " 56288,\n",
       " 285227,\n",
       " 197621,\n",
       " 179403,\n",
       " 75970,\n",
       " 164385,\n",
       " 140551,\n",
       " 1082,\n",
       " 307289,\n",
       " 186373,\n",
       " 70434,\n",
       " 224882,\n",
       " 179019,\n",
       " 173503,\n",
       " 119189,\n",
       " 74695,\n",
       " 279118,\n",
       " 286856,\n",
       " 232761,\n",
       " 292618,\n",
       " 56581,\n",
       " 178797,\n",
       " 9640,\n",
       " 832,\n",
       " 240679,\n",
       " 787,\n",
       " 42810,\n",
       " 91952,\n",
       " 334131,\n",
       " 176063,\n",
       " 344633,\n",
       " 112808,\n",
       " 295388,\n",
       " 286763,\n",
       " 46252,\n",
       " 92830,\n",
       " 109878,\n",
       " 7188,\n",
       " 118229,\n",
       " 1046,\n",
       " 306442,\n",
       " 13614,\n",
       " 136140,\n",
       " 195824,\n",
       " 5701,\n",
       " 335814,\n",
       " 146618,\n",
       " 279868,\n",
       " 1290,\n",
       " 284661,\n",
       " 153178,\n",
       " 87499,\n",
       " 338726,\n",
       " 216196,\n",
       " 219088,\n",
       " 91615,\n",
       " 73480,\n",
       " 183385,\n",
       " 117988,\n",
       " 8119,\n",
       " 153452,\n",
       " 272757,\n",
       " 44411,\n",
       " 214770,\n",
       " 309853,\n",
       " 2762,\n",
       " 79465,\n",
       " 23033,\n",
       " 282224,\n",
       " 328393,\n",
       " 239233,\n",
       " 81972,\n",
       " 4067,\n",
       " 183644,\n",
       " 287762,\n",
       " 238306,\n",
       " 156014,\n",
       " 94348,\n",
       " 77693,\n",
       " 162984,\n",
       " 317308,\n",
       " 338518,\n",
       " 274246,\n",
       " 971,\n",
       " 286850,\n",
       " 89629,\n",
       " 4447,\n",
       " 326540,\n",
       " 185449,\n",
       " 7128,\n",
       " 282239,\n",
       " 195180,\n",
       " 112924,\n",
       " 185004,\n",
       " 294815,\n",
       " 301133,\n",
       " 191770,\n",
       " 79885,\n",
       " 345684,\n",
       " 99491,\n",
       " 253359,\n",
       " 65568,\n",
       " 19632,\n",
       " 304722,\n",
       " 11212,\n",
       " 173683,\n",
       " 126917,\n",
       " 126568,\n",
       " 284190,\n",
       " 6690,\n",
       " 325625,\n",
       " 9905,\n",
       " 180204,\n",
       " 136640,\n",
       " 18975,\n",
       " 154752,\n",
       " 311088,\n",
       " 195224,\n",
       " 92257,\n",
       " 20282,\n",
       " 328607,\n",
       " 314794,\n",
       " 185792,\n",
       " 101065,\n",
       " 282356,\n",
       " 26407,\n",
       " 33989,\n",
       " 292608,\n",
       " 254366,\n",
       " 116065,\n",
       " 172761,\n",
       " 8429,\n",
       " 207571,\n",
       " 150132,\n",
       " 333019,\n",
       " 187330,\n",
       " 93666,\n",
       " 1313,\n",
       " 8596,\n",
       " 250258,\n",
       " 317122,\n",
       " 93340,\n",
       " 171761,\n",
       " 38780,\n",
       " 95623,\n",
       " 308782,\n",
       " 298854,\n",
       " 36436,\n",
       " 178428,\n",
       " 302330,\n",
       " 301750,\n",
       " 287518,\n",
       " 218643,\n",
       " 301461,\n",
       " 84917,\n",
       " 231255,\n",
       " 264354,\n",
       " 15985,\n",
       " 295944,\n",
       " 284613,\n",
       " 261849,\n",
       " 272318,\n",
       " 290339,\n",
       " 283117,\n",
       " 223229,\n",
       " 255350,\n",
       " 268179,\n",
       " 2626,\n",
       " 301054,\n",
       " 91940,\n",
       " 295075,\n",
       " 125262,\n",
       " 74985,\n",
       " 260286]"
      ]
     },
     "execution_count": 101,
     "metadata": {},
     "output_type": "execute_result"
    }
   ],
   "source": []
  },
  {
   "cell_type": "code",
   "execution_count": 1,
   "metadata": {},
   "outputs": [],
   "source": [
    "import pandas as pd"
   ]
  },
  {
   "cell_type": "code",
   "execution_count": 5,
   "metadata": {},
   "outputs": [],
   "source": [
    "data = pd.read_csv('temp.csv')"
   ]
  },
  {
   "cell_type": "code",
   "execution_count": 6,
   "metadata": {},
   "outputs": [
    {
     "data": {
      "text/html": [
       "<div>\n",
       "<style scoped>\n",
       "    .dataframe tbody tr th:only-of-type {\n",
       "        vertical-align: middle;\n",
       "    }\n",
       "\n",
       "    .dataframe tbody tr th {\n",
       "        vertical-align: top;\n",
       "    }\n",
       "\n",
       "    .dataframe thead th {\n",
       "        text-align: right;\n",
       "    }\n",
       "</style>\n",
       "<table border=\"1\" class=\"dataframe\">\n",
       "  <thead>\n",
       "    <tr style=\"text-align: right;\">\n",
       "      <th></th>\n",
       "      <th>id</th>\n",
       "      <th>store_id</th>\n",
       "    </tr>\n",
       "  </thead>\n",
       "  <tbody>\n",
       "    <tr>\n",
       "      <th>0</th>\n",
       "      <td>631525</td>\n",
       "      <td>211.0</td>\n",
       "    </tr>\n",
       "    <tr>\n",
       "      <th>1</th>\n",
       "      <td>117170051</td>\n",
       "      <td>1.0</td>\n",
       "    </tr>\n",
       "    <tr>\n",
       "      <th>2</th>\n",
       "      <td>54058503</td>\n",
       "      <td>1.0</td>\n",
       "    </tr>\n",
       "    <tr>\n",
       "      <th>3</th>\n",
       "      <td>214101372</td>\n",
       "      <td>NaN</td>\n",
       "    </tr>\n",
       "    <tr>\n",
       "      <th>4</th>\n",
       "      <td>140537792</td>\n",
       "      <td>1.0</td>\n",
       "    </tr>\n",
       "    <tr>\n",
       "      <th>...</th>\n",
       "      <td>...</td>\n",
       "      <td>...</td>\n",
       "    </tr>\n",
       "    <tr>\n",
       "      <th>2016</th>\n",
       "      <td>225937377</td>\n",
       "      <td>4629.0</td>\n",
       "    </tr>\n",
       "    <tr>\n",
       "      <th>2017</th>\n",
       "      <td>225918457</td>\n",
       "      <td>4629.0</td>\n",
       "    </tr>\n",
       "    <tr>\n",
       "      <th>2018</th>\n",
       "      <td>89893042</td>\n",
       "      <td>11978.0</td>\n",
       "    </tr>\n",
       "    <tr>\n",
       "      <th>2019</th>\n",
       "      <td>193007064</td>\n",
       "      <td>260286.0</td>\n",
       "    </tr>\n",
       "    <tr>\n",
       "      <th>2020</th>\n",
       "      <td>192206662</td>\n",
       "      <td>260286.0</td>\n",
       "    </tr>\n",
       "  </tbody>\n",
       "</table>\n",
       "<p>2021 rows × 2 columns</p>\n",
       "</div>"
      ],
      "text/plain": [
       "             id  store_id\n",
       "0        631525     211.0\n",
       "1     117170051       1.0\n",
       "2      54058503       1.0\n",
       "3     214101372       NaN\n",
       "4     140537792       1.0\n",
       "...         ...       ...\n",
       "2016  225937377    4629.0\n",
       "2017  225918457    4629.0\n",
       "2018   89893042   11978.0\n",
       "2019  193007064  260286.0\n",
       "2020  192206662  260286.0\n",
       "\n",
       "[2021 rows x 2 columns]"
      ]
     },
     "execution_count": 6,
     "metadata": {},
     "output_type": "execute_result"
    }
   ],
   "source": [
    "data"
   ]
  },
  {
   "cell_type": "code",
   "execution_count": 8,
   "metadata": {},
   "outputs": [],
   "source": [
    "product = pd.read_csv('product_id_ncds.csv')"
   ]
  },
  {
   "cell_type": "code",
   "execution_count": 9,
   "metadata": {},
   "outputs": [
    {
     "data": {
      "text/html": [
       "<div>\n",
       "<style scoped>\n",
       "    .dataframe tbody tr th:only-of-type {\n",
       "        vertical-align: middle;\n",
       "    }\n",
       "\n",
       "    .dataframe tbody tr th {\n",
       "        vertical-align: top;\n",
       "    }\n",
       "\n",
       "    .dataframe thead th {\n",
       "        text-align: right;\n",
       "    }\n",
       "</style>\n",
       "<table border=\"1\" class=\"dataframe\">\n",
       "  <thead>\n",
       "    <tr style=\"text-align: right;\">\n",
       "      <th></th>\n",
       "      <th>id</th>\n",
       "    </tr>\n",
       "  </thead>\n",
       "  <tbody>\n",
       "    <tr>\n",
       "      <th>0</th>\n",
       "      <td>631525</td>\n",
       "    </tr>\n",
       "    <tr>\n",
       "      <th>1</th>\n",
       "      <td>117170051</td>\n",
       "    </tr>\n",
       "    <tr>\n",
       "      <th>2</th>\n",
       "      <td>54058503</td>\n",
       "    </tr>\n",
       "    <tr>\n",
       "      <th>3</th>\n",
       "      <td>214101372</td>\n",
       "    </tr>\n",
       "    <tr>\n",
       "      <th>4</th>\n",
       "      <td>140537792</td>\n",
       "    </tr>\n",
       "    <tr>\n",
       "      <th>...</th>\n",
       "      <td>...</td>\n",
       "    </tr>\n",
       "    <tr>\n",
       "      <th>2019</th>\n",
       "      <td>225937377</td>\n",
       "    </tr>\n",
       "    <tr>\n",
       "      <th>2020</th>\n",
       "      <td>225918457</td>\n",
       "    </tr>\n",
       "    <tr>\n",
       "      <th>2021</th>\n",
       "      <td>89893042</td>\n",
       "    </tr>\n",
       "    <tr>\n",
       "      <th>2022</th>\n",
       "      <td>193007064</td>\n",
       "    </tr>\n",
       "    <tr>\n",
       "      <th>2023</th>\n",
       "      <td>192206662</td>\n",
       "    </tr>\n",
       "  </tbody>\n",
       "</table>\n",
       "<p>2024 rows × 1 columns</p>\n",
       "</div>"
      ],
      "text/plain": [
       "             id\n",
       "0        631525\n",
       "1     117170051\n",
       "2      54058503\n",
       "3     214101372\n",
       "4     140537792\n",
       "...         ...\n",
       "2019  225937377\n",
       "2020  225918457\n",
       "2021   89893042\n",
       "2022  193007064\n",
       "2023  192206662\n",
       "\n",
       "[2024 rows x 1 columns]"
      ]
     },
     "execution_count": 9,
     "metadata": {},
     "output_type": "execute_result"
    }
   ],
   "source": [
    "product"
   ]
  },
  {
   "cell_type": "code",
   "execution_count": 37,
   "metadata": {},
   "outputs": [],
   "source": [
    "merge = pd.merge(data, product, on = 'id', how = 'outer')"
   ]
  },
  {
   "cell_type": "code",
   "execution_count": 38,
   "metadata": {},
   "outputs": [
    {
     "data": {
      "text/html": [
       "<div>\n",
       "<style scoped>\n",
       "    .dataframe tbody tr th:only-of-type {\n",
       "        vertical-align: middle;\n",
       "    }\n",
       "\n",
       "    .dataframe tbody tr th {\n",
       "        vertical-align: top;\n",
       "    }\n",
       "\n",
       "    .dataframe thead th {\n",
       "        text-align: right;\n",
       "    }\n",
       "</style>\n",
       "<table border=\"1\" class=\"dataframe\">\n",
       "  <thead>\n",
       "    <tr style=\"text-align: right;\">\n",
       "      <th></th>\n",
       "      <th>store_id</th>\n",
       "    </tr>\n",
       "    <tr>\n",
       "      <th>id</th>\n",
       "      <th></th>\n",
       "    </tr>\n",
       "  </thead>\n",
       "  <tbody>\n",
       "    <tr>\n",
       "      <th>631525</th>\n",
       "      <td>211.0</td>\n",
       "    </tr>\n",
       "    <tr>\n",
       "      <th>631525</th>\n",
       "      <td>211.0</td>\n",
       "    </tr>\n",
       "    <tr>\n",
       "      <th>631525</th>\n",
       "      <td>211.0</td>\n",
       "    </tr>\n",
       "    <tr>\n",
       "      <th>631525</th>\n",
       "      <td>211.0</td>\n",
       "    </tr>\n",
       "    <tr>\n",
       "      <th>117170051</th>\n",
       "      <td>1.0</td>\n",
       "    </tr>\n",
       "    <tr>\n",
       "      <th>...</th>\n",
       "      <td>...</td>\n",
       "    </tr>\n",
       "    <tr>\n",
       "      <th>193007064</th>\n",
       "      <td>260286.0</td>\n",
       "    </tr>\n",
       "    <tr>\n",
       "      <th>192206662</th>\n",
       "      <td>260286.0</td>\n",
       "    </tr>\n",
       "    <tr>\n",
       "      <th>197379729</th>\n",
       "      <td>NaN</td>\n",
       "    </tr>\n",
       "    <tr>\n",
       "      <th>197379729</th>\n",
       "      <td>NaN</td>\n",
       "    </tr>\n",
       "    <tr>\n",
       "      <th>107186261</th>\n",
       "      <td>NaN</td>\n",
       "    </tr>\n",
       "  </tbody>\n",
       "</table>\n",
       "<p>2352 rows × 1 columns</p>\n",
       "</div>"
      ],
      "text/plain": [
       "           store_id\n",
       "id                 \n",
       "631525        211.0\n",
       "631525        211.0\n",
       "631525        211.0\n",
       "631525        211.0\n",
       "117170051       1.0\n",
       "...             ...\n",
       "193007064  260286.0\n",
       "192206662  260286.0\n",
       "197379729       NaN\n",
       "197379729       NaN\n",
       "107186261       NaN\n",
       "\n",
       "[2352 rows x 1 columns]"
      ]
     },
     "execution_count": 38,
     "metadata": {},
     "output_type": "execute_result"
    }
   ],
   "source": [
    "merge"
   ]
  },
  {
   "cell_type": "code",
   "execution_count": 30,
   "metadata": {},
   "outputs": [
    {
     "ename": "ValueError",
     "evalue": "columns overlap but no suffix specified: Index(['id'], dtype='object')",
     "output_type": "error",
     "traceback": [
      "\u001b[1;31m---------------------------------------------------------------------------\u001b[0m",
      "\u001b[1;31mValueError\u001b[0m                                Traceback (most recent call last)",
      "\u001b[1;32md:\\Final Project\\Tiki-Data-Crawler\\Crawler_shop.ipynb Cell 21\u001b[0m line \u001b[0;36m<cell line: 1>\u001b[1;34m()\u001b[0m\n\u001b[1;32m----> <a href='vscode-notebook-cell:/d%3A/Final%20Project/Tiki-Data-Crawler/Crawler_shop.ipynb#X26sZmlsZQ%3D%3D?line=0'>1</a>\u001b[0m product\u001b[39m.\u001b[39;49mjoin(data, how\u001b[39m=\u001b[39;49m \u001b[39m'\u001b[39;49m\u001b[39minner\u001b[39;49m\u001b[39m'\u001b[39;49m)\n",
      "File \u001b[1;32mc:\\Users\\KIM TOA\\anaconda3\\lib\\site-packages\\pandas\\core\\frame.py:9254\u001b[0m, in \u001b[0;36mDataFrame.join\u001b[1;34m(self, other, on, how, lsuffix, rsuffix, sort)\u001b[0m\n\u001b[0;32m   9100\u001b[0m \u001b[39mdef\u001b[39;00m \u001b[39mjoin\u001b[39m(\n\u001b[0;32m   9101\u001b[0m     \u001b[39mself\u001b[39m,\n\u001b[0;32m   9102\u001b[0m     other: DataFrame \u001b[39m|\u001b[39m Series,\n\u001b[1;32m   (...)\u001b[0m\n\u001b[0;32m   9107\u001b[0m     sort: \u001b[39mbool\u001b[39m \u001b[39m=\u001b[39m \u001b[39mFalse\u001b[39;00m,\n\u001b[0;32m   9108\u001b[0m ) \u001b[39m-\u001b[39m\u001b[39m>\u001b[39m DataFrame:\n\u001b[0;32m   9109\u001b[0m     \u001b[39m\"\"\"\u001b[39;00m\n\u001b[0;32m   9110\u001b[0m \u001b[39m    Join columns of another DataFrame.\u001b[39;00m\n\u001b[0;32m   9111\u001b[0m \n\u001b[1;32m   (...)\u001b[0m\n\u001b[0;32m   9252\u001b[0m \u001b[39m    5  K1  A5   B1\u001b[39;00m\n\u001b[0;32m   9253\u001b[0m \u001b[39m    \"\"\"\u001b[39;00m\n\u001b[1;32m-> 9254\u001b[0m     \u001b[39mreturn\u001b[39;00m \u001b[39mself\u001b[39;49m\u001b[39m.\u001b[39;49m_join_compat(\n\u001b[0;32m   9255\u001b[0m         other, on\u001b[39m=\u001b[39;49mon, how\u001b[39m=\u001b[39;49mhow, lsuffix\u001b[39m=\u001b[39;49mlsuffix, rsuffix\u001b[39m=\u001b[39;49mrsuffix, sort\u001b[39m=\u001b[39;49msort\n\u001b[0;32m   9256\u001b[0m     )\n",
      "File \u001b[1;32mc:\\Users\\KIM TOA\\anaconda3\\lib\\site-packages\\pandas\\core\\frame.py:9285\u001b[0m, in \u001b[0;36mDataFrame._join_compat\u001b[1;34m(self, other, on, how, lsuffix, rsuffix, sort)\u001b[0m\n\u001b[0;32m   9276\u001b[0m     \u001b[39mif\u001b[39;00m how \u001b[39m==\u001b[39m \u001b[39m\"\u001b[39m\u001b[39mcross\u001b[39m\u001b[39m\"\u001b[39m:\n\u001b[0;32m   9277\u001b[0m         \u001b[39mreturn\u001b[39;00m merge(\n\u001b[0;32m   9278\u001b[0m             \u001b[39mself\u001b[39m,\n\u001b[0;32m   9279\u001b[0m             other,\n\u001b[1;32m   (...)\u001b[0m\n\u001b[0;32m   9283\u001b[0m             sort\u001b[39m=\u001b[39msort,\n\u001b[0;32m   9284\u001b[0m         )\n\u001b[1;32m-> 9285\u001b[0m     \u001b[39mreturn\u001b[39;00m merge(\n\u001b[0;32m   9286\u001b[0m         \u001b[39mself\u001b[39;49m,\n\u001b[0;32m   9287\u001b[0m         other,\n\u001b[0;32m   9288\u001b[0m         left_on\u001b[39m=\u001b[39;49mon,\n\u001b[0;32m   9289\u001b[0m         how\u001b[39m=\u001b[39;49mhow,\n\u001b[0;32m   9290\u001b[0m         left_index\u001b[39m=\u001b[39;49mon \u001b[39mis\u001b[39;49;00m \u001b[39mNone\u001b[39;49;00m,\n\u001b[0;32m   9291\u001b[0m         right_index\u001b[39m=\u001b[39;49m\u001b[39mTrue\u001b[39;49;00m,\n\u001b[0;32m   9292\u001b[0m         suffixes\u001b[39m=\u001b[39;49m(lsuffix, rsuffix),\n\u001b[0;32m   9293\u001b[0m         sort\u001b[39m=\u001b[39;49msort,\n\u001b[0;32m   9294\u001b[0m     )\n\u001b[0;32m   9295\u001b[0m \u001b[39melse\u001b[39;00m:\n\u001b[0;32m   9296\u001b[0m     \u001b[39mif\u001b[39;00m on \u001b[39mis\u001b[39;00m \u001b[39mnot\u001b[39;00m \u001b[39mNone\u001b[39;00m:\n",
      "File \u001b[1;32mc:\\Users\\KIM TOA\\anaconda3\\lib\\site-packages\\pandas\\core\\reshape\\merge.py:122\u001b[0m, in \u001b[0;36mmerge\u001b[1;34m(left, right, how, on, left_on, right_on, left_index, right_index, sort, suffixes, copy, indicator, validate)\u001b[0m\n\u001b[0;32m     90\u001b[0m \u001b[39m@Substitution\u001b[39m(\u001b[39m\"\u001b[39m\u001b[39m\\n\u001b[39;00m\u001b[39mleft : DataFrame or named Series\u001b[39m\u001b[39m\"\u001b[39m)\n\u001b[0;32m     91\u001b[0m \u001b[39m@Appender\u001b[39m(_merge_doc, indents\u001b[39m=\u001b[39m\u001b[39m0\u001b[39m)\n\u001b[0;32m     92\u001b[0m \u001b[39mdef\u001b[39;00m \u001b[39mmerge\u001b[39m(\n\u001b[1;32m   (...)\u001b[0m\n\u001b[0;32m    105\u001b[0m     validate: \u001b[39mstr\u001b[39m \u001b[39m|\u001b[39m \u001b[39mNone\u001b[39;00m \u001b[39m=\u001b[39m \u001b[39mNone\u001b[39;00m,\n\u001b[0;32m    106\u001b[0m ) \u001b[39m-\u001b[39m\u001b[39m>\u001b[39m DataFrame:\n\u001b[0;32m    107\u001b[0m     op \u001b[39m=\u001b[39m _MergeOperation(\n\u001b[0;32m    108\u001b[0m         left,\n\u001b[0;32m    109\u001b[0m         right,\n\u001b[1;32m   (...)\u001b[0m\n\u001b[0;32m    120\u001b[0m         validate\u001b[39m=\u001b[39mvalidate,\n\u001b[0;32m    121\u001b[0m     )\n\u001b[1;32m--> 122\u001b[0m     \u001b[39mreturn\u001b[39;00m op\u001b[39m.\u001b[39;49mget_result()\n",
      "File \u001b[1;32mc:\\Users\\KIM TOA\\anaconda3\\lib\\site-packages\\pandas\\core\\reshape\\merge.py:718\u001b[0m, in \u001b[0;36m_MergeOperation.get_result\u001b[1;34m(self)\u001b[0m\n\u001b[0;32m    714\u001b[0m     \u001b[39mself\u001b[39m\u001b[39m.\u001b[39mleft, \u001b[39mself\u001b[39m\u001b[39m.\u001b[39mright \u001b[39m=\u001b[39m \u001b[39mself\u001b[39m\u001b[39m.\u001b[39m_indicator_pre_merge(\u001b[39mself\u001b[39m\u001b[39m.\u001b[39mleft, \u001b[39mself\u001b[39m\u001b[39m.\u001b[39mright)\n\u001b[0;32m    716\u001b[0m join_index, left_indexer, right_indexer \u001b[39m=\u001b[39m \u001b[39mself\u001b[39m\u001b[39m.\u001b[39m_get_join_info()\n\u001b[1;32m--> 718\u001b[0m llabels, rlabels \u001b[39m=\u001b[39m _items_overlap_with_suffix(\n\u001b[0;32m    719\u001b[0m     \u001b[39mself\u001b[39;49m\u001b[39m.\u001b[39;49mleft\u001b[39m.\u001b[39;49m_info_axis, \u001b[39mself\u001b[39;49m\u001b[39m.\u001b[39;49mright\u001b[39m.\u001b[39;49m_info_axis, \u001b[39mself\u001b[39;49m\u001b[39m.\u001b[39;49msuffixes\n\u001b[0;32m    720\u001b[0m )\n\u001b[0;32m    722\u001b[0m lindexers \u001b[39m=\u001b[39m {\u001b[39m1\u001b[39m: left_indexer} \u001b[39mif\u001b[39;00m left_indexer \u001b[39mis\u001b[39;00m \u001b[39mnot\u001b[39;00m \u001b[39mNone\u001b[39;00m \u001b[39melse\u001b[39;00m {}\n\u001b[0;32m    723\u001b[0m rindexers \u001b[39m=\u001b[39m {\u001b[39m1\u001b[39m: right_indexer} \u001b[39mif\u001b[39;00m right_indexer \u001b[39mis\u001b[39;00m \u001b[39mnot\u001b[39;00m \u001b[39mNone\u001b[39;00m \u001b[39melse\u001b[39;00m {}\n",
      "File \u001b[1;32mc:\\Users\\KIM TOA\\anaconda3\\lib\\site-packages\\pandas\\core\\reshape\\merge.py:2313\u001b[0m, in \u001b[0;36m_items_overlap_with_suffix\u001b[1;34m(left, right, suffixes)\u001b[0m\n\u001b[0;32m   2310\u001b[0m lsuffix, rsuffix \u001b[39m=\u001b[39m suffixes\n\u001b[0;32m   2312\u001b[0m \u001b[39mif\u001b[39;00m \u001b[39mnot\u001b[39;00m lsuffix \u001b[39mand\u001b[39;00m \u001b[39mnot\u001b[39;00m rsuffix:\n\u001b[1;32m-> 2313\u001b[0m     \u001b[39mraise\u001b[39;00m \u001b[39mValueError\u001b[39;00m(\u001b[39mf\u001b[39m\u001b[39m\"\u001b[39m\u001b[39mcolumns overlap but no suffix specified: \u001b[39m\u001b[39m{\u001b[39;00mto_rename\u001b[39m}\u001b[39;00m\u001b[39m\"\u001b[39m)\n\u001b[0;32m   2315\u001b[0m \u001b[39mdef\u001b[39;00m \u001b[39mrenamer\u001b[39m(x, suffix):\n\u001b[0;32m   2316\u001b[0m     \u001b[39m\"\"\"\u001b[39;00m\n\u001b[0;32m   2317\u001b[0m \u001b[39m    Rename the left and right indices.\u001b[39;00m\n\u001b[0;32m   2318\u001b[0m \n\u001b[1;32m   (...)\u001b[0m\n\u001b[0;32m   2329\u001b[0m \u001b[39m    x : renamed column name\u001b[39;00m\n\u001b[0;32m   2330\u001b[0m \u001b[39m    \"\"\"\u001b[39;00m\n",
      "\u001b[1;31mValueError\u001b[0m: columns overlap but no suffix specified: Index(['id'], dtype='object')"
     ]
    }
   ],
   "source": [
    "product.join(data, how= 'inner')"
   ]
  },
  {
   "cell_type": "code",
   "execution_count": 32,
   "metadata": {},
   "outputs": [],
   "source": [
    "df1 = product\n",
    "df2 = data\n",
    "df1.set_index('id', inplace=True)\n",
    "df2.set_index('id', inplace=True)\n",
    "\n",
    "joined_df = df1.join(df2, how='inner')"
   ]
  },
  {
   "cell_type": "code",
   "execution_count": 33,
   "metadata": {},
   "outputs": [
    {
     "data": {
      "text/html": [
       "<div>\n",
       "<style scoped>\n",
       "    .dataframe tbody tr th:only-of-type {\n",
       "        vertical-align: middle;\n",
       "    }\n",
       "\n",
       "    .dataframe tbody tr th {\n",
       "        vertical-align: top;\n",
       "    }\n",
       "\n",
       "    .dataframe thead th {\n",
       "        text-align: right;\n",
       "    }\n",
       "</style>\n",
       "<table border=\"1\" class=\"dataframe\">\n",
       "  <thead>\n",
       "    <tr style=\"text-align: right;\">\n",
       "      <th></th>\n",
       "      <th>store_id</th>\n",
       "    </tr>\n",
       "    <tr>\n",
       "      <th>id</th>\n",
       "      <th></th>\n",
       "    </tr>\n",
       "  </thead>\n",
       "  <tbody>\n",
       "    <tr>\n",
       "      <th>380279</th>\n",
       "      <td>26890.0</td>\n",
       "    </tr>\n",
       "    <tr>\n",
       "      <th>380280</th>\n",
       "      <td>26890.0</td>\n",
       "    </tr>\n",
       "    <tr>\n",
       "      <th>382914</th>\n",
       "      <td>1.0</td>\n",
       "    </tr>\n",
       "    <tr>\n",
       "      <th>383286</th>\n",
       "      <td>1.0</td>\n",
       "    </tr>\n",
       "    <tr>\n",
       "      <th>383286</th>\n",
       "      <td>1.0</td>\n",
       "    </tr>\n",
       "    <tr>\n",
       "      <th>...</th>\n",
       "      <td>...</td>\n",
       "    </tr>\n",
       "    <tr>\n",
       "      <th>272777847</th>\n",
       "      <td>2091.0</td>\n",
       "    </tr>\n",
       "    <tr>\n",
       "      <th>272787019</th>\n",
       "      <td>345684.0</td>\n",
       "    </tr>\n",
       "    <tr>\n",
       "      <th>272787022</th>\n",
       "      <td>345684.0</td>\n",
       "    </tr>\n",
       "    <tr>\n",
       "      <th>272787024</th>\n",
       "      <td>345684.0</td>\n",
       "    </tr>\n",
       "    <tr>\n",
       "      <th>272887950</th>\n",
       "      <td>309004.0</td>\n",
       "    </tr>\n",
       "  </tbody>\n",
       "</table>\n",
       "<p>2349 rows × 1 columns</p>\n",
       "</div>"
      ],
      "text/plain": [
       "           store_id\n",
       "id                 \n",
       "380279      26890.0\n",
       "380280      26890.0\n",
       "382914          1.0\n",
       "383286          1.0\n",
       "383286          1.0\n",
       "...             ...\n",
       "272777847    2091.0\n",
       "272787019  345684.0\n",
       "272787022  345684.0\n",
       "272787024  345684.0\n",
       "272887950  309004.0\n",
       "\n",
       "[2349 rows x 1 columns]"
      ]
     },
     "execution_count": 33,
     "metadata": {},
     "output_type": "execute_result"
    }
   ],
   "source": [
    "joined_df"
   ]
  },
  {
   "cell_type": "code",
   "execution_count": 39,
   "metadata": {},
   "outputs": [
    {
     "data": {
      "text/html": [
       "<div>\n",
       "<style scoped>\n",
       "    .dataframe tbody tr th:only-of-type {\n",
       "        vertical-align: middle;\n",
       "    }\n",
       "\n",
       "    .dataframe tbody tr th {\n",
       "        vertical-align: top;\n",
       "    }\n",
       "\n",
       "    .dataframe thead th {\n",
       "        text-align: right;\n",
       "    }\n",
       "</style>\n",
       "<table border=\"1\" class=\"dataframe\">\n",
       "  <thead>\n",
       "    <tr style=\"text-align: right;\">\n",
       "      <th></th>\n",
       "      <th>store_id</th>\n",
       "    </tr>\n",
       "    <tr>\n",
       "      <th>id</th>\n",
       "      <th></th>\n",
       "    </tr>\n",
       "  </thead>\n",
       "  <tbody>\n",
       "    <tr>\n",
       "      <th>631525</th>\n",
       "      <td>211.0</td>\n",
       "    </tr>\n",
       "    <tr>\n",
       "      <th>117170051</th>\n",
       "      <td>1.0</td>\n",
       "    </tr>\n",
       "    <tr>\n",
       "      <th>54058503</th>\n",
       "      <td>1.0</td>\n",
       "    </tr>\n",
       "    <tr>\n",
       "      <th>214101372</th>\n",
       "      <td>NaN</td>\n",
       "    </tr>\n",
       "    <tr>\n",
       "      <th>140537792</th>\n",
       "      <td>1.0</td>\n",
       "    </tr>\n",
       "    <tr>\n",
       "      <th>...</th>\n",
       "      <td>...</td>\n",
       "    </tr>\n",
       "    <tr>\n",
       "      <th>225937377</th>\n",
       "      <td>4629.0</td>\n",
       "    </tr>\n",
       "    <tr>\n",
       "      <th>225918457</th>\n",
       "      <td>4629.0</td>\n",
       "    </tr>\n",
       "    <tr>\n",
       "      <th>89893042</th>\n",
       "      <td>11978.0</td>\n",
       "    </tr>\n",
       "    <tr>\n",
       "      <th>193007064</th>\n",
       "      <td>260286.0</td>\n",
       "    </tr>\n",
       "    <tr>\n",
       "      <th>192206662</th>\n",
       "      <td>260286.0</td>\n",
       "    </tr>\n",
       "  </tbody>\n",
       "</table>\n",
       "<p>2021 rows × 1 columns</p>\n",
       "</div>"
      ],
      "text/plain": [
       "           store_id\n",
       "id                 \n",
       "631525        211.0\n",
       "117170051       1.0\n",
       "54058503        1.0\n",
       "214101372       NaN\n",
       "140537792       1.0\n",
       "...             ...\n",
       "225937377    4629.0\n",
       "225918457    4629.0\n",
       "89893042    11978.0\n",
       "193007064  260286.0\n",
       "192206662  260286.0\n",
       "\n",
       "[2021 rows x 1 columns]"
      ]
     },
     "execution_count": 39,
     "metadata": {},
     "output_type": "execute_result"
    }
   ],
   "source": [
    "data"
   ]
  },
  {
   "cell_type": "code",
   "execution_count": 40,
   "metadata": {},
   "outputs": [
    {
     "data": {
      "text/html": [
       "<div>\n",
       "<style scoped>\n",
       "    .dataframe tbody tr th:only-of-type {\n",
       "        vertical-align: middle;\n",
       "    }\n",
       "\n",
       "    .dataframe tbody tr th {\n",
       "        vertical-align: top;\n",
       "    }\n",
       "\n",
       "    .dataframe thead th {\n",
       "        text-align: right;\n",
       "    }\n",
       "</style>\n",
       "<table border=\"1\" class=\"dataframe\">\n",
       "  <thead>\n",
       "    <tr style=\"text-align: right;\">\n",
       "      <th></th>\n",
       "    </tr>\n",
       "    <tr>\n",
       "      <th>id</th>\n",
       "    </tr>\n",
       "  </thead>\n",
       "  <tbody>\n",
       "    <tr>\n",
       "      <th>631525</th>\n",
       "    </tr>\n",
       "    <tr>\n",
       "      <th>117170051</th>\n",
       "    </tr>\n",
       "    <tr>\n",
       "      <th>54058503</th>\n",
       "    </tr>\n",
       "    <tr>\n",
       "      <th>214101372</th>\n",
       "    </tr>\n",
       "    <tr>\n",
       "      <th>140537792</th>\n",
       "    </tr>\n",
       "    <tr>\n",
       "      <th>...</th>\n",
       "    </tr>\n",
       "    <tr>\n",
       "      <th>225937377</th>\n",
       "    </tr>\n",
       "    <tr>\n",
       "      <th>225918457</th>\n",
       "    </tr>\n",
       "    <tr>\n",
       "      <th>89893042</th>\n",
       "    </tr>\n",
       "    <tr>\n",
       "      <th>193007064</th>\n",
       "    </tr>\n",
       "    <tr>\n",
       "      <th>192206662</th>\n",
       "    </tr>\n",
       "  </tbody>\n",
       "</table>\n",
       "<p>2024 rows × 0 columns</p>\n",
       "</div>"
      ],
      "text/plain": [
       "Empty DataFrame\n",
       "Columns: []\n",
       "Index: [631525, 117170051, 54058503, 214101372, 140537792, 22052325, 196953338, 631034, 199009119, 631525, 127377722, 383286, 568830, 119251243, 190641506, 460758, 78007672, 272126105, 21481196, 35526543, 272113577, 191081573, 45900941, 70661243, 98902719, 2397037, 174834852, 191365625, 441649, 1362447, 272126105, 16632033, 33785195, 35526564, 13415841, 98902719, 14707534, 200938553, 127377722, 54414221, 25108217, 119251217, 31494236, 92096007, 460758, 383286, 85660175, 196930516, 35933597, 54414095, 272113577, 190641510, 2123245, 39518099, 34481992, 460758, 24469772, 2397037, 38339909, 71999833, 272126248, 1514805, 55705554, 25917938, 33606875, 272126105, 1601735, 6884515, 119251241, 911333, 262729359, 184444737, 68491609, 22293001, 1362445, 221226549, 84801947, 7221953, 3282871, 178559959, 22052325, 30794077, 6418985, 68617503, 911335, 191365625, 54414143, 73607516, 38375339, 194487199, 272126117, 470478, 37745284, 272126117, 125732286, 262729479, 221226549, 263104111, 25742819, 162144054, ...]\n",
       "\n",
       "[2024 rows x 0 columns]"
      ]
     },
     "execution_count": 40,
     "metadata": {},
     "output_type": "execute_result"
    }
   ],
   "source": [
    "product"
   ]
  },
  {
   "cell_type": "code",
   "execution_count": 48,
   "metadata": {},
   "outputs": [
    {
     "data": {
      "text/html": [
       "<div>\n",
       "<style scoped>\n",
       "    .dataframe tbody tr th:only-of-type {\n",
       "        vertical-align: middle;\n",
       "    }\n",
       "\n",
       "    .dataframe tbody tr th {\n",
       "        vertical-align: top;\n",
       "    }\n",
       "\n",
       "    .dataframe thead th {\n",
       "        text-align: right;\n",
       "    }\n",
       "</style>\n",
       "<table border=\"1\" class=\"dataframe\">\n",
       "  <thead>\n",
       "    <tr style=\"text-align: right;\">\n",
       "      <th></th>\n",
       "      <th>store_id</th>\n",
       "    </tr>\n",
       "    <tr>\n",
       "      <th>id</th>\n",
       "      <th></th>\n",
       "    </tr>\n",
       "  </thead>\n",
       "  <tbody>\n",
       "    <tr>\n",
       "      <th>631525</th>\n",
       "      <td>211.0</td>\n",
       "    </tr>\n",
       "    <tr>\n",
       "      <th>631525</th>\n",
       "      <td>211.0</td>\n",
       "    </tr>\n",
       "    <tr>\n",
       "      <th>117170051</th>\n",
       "      <td>1.0</td>\n",
       "    </tr>\n",
       "    <tr>\n",
       "      <th>54058503</th>\n",
       "      <td>1.0</td>\n",
       "    </tr>\n",
       "    <tr>\n",
       "      <th>214101372</th>\n",
       "      <td>NaN</td>\n",
       "    </tr>\n",
       "    <tr>\n",
       "      <th>...</th>\n",
       "      <td>...</td>\n",
       "    </tr>\n",
       "    <tr>\n",
       "      <th>225937377</th>\n",
       "      <td>4629.0</td>\n",
       "    </tr>\n",
       "    <tr>\n",
       "      <th>225918457</th>\n",
       "      <td>4629.0</td>\n",
       "    </tr>\n",
       "    <tr>\n",
       "      <th>89893042</th>\n",
       "      <td>11978.0</td>\n",
       "    </tr>\n",
       "    <tr>\n",
       "      <th>193007064</th>\n",
       "      <td>260286.0</td>\n",
       "    </tr>\n",
       "    <tr>\n",
       "      <th>192206662</th>\n",
       "      <td>260286.0</td>\n",
       "    </tr>\n",
       "  </tbody>\n",
       "</table>\n",
       "<p>2349 rows × 1 columns</p>\n",
       "</div>"
      ],
      "text/plain": [
       "           store_id\n",
       "id                 \n",
       "631525        211.0\n",
       "631525        211.0\n",
       "117170051       1.0\n",
       "54058503        1.0\n",
       "214101372       NaN\n",
       "...             ...\n",
       "225937377    4629.0\n",
       "225918457    4629.0\n",
       "89893042    11978.0\n",
       "193007064  260286.0\n",
       "192206662  260286.0\n",
       "\n",
       "[2349 rows x 1 columns]"
      ]
     },
     "execution_count": 48,
     "metadata": {},
     "output_type": "execute_result"
    }
   ],
   "source": [
    "merge_df = pd.merge(data,product, on = 'id', how = 'left')\n",
    "merge_df"
   ]
  },
  {
   "cell_type": "code",
   "execution_count": 47,
   "metadata": {},
   "outputs": [
    {
     "data": {
      "text/html": [
       "<div>\n",
       "<style scoped>\n",
       "    .dataframe tbody tr th:only-of-type {\n",
       "        vertical-align: middle;\n",
       "    }\n",
       "\n",
       "    .dataframe tbody tr th {\n",
       "        vertical-align: top;\n",
       "    }\n",
       "\n",
       "    .dataframe thead th {\n",
       "        text-align: right;\n",
       "    }\n",
       "</style>\n",
       "<table border=\"1\" class=\"dataframe\">\n",
       "  <thead>\n",
       "    <tr style=\"text-align: right;\">\n",
       "      <th></th>\n",
       "      <th>store_id</th>\n",
       "    </tr>\n",
       "    <tr>\n",
       "      <th>id</th>\n",
       "      <th></th>\n",
       "    </tr>\n",
       "  </thead>\n",
       "  <tbody>\n",
       "    <tr>\n",
       "      <th>631525</th>\n",
       "      <td>211.0</td>\n",
       "    </tr>\n",
       "    <tr>\n",
       "      <th>117170051</th>\n",
       "      <td>1.0</td>\n",
       "    </tr>\n",
       "    <tr>\n",
       "      <th>214101372</th>\n",
       "      <td>NaN</td>\n",
       "    </tr>\n",
       "    <tr>\n",
       "      <th>127377722</th>\n",
       "      <td>6423.0</td>\n",
       "    </tr>\n",
       "    <tr>\n",
       "      <th>119251243</th>\n",
       "      <td>11978.0</td>\n",
       "    </tr>\n",
       "    <tr>\n",
       "      <th>...</th>\n",
       "      <td>...</td>\n",
       "    </tr>\n",
       "    <tr>\n",
       "      <th>195526449</th>\n",
       "      <td>91940.0</td>\n",
       "    </tr>\n",
       "    <tr>\n",
       "      <th>262936760</th>\n",
       "      <td>295075.0</td>\n",
       "    </tr>\n",
       "    <tr>\n",
       "      <th>162594054</th>\n",
       "      <td>125262.0</td>\n",
       "    </tr>\n",
       "    <tr>\n",
       "      <th>73517693</th>\n",
       "      <td>74985.0</td>\n",
       "    </tr>\n",
       "    <tr>\n",
       "      <th>193007064</th>\n",
       "      <td>260286.0</td>\n",
       "    </tr>\n",
       "  </tbody>\n",
       "</table>\n",
       "<p>525 rows × 1 columns</p>\n",
       "</div>"
      ],
      "text/plain": [
       "           store_id\n",
       "id                 \n",
       "631525        211.0\n",
       "117170051       1.0\n",
       "214101372       NaN\n",
       "127377722    6423.0\n",
       "119251243   11978.0\n",
       "...             ...\n",
       "195526449   91940.0\n",
       "262936760  295075.0\n",
       "162594054  125262.0\n",
       "73517693    74985.0\n",
       "193007064  260286.0\n",
       "\n",
       "[525 rows x 1 columns]"
      ]
     },
     "execution_count": 47,
     "metadata": {},
     "output_type": "execute_result"
    }
   ],
   "source": [
    "merge_df.drop_duplicates()"
   ]
  },
  {
   "cell_type": "code",
   "execution_count": 49,
   "metadata": {},
   "outputs": [
    {
     "data": {
      "text/html": [
       "<div>\n",
       "<style scoped>\n",
       "    .dataframe tbody tr th:only-of-type {\n",
       "        vertical-align: middle;\n",
       "    }\n",
       "\n",
       "    .dataframe tbody tr th {\n",
       "        vertical-align: top;\n",
       "    }\n",
       "\n",
       "    .dataframe thead th {\n",
       "        text-align: right;\n",
       "    }\n",
       "</style>\n",
       "<table border=\"1\" class=\"dataframe\">\n",
       "  <thead>\n",
       "    <tr style=\"text-align: right;\">\n",
       "      <th></th>\n",
       "      <th>store_id</th>\n",
       "    </tr>\n",
       "    <tr>\n",
       "      <th>id</th>\n",
       "      <th></th>\n",
       "    </tr>\n",
       "  </thead>\n",
       "  <tbody>\n",
       "    <tr>\n",
       "      <th>631525</th>\n",
       "      <td>211.0</td>\n",
       "    </tr>\n",
       "    <tr>\n",
       "      <th>117170051</th>\n",
       "      <td>1.0</td>\n",
       "    </tr>\n",
       "    <tr>\n",
       "      <th>54058503</th>\n",
       "      <td>1.0</td>\n",
       "    </tr>\n",
       "    <tr>\n",
       "      <th>214101372</th>\n",
       "      <td>NaN</td>\n",
       "    </tr>\n",
       "    <tr>\n",
       "      <th>140537792</th>\n",
       "      <td>1.0</td>\n",
       "    </tr>\n",
       "    <tr>\n",
       "      <th>...</th>\n",
       "      <td>...</td>\n",
       "    </tr>\n",
       "    <tr>\n",
       "      <th>225937377</th>\n",
       "      <td>4629.0</td>\n",
       "    </tr>\n",
       "    <tr>\n",
       "      <th>225918457</th>\n",
       "      <td>4629.0</td>\n",
       "    </tr>\n",
       "    <tr>\n",
       "      <th>89893042</th>\n",
       "      <td>11978.0</td>\n",
       "    </tr>\n",
       "    <tr>\n",
       "      <th>193007064</th>\n",
       "      <td>260286.0</td>\n",
       "    </tr>\n",
       "    <tr>\n",
       "      <th>192206662</th>\n",
       "      <td>260286.0</td>\n",
       "    </tr>\n",
       "  </tbody>\n",
       "</table>\n",
       "<p>2021 rows × 1 columns</p>\n",
       "</div>"
      ],
      "text/plain": [
       "           store_id\n",
       "id                 \n",
       "631525        211.0\n",
       "117170051       1.0\n",
       "54058503        1.0\n",
       "214101372       NaN\n",
       "140537792       1.0\n",
       "...             ...\n",
       "225937377    4629.0\n",
       "225918457    4629.0\n",
       "89893042    11978.0\n",
       "193007064  260286.0\n",
       "192206662  260286.0\n",
       "\n",
       "[2021 rows x 1 columns]"
      ]
     },
     "execution_count": 49,
     "metadata": {},
     "output_type": "execute_result"
    }
   ],
   "source": [
    "data"
   ]
  },
  {
   "cell_type": "code",
   "execution_count": 51,
   "metadata": {},
   "outputs": [],
   "source": [
    "df1 = pd.read_csv('product_id_ncds.csv')\n",
    "df2 = pd.read_csv('temp.csv')"
   ]
  },
  {
   "cell_type": "code",
   "execution_count": 52,
   "metadata": {},
   "outputs": [
    {
     "data": {
      "text/html": [
       "<div>\n",
       "<style scoped>\n",
       "    .dataframe tbody tr th:only-of-type {\n",
       "        vertical-align: middle;\n",
       "    }\n",
       "\n",
       "    .dataframe tbody tr th {\n",
       "        vertical-align: top;\n",
       "    }\n",
       "\n",
       "    .dataframe thead th {\n",
       "        text-align: right;\n",
       "    }\n",
       "</style>\n",
       "<table border=\"1\" class=\"dataframe\">\n",
       "  <thead>\n",
       "    <tr style=\"text-align: right;\">\n",
       "      <th></th>\n",
       "      <th>id</th>\n",
       "    </tr>\n",
       "  </thead>\n",
       "  <tbody>\n",
       "    <tr>\n",
       "      <th>0</th>\n",
       "      <td>631525</td>\n",
       "    </tr>\n",
       "    <tr>\n",
       "      <th>1</th>\n",
       "      <td>117170051</td>\n",
       "    </tr>\n",
       "    <tr>\n",
       "      <th>2</th>\n",
       "      <td>54058503</td>\n",
       "    </tr>\n",
       "    <tr>\n",
       "      <th>3</th>\n",
       "      <td>214101372</td>\n",
       "    </tr>\n",
       "    <tr>\n",
       "      <th>4</th>\n",
       "      <td>140537792</td>\n",
       "    </tr>\n",
       "    <tr>\n",
       "      <th>...</th>\n",
       "      <td>...</td>\n",
       "    </tr>\n",
       "    <tr>\n",
       "      <th>2019</th>\n",
       "      <td>225937377</td>\n",
       "    </tr>\n",
       "    <tr>\n",
       "      <th>2020</th>\n",
       "      <td>225918457</td>\n",
       "    </tr>\n",
       "    <tr>\n",
       "      <th>2021</th>\n",
       "      <td>89893042</td>\n",
       "    </tr>\n",
       "    <tr>\n",
       "      <th>2022</th>\n",
       "      <td>193007064</td>\n",
       "    </tr>\n",
       "    <tr>\n",
       "      <th>2023</th>\n",
       "      <td>192206662</td>\n",
       "    </tr>\n",
       "  </tbody>\n",
       "</table>\n",
       "<p>2024 rows × 1 columns</p>\n",
       "</div>"
      ],
      "text/plain": [
       "             id\n",
       "0        631525\n",
       "1     117170051\n",
       "2      54058503\n",
       "3     214101372\n",
       "4     140537792\n",
       "...         ...\n",
       "2019  225937377\n",
       "2020  225918457\n",
       "2021   89893042\n",
       "2022  193007064\n",
       "2023  192206662\n",
       "\n",
       "[2024 rows x 1 columns]"
      ]
     },
     "execution_count": 52,
     "metadata": {},
     "output_type": "execute_result"
    }
   ],
   "source": [
    "df1"
   ]
  },
  {
   "cell_type": "code",
   "execution_count": 53,
   "metadata": {},
   "outputs": [
    {
     "data": {
      "text/html": [
       "<div>\n",
       "<style scoped>\n",
       "    .dataframe tbody tr th:only-of-type {\n",
       "        vertical-align: middle;\n",
       "    }\n",
       "\n",
       "    .dataframe tbody tr th {\n",
       "        vertical-align: top;\n",
       "    }\n",
       "\n",
       "    .dataframe thead th {\n",
       "        text-align: right;\n",
       "    }\n",
       "</style>\n",
       "<table border=\"1\" class=\"dataframe\">\n",
       "  <thead>\n",
       "    <tr style=\"text-align: right;\">\n",
       "      <th></th>\n",
       "      <th>id</th>\n",
       "      <th>store_id</th>\n",
       "    </tr>\n",
       "  </thead>\n",
       "  <tbody>\n",
       "    <tr>\n",
       "      <th>0</th>\n",
       "      <td>631525</td>\n",
       "      <td>211.0</td>\n",
       "    </tr>\n",
       "    <tr>\n",
       "      <th>1</th>\n",
       "      <td>117170051</td>\n",
       "      <td>1.0</td>\n",
       "    </tr>\n",
       "    <tr>\n",
       "      <th>2</th>\n",
       "      <td>54058503</td>\n",
       "      <td>1.0</td>\n",
       "    </tr>\n",
       "    <tr>\n",
       "      <th>3</th>\n",
       "      <td>214101372</td>\n",
       "      <td>NaN</td>\n",
       "    </tr>\n",
       "    <tr>\n",
       "      <th>4</th>\n",
       "      <td>140537792</td>\n",
       "      <td>1.0</td>\n",
       "    </tr>\n",
       "    <tr>\n",
       "      <th>...</th>\n",
       "      <td>...</td>\n",
       "      <td>...</td>\n",
       "    </tr>\n",
       "    <tr>\n",
       "      <th>2016</th>\n",
       "      <td>225937377</td>\n",
       "      <td>4629.0</td>\n",
       "    </tr>\n",
       "    <tr>\n",
       "      <th>2017</th>\n",
       "      <td>225918457</td>\n",
       "      <td>4629.0</td>\n",
       "    </tr>\n",
       "    <tr>\n",
       "      <th>2018</th>\n",
       "      <td>89893042</td>\n",
       "      <td>11978.0</td>\n",
       "    </tr>\n",
       "    <tr>\n",
       "      <th>2019</th>\n",
       "      <td>193007064</td>\n",
       "      <td>260286.0</td>\n",
       "    </tr>\n",
       "    <tr>\n",
       "      <th>2020</th>\n",
       "      <td>192206662</td>\n",
       "      <td>260286.0</td>\n",
       "    </tr>\n",
       "  </tbody>\n",
       "</table>\n",
       "<p>2021 rows × 2 columns</p>\n",
       "</div>"
      ],
      "text/plain": [
       "             id  store_id\n",
       "0        631525     211.0\n",
       "1     117170051       1.0\n",
       "2      54058503       1.0\n",
       "3     214101372       NaN\n",
       "4     140537792       1.0\n",
       "...         ...       ...\n",
       "2016  225937377    4629.0\n",
       "2017  225918457    4629.0\n",
       "2018   89893042   11978.0\n",
       "2019  193007064  260286.0\n",
       "2020  192206662  260286.0\n",
       "\n",
       "[2021 rows x 2 columns]"
      ]
     },
     "execution_count": 53,
     "metadata": {},
     "output_type": "execute_result"
    }
   ],
   "source": [
    "df2"
   ]
  },
  {
   "cell_type": "code",
   "execution_count": 74,
   "metadata": {},
   "outputs": [
    {
     "data": {
      "text/html": [
       "<div>\n",
       "<style scoped>\n",
       "    .dataframe tbody tr th:only-of-type {\n",
       "        vertical-align: middle;\n",
       "    }\n",
       "\n",
       "    .dataframe tbody tr th {\n",
       "        vertical-align: top;\n",
       "    }\n",
       "\n",
       "    .dataframe thead th {\n",
       "        text-align: right;\n",
       "    }\n",
       "</style>\n",
       "<table border=\"1\" class=\"dataframe\">\n",
       "  <thead>\n",
       "    <tr style=\"text-align: right;\">\n",
       "      <th></th>\n",
       "      <th>id</th>\n",
       "      <th>store_id</th>\n",
       "    </tr>\n",
       "  </thead>\n",
       "  <tbody>\n",
       "    <tr>\n",
       "      <th>0</th>\n",
       "      <td>631525</td>\n",
       "      <td>211.0</td>\n",
       "    </tr>\n",
       "    <tr>\n",
       "      <th>2</th>\n",
       "      <td>117170051</td>\n",
       "      <td>1.0</td>\n",
       "    </tr>\n",
       "    <tr>\n",
       "      <th>3</th>\n",
       "      <td>54058503</td>\n",
       "      <td>1.0</td>\n",
       "    </tr>\n",
       "    <tr>\n",
       "      <th>4</th>\n",
       "      <td>214101372</td>\n",
       "      <td>NaN</td>\n",
       "    </tr>\n",
       "    <tr>\n",
       "      <th>5</th>\n",
       "      <td>140537792</td>\n",
       "      <td>1.0</td>\n",
       "    </tr>\n",
       "    <tr>\n",
       "      <th>...</th>\n",
       "      <td>...</td>\n",
       "      <td>...</td>\n",
       "    </tr>\n",
       "    <tr>\n",
       "      <th>2347</th>\n",
       "      <td>225937377</td>\n",
       "      <td>4629.0</td>\n",
       "    </tr>\n",
       "    <tr>\n",
       "      <th>2348</th>\n",
       "      <td>225918457</td>\n",
       "      <td>4629.0</td>\n",
       "    </tr>\n",
       "    <tr>\n",
       "      <th>2349</th>\n",
       "      <td>89893042</td>\n",
       "      <td>11978.0</td>\n",
       "    </tr>\n",
       "    <tr>\n",
       "      <th>2350</th>\n",
       "      <td>193007064</td>\n",
       "      <td>260286.0</td>\n",
       "    </tr>\n",
       "    <tr>\n",
       "      <th>2351</th>\n",
       "      <td>192206662</td>\n",
       "      <td>260286.0</td>\n",
       "    </tr>\n",
       "  </tbody>\n",
       "</table>\n",
       "<p>1869 rows × 2 columns</p>\n",
       "</div>"
      ],
      "text/plain": [
       "             id  store_id\n",
       "0        631525     211.0\n",
       "2     117170051       1.0\n",
       "3      54058503       1.0\n",
       "4     214101372       NaN\n",
       "5     140537792       1.0\n",
       "...         ...       ...\n",
       "2347  225937377    4629.0\n",
       "2348  225918457    4629.0\n",
       "2349   89893042   11978.0\n",
       "2350  193007064  260286.0\n",
       "2351  192206662  260286.0\n",
       "\n",
       "[1869 rows x 2 columns]"
      ]
     },
     "execution_count": 74,
     "metadata": {},
     "output_type": "execute_result"
    }
   ],
   "source": [
    "merge = pd.merge(df1,df2, how = 'left')\n",
    "merge.drop_duplicates()"
   ]
  },
  {
   "cell_type": "code",
   "execution_count": 68,
   "metadata": {},
   "outputs": [
    {
     "data": {
      "text/html": [
       "<div>\n",
       "<style scoped>\n",
       "    .dataframe tbody tr th:only-of-type {\n",
       "        vertical-align: middle;\n",
       "    }\n",
       "\n",
       "    .dataframe tbody tr th {\n",
       "        vertical-align: top;\n",
       "    }\n",
       "\n",
       "    .dataframe thead th {\n",
       "        text-align: right;\n",
       "    }\n",
       "</style>\n",
       "<table border=\"1\" class=\"dataframe\">\n",
       "  <thead>\n",
       "    <tr style=\"text-align: right;\">\n",
       "      <th></th>\n",
       "      <th>id</th>\n",
       "    </tr>\n",
       "  </thead>\n",
       "  <tbody>\n",
       "    <tr>\n",
       "      <th>0</th>\n",
       "      <td>631525</td>\n",
       "    </tr>\n",
       "    <tr>\n",
       "      <th>1</th>\n",
       "      <td>117170051</td>\n",
       "    </tr>\n",
       "    <tr>\n",
       "      <th>2</th>\n",
       "      <td>54058503</td>\n",
       "    </tr>\n",
       "    <tr>\n",
       "      <th>3</th>\n",
       "      <td>214101372</td>\n",
       "    </tr>\n",
       "    <tr>\n",
       "      <th>4</th>\n",
       "      <td>140537792</td>\n",
       "    </tr>\n",
       "    <tr>\n",
       "      <th>...</th>\n",
       "      <td>...</td>\n",
       "    </tr>\n",
       "    <tr>\n",
       "      <th>2019</th>\n",
       "      <td>225937377</td>\n",
       "    </tr>\n",
       "    <tr>\n",
       "      <th>2020</th>\n",
       "      <td>225918457</td>\n",
       "    </tr>\n",
       "    <tr>\n",
       "      <th>2021</th>\n",
       "      <td>89893042</td>\n",
       "    </tr>\n",
       "    <tr>\n",
       "      <th>2022</th>\n",
       "      <td>193007064</td>\n",
       "    </tr>\n",
       "    <tr>\n",
       "      <th>2023</th>\n",
       "      <td>192206662</td>\n",
       "    </tr>\n",
       "  </tbody>\n",
       "</table>\n",
       "<p>2024 rows × 1 columns</p>\n",
       "</div>"
      ],
      "text/plain": [
       "             id\n",
       "0        631525\n",
       "1     117170051\n",
       "2      54058503\n",
       "3     214101372\n",
       "4     140537792\n",
       "...         ...\n",
       "2019  225937377\n",
       "2020  225918457\n",
       "2021   89893042\n",
       "2022  193007064\n",
       "2023  192206662\n",
       "\n",
       "[2024 rows x 1 columns]"
      ]
     },
     "execution_count": 68,
     "metadata": {},
     "output_type": "execute_result"
    }
   ],
   "source": [
    "df"
   ]
  },
  {
   "cell_type": "code",
   "execution_count": 67,
   "metadata": {},
   "outputs": [
    {
     "data": {
      "text/html": [
       "<div>\n",
       "<style scoped>\n",
       "    .dataframe tbody tr th:only-of-type {\n",
       "        vertical-align: middle;\n",
       "    }\n",
       "\n",
       "    .dataframe tbody tr th {\n",
       "        vertical-align: top;\n",
       "    }\n",
       "\n",
       "    .dataframe thead th {\n",
       "        text-align: right;\n",
       "    }\n",
       "</style>\n",
       "<table border=\"1\" class=\"dataframe\">\n",
       "  <thead>\n",
       "    <tr style=\"text-align: right;\">\n",
       "      <th></th>\n",
       "      <th>id</th>\n",
       "      <th>store_id</th>\n",
       "    </tr>\n",
       "  </thead>\n",
       "  <tbody>\n",
       "    <tr>\n",
       "      <th>0</th>\n",
       "      <td>631525</td>\n",
       "      <td>211.0</td>\n",
       "    </tr>\n",
       "    <tr>\n",
       "      <th>1</th>\n",
       "      <td>117170051</td>\n",
       "      <td>1.0</td>\n",
       "    </tr>\n",
       "    <tr>\n",
       "      <th>2</th>\n",
       "      <td>54058503</td>\n",
       "      <td>1.0</td>\n",
       "    </tr>\n",
       "    <tr>\n",
       "      <th>3</th>\n",
       "      <td>214101372</td>\n",
       "      <td>NaN</td>\n",
       "    </tr>\n",
       "    <tr>\n",
       "      <th>4</th>\n",
       "      <td>140537792</td>\n",
       "      <td>1.0</td>\n",
       "    </tr>\n",
       "    <tr>\n",
       "      <th>...</th>\n",
       "      <td>...</td>\n",
       "      <td>...</td>\n",
       "    </tr>\n",
       "    <tr>\n",
       "      <th>2016</th>\n",
       "      <td>225937377</td>\n",
       "      <td>4629.0</td>\n",
       "    </tr>\n",
       "    <tr>\n",
       "      <th>2017</th>\n",
       "      <td>225918457</td>\n",
       "      <td>4629.0</td>\n",
       "    </tr>\n",
       "    <tr>\n",
       "      <th>2018</th>\n",
       "      <td>89893042</td>\n",
       "      <td>11978.0</td>\n",
       "    </tr>\n",
       "    <tr>\n",
       "      <th>2019</th>\n",
       "      <td>193007064</td>\n",
       "      <td>260286.0</td>\n",
       "    </tr>\n",
       "    <tr>\n",
       "      <th>2020</th>\n",
       "      <td>192206662</td>\n",
       "      <td>260286.0</td>\n",
       "    </tr>\n",
       "  </tbody>\n",
       "</table>\n",
       "<p>2021 rows × 2 columns</p>\n",
       "</div>"
      ],
      "text/plain": [
       "             id  store_id\n",
       "0        631525     211.0\n",
       "1     117170051       1.0\n",
       "2      54058503       1.0\n",
       "3     214101372       NaN\n",
       "4     140537792       1.0\n",
       "...         ...       ...\n",
       "2016  225937377    4629.0\n",
       "2017  225918457    4629.0\n",
       "2018   89893042   11978.0\n",
       "2019  193007064  260286.0\n",
       "2020  192206662  260286.0\n",
       "\n",
       "[2021 rows x 2 columns]"
      ]
     },
     "execution_count": 67,
     "metadata": {},
     "output_type": "execute_result"
    }
   ],
   "source": [
    "df2"
   ]
  },
  {
   "cell_type": "code",
   "execution_count": 70,
   "metadata": {},
   "outputs": [
    {
     "data": {
      "text/html": [
       "<div>\n",
       "<style scoped>\n",
       "    .dataframe tbody tr th:only-of-type {\n",
       "        vertical-align: middle;\n",
       "    }\n",
       "\n",
       "    .dataframe tbody tr th {\n",
       "        vertical-align: top;\n",
       "    }\n",
       "\n",
       "    .dataframe thead th {\n",
       "        text-align: right;\n",
       "    }\n",
       "</style>\n",
       "<table border=\"1\" class=\"dataframe\">\n",
       "  <thead>\n",
       "    <tr style=\"text-align: right;\">\n",
       "      <th></th>\n",
       "      <th>pid</th>\n",
       "      <th>avg_rating_point</th>\n",
       "      <th>days_since_joined</th>\n",
       "      <th>is_official</th>\n",
       "      <th>name</th>\n",
       "      <th>review_count</th>\n",
       "      <th>store_id</th>\n",
       "      <th>store_level</th>\n",
       "      <th>total_follower</th>\n",
       "    </tr>\n",
       "  </thead>\n",
       "  <tbody>\n",
       "    <tr>\n",
       "      <th>0</th>\n",
       "      <td>211</td>\n",
       "      <td>4.6635</td>\n",
       "      <td>2370</td>\n",
       "      <td>False</td>\n",
       "      <td>Thành Thuận Thiên</td>\n",
       "      <td>28468</td>\n",
       "      <td>171</td>\n",
       "      <td>NONE</td>\n",
       "      <td>2671</td>\n",
       "    </tr>\n",
       "    <tr>\n",
       "      <th>1</th>\n",
       "      <td>1</td>\n",
       "      <td>4.6705</td>\n",
       "      <td>2315</td>\n",
       "      <td>True</td>\n",
       "      <td>Tiki Trading</td>\n",
       "      <td>5407537</td>\n",
       "      <td>40395</td>\n",
       "      <td>OFFICIAL_STORE</td>\n",
       "      <td>492097</td>\n",
       "    </tr>\n",
       "    <tr>\n",
       "      <th>2</th>\n",
       "      <td>6423</td>\n",
       "      <td>4.7030</td>\n",
       "      <td>1943</td>\n",
       "      <td>True</td>\n",
       "      <td>Senka Official Store</td>\n",
       "      <td>37316</td>\n",
       "      <td>6280</td>\n",
       "      <td>OFFICIAL_STORE</td>\n",
       "      <td>25342</td>\n",
       "    </tr>\n",
       "    <tr>\n",
       "      <th>3</th>\n",
       "      <td>11978</td>\n",
       "      <td>4.7566</td>\n",
       "      <td>1839</td>\n",
       "      <td>False</td>\n",
       "      <td>PICARE VIET NAM</td>\n",
       "      <td>22160</td>\n",
       "      <td>11647</td>\n",
       "      <td>TRUSTED_STORE</td>\n",
       "      <td>12133</td>\n",
       "    </tr>\n",
       "    <tr>\n",
       "      <th>4</th>\n",
       "      <td>46296</td>\n",
       "      <td>4.5098</td>\n",
       "      <td>1633</td>\n",
       "      <td>False</td>\n",
       "      <td>Shop Hùng Phát 68</td>\n",
       "      <td>1173</td>\n",
       "      <td>44602</td>\n",
       "      <td>NONE</td>\n",
       "      <td>61</td>\n",
       "    </tr>\n",
       "    <tr>\n",
       "      <th>...</th>\n",
       "      <td>...</td>\n",
       "      <td>...</td>\n",
       "      <td>...</td>\n",
       "      <td>...</td>\n",
       "      <td>...</td>\n",
       "      <td>...</td>\n",
       "      <td>...</td>\n",
       "      <td>...</td>\n",
       "      <td>...</td>\n",
       "    </tr>\n",
       "    <tr>\n",
       "      <th>519</th>\n",
       "      <td>91940</td>\n",
       "      <td>0.0000</td>\n",
       "      <td>1454</td>\n",
       "      <td>True</td>\n",
       "      <td>Rosien Official Store</td>\n",
       "      <td>0</td>\n",
       "      <td>85365</td>\n",
       "      <td>OFFICIAL_STORE</td>\n",
       "      <td>1</td>\n",
       "    </tr>\n",
       "    <tr>\n",
       "      <th>520</th>\n",
       "      <td>295075</td>\n",
       "      <td>0.0000</td>\n",
       "      <td>486</td>\n",
       "      <td>False</td>\n",
       "      <td>TP Cosmetic</td>\n",
       "      <td>0</td>\n",
       "      <td>282417</td>\n",
       "      <td>NONE</td>\n",
       "      <td>4</td>\n",
       "    </tr>\n",
       "    <tr>\n",
       "      <th>521</th>\n",
       "      <td>125262</td>\n",
       "      <td>4.6050</td>\n",
       "      <td>1272</td>\n",
       "      <td>False</td>\n",
       "      <td>Beauty and Heath</td>\n",
       "      <td>400</td>\n",
       "      <td>115750</td>\n",
       "      <td>NONE</td>\n",
       "      <td>721</td>\n",
       "    </tr>\n",
       "    <tr>\n",
       "      <th>522</th>\n",
       "      <td>74985</td>\n",
       "      <td>4.5357</td>\n",
       "      <td>1494</td>\n",
       "      <td>False</td>\n",
       "      <td>Mẹ Ken House</td>\n",
       "      <td>280</td>\n",
       "      <td>69907</td>\n",
       "      <td>NONE</td>\n",
       "      <td>73</td>\n",
       "    </tr>\n",
       "    <tr>\n",
       "      <th>523</th>\n",
       "      <td>260286</td>\n",
       "      <td>0.0000</td>\n",
       "      <td>627</td>\n",
       "      <td>False</td>\n",
       "      <td>Plus Care</td>\n",
       "      <td>0</td>\n",
       "      <td>247324</td>\n",
       "      <td>NONE</td>\n",
       "      <td>1</td>\n",
       "    </tr>\n",
       "  </tbody>\n",
       "</table>\n",
       "<p>524 rows × 9 columns</p>\n",
       "</div>"
      ],
      "text/plain": [
       "        pid  avg_rating_point  days_since_joined  is_official  \\\n",
       "0       211            4.6635               2370        False   \n",
       "1         1            4.6705               2315         True   \n",
       "2      6423            4.7030               1943         True   \n",
       "3     11978            4.7566               1839        False   \n",
       "4     46296            4.5098               1633        False   \n",
       "..      ...               ...                ...          ...   \n",
       "519   91940            0.0000               1454         True   \n",
       "520  295075            0.0000                486        False   \n",
       "521  125262            4.6050               1272        False   \n",
       "522   74985            4.5357               1494        False   \n",
       "523  260286            0.0000                627        False   \n",
       "\n",
       "                      name  review_count  store_id     store_level  \\\n",
       "0        Thành Thuận Thiên         28468       171            NONE   \n",
       "1             Tiki Trading       5407537     40395  OFFICIAL_STORE   \n",
       "2     Senka Official Store         37316      6280  OFFICIAL_STORE   \n",
       "3          PICARE VIET NAM         22160     11647   TRUSTED_STORE   \n",
       "4        Shop Hùng Phát 68          1173     44602            NONE   \n",
       "..                     ...           ...       ...             ...   \n",
       "519  Rosien Official Store             0     85365  OFFICIAL_STORE   \n",
       "520            TP Cosmetic             0    282417            NONE   \n",
       "521       Beauty and Heath           400    115750            NONE   \n",
       "522           Mẹ Ken House           280     69907            NONE   \n",
       "523              Plus Care             0    247324            NONE   \n",
       "\n",
       "     total_follower  \n",
       "0              2671  \n",
       "1            492097  \n",
       "2             25342  \n",
       "3             12133  \n",
       "4                61  \n",
       "..              ...  \n",
       "519               1  \n",
       "520               4  \n",
       "521             721  \n",
       "522              73  \n",
       "523               1  \n",
       "\n",
       "[524 rows x 9 columns]"
      ]
     },
     "execution_count": 70,
     "metadata": {},
     "output_type": "execute_result"
    }
   ],
   "source": [
    "pd.read_csv('tiki_shop_inf.csv')"
   ]
  },
  {
   "cell_type": "code",
   "execution_count": 73,
   "metadata": {},
   "outputs": [
    {
     "data": {
      "text/html": [
       "<div>\n",
       "<style scoped>\n",
       "    .dataframe tbody tr th:only-of-type {\n",
       "        vertical-align: middle;\n",
       "    }\n",
       "\n",
       "    .dataframe tbody tr th {\n",
       "        vertical-align: top;\n",
       "    }\n",
       "\n",
       "    .dataframe thead th {\n",
       "        text-align: right;\n",
       "    }\n",
       "</style>\n",
       "<table border=\"1\" class=\"dataframe\">\n",
       "  <thead>\n",
       "    <tr style=\"text-align: right;\">\n",
       "      <th></th>\n",
       "      <th>id</th>\n",
       "    </tr>\n",
       "  </thead>\n",
       "  <tbody>\n",
       "    <tr>\n",
       "      <th>0</th>\n",
       "      <td>631525</td>\n",
       "    </tr>\n",
       "    <tr>\n",
       "      <th>1</th>\n",
       "      <td>117170051</td>\n",
       "    </tr>\n",
       "    <tr>\n",
       "      <th>2</th>\n",
       "      <td>54058503</td>\n",
       "    </tr>\n",
       "    <tr>\n",
       "      <th>3</th>\n",
       "      <td>214101372</td>\n",
       "    </tr>\n",
       "    <tr>\n",
       "      <th>4</th>\n",
       "      <td>140537792</td>\n",
       "    </tr>\n",
       "    <tr>\n",
       "      <th>...</th>\n",
       "      <td>...</td>\n",
       "    </tr>\n",
       "    <tr>\n",
       "      <th>2019</th>\n",
       "      <td>225937377</td>\n",
       "    </tr>\n",
       "    <tr>\n",
       "      <th>2020</th>\n",
       "      <td>225918457</td>\n",
       "    </tr>\n",
       "    <tr>\n",
       "      <th>2021</th>\n",
       "      <td>89893042</td>\n",
       "    </tr>\n",
       "    <tr>\n",
       "      <th>2022</th>\n",
       "      <td>193007064</td>\n",
       "    </tr>\n",
       "    <tr>\n",
       "      <th>2023</th>\n",
       "      <td>192206662</td>\n",
       "    </tr>\n",
       "  </tbody>\n",
       "</table>\n",
       "<p>1869 rows × 1 columns</p>\n",
       "</div>"
      ],
      "text/plain": [
       "             id\n",
       "0        631525\n",
       "1     117170051\n",
       "2      54058503\n",
       "3     214101372\n",
       "4     140537792\n",
       "...         ...\n",
       "2019  225937377\n",
       "2020  225918457\n",
       "2021   89893042\n",
       "2022  193007064\n",
       "2023  192206662\n",
       "\n",
       "[1869 rows x 1 columns]"
      ]
     },
     "execution_count": 73,
     "metadata": {},
     "output_type": "execute_result"
    }
   ],
   "source": [
    "a = pd.read_csv('product_id_ncds.csv')\n",
    "a.drop_duplicates()"
   ]
  },
  {
   "cell_type": "code",
   "execution_count": null,
   "metadata": {},
   "outputs": [],
   "source": []
  }
 ],
 "metadata": {
  "kernelspec": {
   "display_name": "base",
   "language": "python",
   "name": "python3"
  },
  "language_info": {
   "codemirror_mode": {
    "name": "ipython",
    "version": 3
   },
   "file_extension": ".py",
   "mimetype": "text/x-python",
   "name": "python",
   "nbconvert_exporter": "python",
   "pygments_lexer": "ipython3",
   "version": "3.9.12"
  },
  "orig_nbformat": 4
 },
 "nbformat": 4,
 "nbformat_minor": 2
}
