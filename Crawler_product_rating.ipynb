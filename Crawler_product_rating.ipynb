{
 "cells": [
  {
   "cell_type": "code",
   "execution_count": 1,
   "metadata": {},
   "outputs": [],
   "source": [
    "import requests\n",
    "import pandas as pd\n",
    "import time\n",
    "import random\n",
    "from tqdm import tqdm"
   ]
  },
  {
   "cell_type": "code",
   "execution_count": 2,
   "metadata": {},
   "outputs": [
    {
     "name": "stdout",
     "output_type": "stream",
     "text": [
      "Crawl data 154924210 success !!!\n"
     ]
    },
    {
     "name": "stderr",
     "output_type": "stream",
     "text": [
      " 32%|███▏      | 657/2024 [19:10<46:12,  2.03s/it]"
     ]
    },
    {
     "name": "stdout",
     "output_type": "stream",
     "text": [
      "Crawl data 188147305 success !!!\n"
     ]
    },
    {
     "name": "stderr",
     "output_type": "stream",
     "text": [
      " 33%|███▎      | 658/2024 [19:12<47:53,  2.10s/it]"
     ]
    },
    {
     "name": "stdout",
     "output_type": "stream",
     "text": [
      "Crawl data 86396989 success !!!\n"
     ]
    },
    {
     "name": "stderr",
     "output_type": "stream",
     "text": [
      " 33%|███▎      | 659/2024 [19:15<48:46,  2.14s/it]"
     ]
    },
    {
     "name": "stdout",
     "output_type": "stream",
     "text": [
      "Crawl data 12084558 success !!!\n"
     ]
    },
    {
     "name": "stderr",
     "output_type": "stream",
     "text": [
      " 33%|███▎      | 660/2024 [19:16<43:02,  1.89s/it]"
     ]
    },
    {
     "name": "stdout",
     "output_type": "stream",
     "text": [
      "Crawl data 272231278 success !!!\n"
     ]
    },
    {
     "name": "stderr",
     "output_type": "stream",
     "text": [
      " 33%|███▎      | 661/2024 [19:17<38:59,  1.72s/it]"
     ]
    },
    {
     "name": "stdout",
     "output_type": "stream",
     "text": [
      "Crawl data 262700192 success !!!\n"
     ]
    },
    {
     "name": "stderr",
     "output_type": "stream",
     "text": [
      " 33%|███▎      | 662/2024 [19:19<42:26,  1.87s/it]"
     ]
    },
    {
     "name": "stdout",
     "output_type": "stream",
     "text": [
      "Crawl data 201012741 success !!!\n"
     ]
    },
    {
     "name": "stderr",
     "output_type": "stream",
     "text": [
      " 33%|███▎      | 663/2024 [19:22<44:53,  1.98s/it]"
     ]
    },
    {
     "name": "stdout",
     "output_type": "stream",
     "text": [
      "Crawl data 221240035 success !!!\n"
     ]
    },
    {
     "name": "stderr",
     "output_type": "stream",
     "text": [
      " 33%|███▎      | 664/2024 [19:23<40:04,  1.77s/it]"
     ]
    },
    {
     "name": "stdout",
     "output_type": "stream",
     "text": [
      "Crawl data 252022171 success !!!\n"
     ]
    },
    {
     "name": "stderr",
     "output_type": "stream",
     "text": [
      " 33%|███▎      | 665/2024 [19:25<43:28,  1.92s/it]"
     ]
    },
    {
     "name": "stdout",
     "output_type": "stream",
     "text": [
      "Crawl data 69442634 success !!!\n"
     ]
    },
    {
     "name": "stderr",
     "output_type": "stream",
     "text": [
      " 33%|███▎      | 666/2024 [19:27<39:06,  1.73s/it]"
     ]
    },
    {
     "name": "stdout",
     "output_type": "stream",
     "text": [
      "Crawl data 262878530 success !!!\n"
     ]
    },
    {
     "name": "stderr",
     "output_type": "stream",
     "text": [
      " 33%|███▎      | 667/2024 [19:29<43:01,  1.90s/it]"
     ]
    },
    {
     "name": "stdout",
     "output_type": "stream",
     "text": [
      "Crawl data 715741 success !!!\n"
     ]
    },
    {
     "name": "stderr",
     "output_type": "stream",
     "text": [
      " 33%|███▎      | 668/2024 [19:31<45:13,  2.00s/it]"
     ]
    },
    {
     "name": "stdout",
     "output_type": "stream",
     "text": [
      "Crawl data 716145 success !!!\n"
     ]
    },
    {
     "name": "stderr",
     "output_type": "stream",
     "text": [
      " 33%|███▎      | 669/2024 [19:33<47:01,  2.08s/it]"
     ]
    },
    {
     "name": "stdout",
     "output_type": "stream",
     "text": [
      "Crawl data 204433627 success !!!\n"
     ]
    },
    {
     "name": "stderr",
     "output_type": "stream",
     "text": [
      " 33%|███▎      | 670/2024 [19:35<41:11,  1.83s/it]"
     ]
    },
    {
     "name": "stdout",
     "output_type": "stream",
     "text": [
      "Crawl data 50205681 success !!!\n"
     ]
    },
    {
     "name": "stderr",
     "output_type": "stream",
     "text": [
      " 33%|███▎      | 671/2024 [19:36<37:07,  1.65s/it]"
     ]
    },
    {
     "name": "stdout",
     "output_type": "stream",
     "text": [
      "Crawl data 86992960 success !!!\n"
     ]
    },
    {
     "name": "stderr",
     "output_type": "stream",
     "text": [
      " 33%|███▎      | 672/2024 [19:37<34:44,  1.54s/it]"
     ]
    },
    {
     "name": "stdout",
     "output_type": "stream",
     "text": [
      "Crawl data 50776014 success !!!\n"
     ]
    },
    {
     "name": "stderr",
     "output_type": "stream",
     "text": [
      " 33%|███▎      | 673/2024 [19:39<39:22,  1.75s/it]"
     ]
    },
    {
     "name": "stdout",
     "output_type": "stream",
     "text": [
      "Crawl data 263680677 success !!!\n"
     ]
    },
    {
     "name": "stderr",
     "output_type": "stream",
     "text": [
      " 33%|███▎      | 674/2024 [19:42<42:41,  1.90s/it]"
     ]
    },
    {
     "name": "stdout",
     "output_type": "stream",
     "text": [
      "Crawl data 128633018 success !!!\n"
     ]
    },
    {
     "name": "stderr",
     "output_type": "stream",
     "text": [
      " 33%|███▎      | 675/2024 [19:43<38:42,  1.72s/it]"
     ]
    },
    {
     "name": "stdout",
     "output_type": "stream",
     "text": [
      "Crawl data 214785347 success !!!\n"
     ]
    },
    {
     "name": "stderr",
     "output_type": "stream",
     "text": [
      " 33%|███▎      | 676/2024 [19:45<42:07,  1.87s/it]"
     ]
    },
    {
     "name": "stdout",
     "output_type": "stream",
     "text": [
      "Crawl data 1041834 success !!!\n"
     ]
    }
   ],
   "source": [
    "\n",
    "\n",
    "cookies = {\n",
    "    'TIKI_GUEST_TOKEN': '8jWSuIDBb2NGVzr6hsUZXpkP1FRin7lY',\n",
    "    'TOKENS': '{%22access_token%22:%228jWSuIDBb2NGVzr6hsUZXpkP1FRin7lY%22%2C%22expires_in%22:157680000%2C%22expires_at%22:1763654224277%2C%22guest_token%22:%228jWSuIDBb2NGVzr6hsUZXpkP1FRin7lY%22}',\n",
    "    'amp_99d374': 'eSc-_0HT1um7cb57E7dwA0...1enloc6a2.1enlrj4bc.1k.11.2l',\n",
    "    'amp_99d374_tiki.vn': 'eSc-_0HT1um7cb57E7dwA0...1enloc6a2.1enlrj2q9.3.1.1',\n",
    "    '_gcl_au': '1.1.559117409.1605974236',\n",
    "    '_ants_utm_v2': '',\n",
    "    '_pk_id.638735871.2fc5': 'b92ae025fbbdb31f.1605974236.1.1605977607.1605974236.',\n",
    "    '_pk_ses.638735871.2fc5': '*',\n",
    "    '_trackity': '70e316b0-96f2-dbe1-a2ed-43ff60419991',\n",
    "    '_ga_NKX31X43RV': 'GS1.1.1605974235.1.1.1605977607.0',\n",
    "    '_ga': 'GA1.2.657946765.1605974236',\n",
    "    'ai_client_id': '11935756853.1605974227',\n",
    "    'an_session': 'zizkzrzjzkzizhzkzlznzdzizizqzgzmzkzmzlzrzmzgzdzizlzjzmzqzkzlzjzgzjzdzizizdzizlzjzmzqzkzlzjzgzjzdzizlzjzmzqzkzlzjzgzjzdzjzdzhzqzdzizd2f27zdzjzdzlzmzmznzq',\n",
    "    'au_aid': '11935756853',\n",
    "    'dgs': '1605977598%3A3%3A0',\n",
    "    'au_gt': '1605974227146',\n",
    "    '_ants_services': '%5B%22cuid%22%5D',\n",
    "    '__admUTMtime': '1605974236',\n",
    "    '__iid': '749',\n",
    "    '__su': '0',\n",
    "    '_bs': 'bb9a32f6-ab13-ce80-92d6-57fd3fd6e4c8',\n",
    "    '_gid': 'GA1.2.867846791.1605974237',\n",
    "    '_fbp': 'fb.1.1605974237134.1297408816',\n",
    "    '_hjid': 'f152cf33-7323-4410-b9ae-79f6622ebc48',\n",
    "    '_hjFirstSeen': '1',\n",
    "    '_hjAbsoluteSessionInProgress': '0',\n",
    "    'tiki_client_id': '657946765.1605974236',\n",
    "    '__gads': 'ID=ae56424189ecccbe-227eb8e1d6c400a8:T=1605974229:RT=1605974229:S=ALNI_MZFWYf2BAjzCSiRNLC3bKI-W_7YHA',\n",
    "    'proxy_s_sv': '1605978058486',\n",
    "    'TKSESSID': '8bcd49b02e1e16aa1cdb795c54d7b460',\n",
    "    'TIKI_RECOMMENDATION': '21dd50e7f7c194df673ea3b717459249',\n",
    "    'cto_bundle': '7L6ha19NVXNkQmJ6aEVLcXNqbHdjcVZoQ0kzTUZwcEMyNCUyRm5nV3A2SThuOGxTRjI4Wlk1NU9xRnBEOG9tUjd2ekhyZEQxeE9qaVQ4MnFpbiUyRllGd2JiQUpTMW94MlNsTnYxd3dOYWtRcXhGdDNxSjdBVmNxU0FnUSUyQjlWYjhqTUtLdVl2cTBheWFvS0ZnY2pLdlpWRlEyUFF0Y1ElM0QlM0Q',\n",
    "    'TIKI_RECENTLYVIEWED': '58259141',\n",
    "    '_ants_event_his': '%7B%22action%22%3A%22view%22%2C%22time%22%3A1605977607258%7D',\n",
    "    '_hjIncludedInPageviewSample': '1',\n",
    "    '_hjIncludedInSessionSample': '1',\n",
    "    '_gat': '1',\n",
    "}\n",
    "\n",
    "headers = {\n",
    "    'User-Agent': 'Mozilla/5.0 (Windows NT 10.0; Win64; x64) AppleWebKit/537.36 (KHTML, like Gecko) Chrome/117.0.0.0 Safari/537.36',\n",
    "    'Accept': 'application/json, text/plain, /',\n",
    "    'Accept-Language': 'en-US;q=0.5,en;q=0.3',\n",
    "    'Referer': 'https://tiki.vn/sua-rua-mat-simple-giup-kiem-dau-ngua-mun-cho-da-mun-nhay-cam-khong-chua-xa-phong-150ml-chinh-hang-doc-quyen-p117170051.html?itm_campaign=SRC_YPD_TKA_PLA_UNK_ALL_UNK_UNK_UNK_UNK_X.173132_Y.1755459_Z.3365632_CN.Skin_Product_FW_Simple&itm_medium=CPC&itm_source=tiki-ads&spid=117170052',\n",
    "    'X-Guest-Token': 'ruNHK0vfxczpXV35yZAaMnQ7s2qk9JBT',\n",
    "    'Connection': 'keep-alive',\n",
    "    'TE': 'Trailers',\n",
    "}\n",
    "\n",
    "params = {\n",
    "    'page': '1',\n",
    "    'sort': 'score|desc,id|desc,stars|all',\n",
    "    'spid': '117170052',\n",
    "    'product_id': '117170051',\n",
    "    'seller_id': '1',\n",
    "    'limit': '5',\n",
    "    'include': 'comments,contribute_info,attribute_vote_summary'\n",
    "\n",
    "}\n",
    "\n",
    "def comment_parser(json_data, pid):\n",
    "    d = dict()\n",
    "\n",
    "    d['pid'] = pid\n",
    "    #d['stars'] = json_data.get('stars')\n",
    "    #print(d['stars'].get('1').get('count'))\n",
    "    if json_data.get('stars'):\n",
    "        for i in [1,2,3,4,5]:\n",
    "            d[f'{i}_star'] = json_data.get('stars').get(f'{i}').get('count')\n",
    "    \n",
    "    d['reviews_count'] = json_data.get('reviews_count')\n",
    "\n",
    "    if json_data.get('review_photo'):\n",
    "        d['total'] = json_data.get('review_photo').get('total')\n",
    "        d['total_photo'] = json_data.get('review_photo').get('total_photo')\n",
    "    \n",
    "    if json_data.get('attribute_vote_summary'):\n",
    "        if json_data.get('attribute_vote_summary').get('votes'):\n",
    "            vot = json_data.get('attribute_vote_summary')['votes']\n",
    "            for vo in vot:\n",
    "                code = vo.get('attribute_id')\n",
    "                agree = vo.get('agree')\n",
    "                disagree = vo.get('disagree')\n",
    "                no_idea = vo.get('no_idea')\n",
    "                if code:\n",
    "                    d[code] = {'agree': agree, 'disagree': disagree, 'no_idea': no_idea}\n",
    "    return d\n",
    "\n",
    "df_id = pd.read_csv('product_id_ncds.csv')\n",
    "p_ids = df_id.id.to_list()\n",
    "print(p_ids)\n",
    "result = []\n",
    "Err = []\n",
    "for pid in tqdm(p_ids, total=len(p_ids)):\n",
    "    params['product_id'] = pid\n",
    "    try:\n",
    "        response = requests.get('https://tiki.vn/api/v2/reviews', headers=headers, params=params, cookies=cookies)\n",
    "        \n",
    "        if response.status_code == 200:\n",
    "            print('Crawl data {} success !!!'.format(pid))\n",
    "            result.append(comment_parser(response.json(), pid))\n",
    "        else:\n",
    "            print('Failed to crawl data for ID {}: Status code {}'.format(pid, response.status_code))\n",
    "            \n",
    "    except Exception as e:\n",
    "        # In ra lỗi cụ thể mà chúng ta gặp phải\n",
    "        print('Error when processing ID {}: {}'.format(pid, str(e)))\n",
    "        Err.append(pid)\n",
    "    time.sleep(random.randrange(1, 3))\n",
    "\n",
    "df_rating = pd.DataFrame(result)\n",
    "df_rating.to_csv('tiki_rating.csv', index=False)"
   ]
  },
  {
   "cell_type": "code",
   "execution_count": null,
   "metadata": {},
   "outputs": [],
   "source": []
  }
 ],
 "metadata": {
  "kernelspec": {
   "display_name": "base",
   "language": "python",
   "name": "python3"
  },
  "language_info": {
   "codemirror_mode": {
    "name": "ipython",
    "version": 3
   },
   "file_extension": ".py",
   "mimetype": "text/x-python",
   "name": "python",
   "nbconvert_exporter": "python",
   "pygments_lexer": "ipython3",
   "version": "3.9.12"
  }
 },
 "nbformat": 4,
 "nbformat_minor": 2
}
